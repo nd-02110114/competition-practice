{
 "cells": [
  {
   "cell_type": "markdown",
   "metadata": {},
   "source": [
    "# Ensemble\n",
    "\n",
    "leaderboard : 526.99942362739"
   ]
  },
  {
   "cell_type": "code",
   "execution_count": 1,
   "metadata": {},
   "outputs": [],
   "source": [
    "import warnings\n",
    "import numpy as np\n",
    "import pandas as pd\n",
    "\n",
    "pd.set_option('display.max_columns', 500)\n",
    "warnings.simplefilter(\"ignore\")"
   ]
  },
  {
   "cell_type": "code",
   "execution_count": 2,
   "metadata": {},
   "outputs": [],
   "source": [
    "DATA_DIR = '../../dataset/input/'\n",
    "test_raw = pd.read_csv(DATA_DIR + 'test.csv')"
   ]
  },
  {
   "cell_type": "code",
   "execution_count": 3,
   "metadata": {},
   "outputs": [],
   "source": [
    "duplicated_df = test_raw[test_raw.duplicated(subset='timestamp', keep=False)]\n",
    "unique_timestamp = duplicated_df['timestamp'].unique()\n",
    "\n",
    "dupliacted_idx_collection = []\n",
    "for timestamp in unique_timestamp:\n",
    "    idxs = duplicated_df[duplicated_df['timestamp'] == timestamp].index.values\n",
    "    dupliacted_idx_collection.append(idxs)"
   ]
  },
  {
   "cell_type": "code",
   "execution_count": 4,
   "metadata": {},
   "outputs": [],
   "source": [
    "files = [\n",
    "    'submission/v9lgb9263289631.txt',\n",
    "    'submission/v8lgb9263289631.txt',\n",
    "    'submission/v7lgb9263289631.txt',\n",
    "    'submission/v6lgb9263289631.txt',\n",
    "]\n",
    "\n",
    "# ensemble\n",
    "data = []\n",
    "for file in files:\n",
    "    tmp = np.loadtxt(file)\n",
    "    data.append(tmp)\n",
    "result = np.sum(data, axis=0) / 4\n",
    "\n",
    "# 重複データを平均で置き換える\n",
    "for idx in dupliacted_idx_collection:\n",
    "    result[idx] = np.mean(result[idx])\n",
    "\n",
    "save_path = './submission/ensemblev1lgb{}.txt'.format(9263289631)\n",
    "np.savetxt(save_path, result)"
   ]
  }
 ],
 "metadata": {
  "kernelspec": {
   "display_name": "Python 3",
   "language": "python",
   "name": "python3"
  },
  "language_info": {
   "codemirror_mode": {
    "name": "ipython",
    "version": 3
   },
   "file_extension": ".py",
   "mimetype": "text/x-python",
   "name": "python",
   "nbconvert_exporter": "python",
   "pygments_lexer": "ipython3",
   "version": "3.6.5"
  }
 },
 "nbformat": 4,
 "nbformat_minor": 4
}
