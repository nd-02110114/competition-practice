{
 "cells": [
  {
   "cell_type": "markdown",
   "metadata": {},
   "source": [
    "# emb_1\n",
    "\n",
    "* validを2017/01/01~2017/09/30にする\n",
    "* NNで回帰してみた"
   ]
  },
  {
   "cell_type": "code",
   "execution_count": 1,
   "metadata": {},
   "outputs": [
    {
     "name": "stderr",
     "output_type": "stream",
     "text": [
      "WARNING:root:This caffe2 python run does not have GPU support. Will run in CPU only mode.\n"
     ]
    }
   ],
   "source": [
    "import optuna\n",
    "import warnings\n",
    "import numpy as np\n",
    "import pandas as pd\n",
    "from tqdm import tqdm\n",
    "from datetime import timedelta, datetime\n",
    "from sklearn.preprocessing import StandardScaler, LabelEncoder\n",
    "from sklearn.metrics import mean_squared_error\n",
    "\n",
    "import torch\n",
    "import torch.nn as nn\n",
    "import pytorch_lightning as pl\n",
    "from test_tube import Experiment\n",
    "from torch.nn import functional as F\n",
    "from torch.utils.data import DataLoader, Dataset\n",
    "from pytorch_lightning import Trainer\n",
    "from pytorch_lightning.logging import TestTubeLogger\n",
    "from pytorch_lightning.callbacks import EarlyStopping, ModelCheckpoint\n",
    "\n",
    "use_cuda = torch.cuda.is_available() and True\n",
    "device = torch.device(\"cuda\" if use_cuda else \"cpu\")\n",
    "\n",
    "pd.set_option('display.max_columns', 500)\n",
    "warnings.simplefilter(\"ignore\")"
   ]
  },
  {
   "cell_type": "markdown",
   "metadata": {},
   "source": [
    "### load dataset"
   ]
  },
  {
   "cell_type": "code",
   "execution_count": 2,
   "metadata": {},
   "outputs": [],
   "source": [
    "DATA_DIR = '../../dataset/input/'\n",
    "train_raw = pd.read_csv(DATA_DIR + 'train.csv')\n",
    "test_raw = pd.read_csv(DATA_DIR + 'test.csv')"
   ]
  },
  {
   "cell_type": "code",
   "execution_count": 3,
   "metadata": {},
   "outputs": [
    {
     "data": {
      "text/html": [
       "<div>\n",
       "<style scoped>\n",
       "    .dataframe tbody tr th:only-of-type {\n",
       "        vertical-align: middle;\n",
       "    }\n",
       "\n",
       "    .dataframe tbody tr th {\n",
       "        vertical-align: top;\n",
       "    }\n",
       "\n",
       "    .dataframe thead th {\n",
       "        text-align: right;\n",
       "    }\n",
       "</style>\n",
       "<table border=\"1\" class=\"dataframe\">\n",
       "  <thead>\n",
       "    <tr style=\"text-align: right;\">\n",
       "      <th></th>\n",
       "      <th>holiday</th>\n",
       "      <th>temperature</th>\n",
       "      <th>rain_in_hour</th>\n",
       "      <th>snow_in_hour</th>\n",
       "      <th>clouds_cover</th>\n",
       "      <th>weather</th>\n",
       "      <th>weather_detail</th>\n",
       "      <th>timestamp</th>\n",
       "      <th>traffic_volume</th>\n",
       "    </tr>\n",
       "  </thead>\n",
       "  <tbody>\n",
       "    <tr>\n",
       "      <th>0</th>\n",
       "      <td>New Years Day</td>\n",
       "      <td>263.49</td>\n",
       "      <td>0.0</td>\n",
       "      <td>0.0</td>\n",
       "      <td>58</td>\n",
       "      <td>Clouds</td>\n",
       "      <td>broken clouds</td>\n",
       "      <td>2013-01-01 00:00:00</td>\n",
       "      <td>1439</td>\n",
       "    </tr>\n",
       "    <tr>\n",
       "      <th>1</th>\n",
       "      <td>None</td>\n",
       "      <td>263.78</td>\n",
       "      <td>0.0</td>\n",
       "      <td>0.0</td>\n",
       "      <td>40</td>\n",
       "      <td>Clouds</td>\n",
       "      <td>scattered clouds</td>\n",
       "      <td>2013-01-01 01:00:00</td>\n",
       "      <td>1502</td>\n",
       "    </tr>\n",
       "    <tr>\n",
       "      <th>2</th>\n",
       "      <td>None</td>\n",
       "      <td>264.16</td>\n",
       "      <td>0.0</td>\n",
       "      <td>0.0</td>\n",
       "      <td>75</td>\n",
       "      <td>Snow</td>\n",
       "      <td>heavy snow</td>\n",
       "      <td>2013-01-01 02:00:00</td>\n",
       "      <td>933</td>\n",
       "    </tr>\n",
       "    <tr>\n",
       "      <th>3</th>\n",
       "      <td>None</td>\n",
       "      <td>263.95</td>\n",
       "      <td>0.0</td>\n",
       "      <td>0.0</td>\n",
       "      <td>90</td>\n",
       "      <td>Clouds</td>\n",
       "      <td>overcast clouds</td>\n",
       "      <td>2013-01-01 03:00:00</td>\n",
       "      <td>576</td>\n",
       "    </tr>\n",
       "    <tr>\n",
       "      <th>4</th>\n",
       "      <td>None</td>\n",
       "      <td>263.65</td>\n",
       "      <td>0.0</td>\n",
       "      <td>0.0</td>\n",
       "      <td>90</td>\n",
       "      <td>Clouds</td>\n",
       "      <td>overcast clouds</td>\n",
       "      <td>2013-01-01 04:00:00</td>\n",
       "      <td>372</td>\n",
       "    </tr>\n",
       "  </tbody>\n",
       "</table>\n",
       "</div>"
      ],
      "text/plain": [
       "         holiday  temperature  rain_in_hour  snow_in_hour  clouds_cover  \\\n",
       "0  New Years Day       263.49           0.0           0.0            58   \n",
       "1           None       263.78           0.0           0.0            40   \n",
       "2           None       264.16           0.0           0.0            75   \n",
       "3           None       263.95           0.0           0.0            90   \n",
       "4           None       263.65           0.0           0.0            90   \n",
       "\n",
       "  weather    weather_detail            timestamp  traffic_volume  \n",
       "0  Clouds     broken clouds  2013-01-01 00:00:00            1439  \n",
       "1  Clouds  scattered clouds  2013-01-01 01:00:00            1502  \n",
       "2    Snow        heavy snow  2013-01-01 02:00:00             933  \n",
       "3  Clouds   overcast clouds  2013-01-01 03:00:00             576  \n",
       "4  Clouds   overcast clouds  2013-01-01 04:00:00             372  "
      ]
     },
     "execution_count": 3,
     "metadata": {},
     "output_type": "execute_result"
    }
   ],
   "source": [
    "train_raw.head()"
   ]
  },
  {
   "cell_type": "code",
   "execution_count": 4,
   "metadata": {},
   "outputs": [
    {
     "data": {
      "text/html": [
       "<div>\n",
       "<style scoped>\n",
       "    .dataframe tbody tr th:only-of-type {\n",
       "        vertical-align: middle;\n",
       "    }\n",
       "\n",
       "    .dataframe tbody tr th {\n",
       "        vertical-align: top;\n",
       "    }\n",
       "\n",
       "    .dataframe thead th {\n",
       "        text-align: right;\n",
       "    }\n",
       "</style>\n",
       "<table border=\"1\" class=\"dataframe\">\n",
       "  <thead>\n",
       "    <tr style=\"text-align: right;\">\n",
       "      <th></th>\n",
       "      <th>holiday</th>\n",
       "      <th>temperature</th>\n",
       "      <th>rain_in_hour</th>\n",
       "      <th>snow_in_hour</th>\n",
       "      <th>clouds_cover</th>\n",
       "      <th>weather</th>\n",
       "      <th>weather_detail</th>\n",
       "      <th>timestamp</th>\n",
       "    </tr>\n",
       "  </thead>\n",
       "  <tbody>\n",
       "    <tr>\n",
       "      <th>0</th>\n",
       "      <td>New Years Day</td>\n",
       "      <td>249.36</td>\n",
       "      <td>0.0</td>\n",
       "      <td>0.0</td>\n",
       "      <td>1</td>\n",
       "      <td>Clear</td>\n",
       "      <td>sky is clear</td>\n",
       "      <td>2018-01-01 00:00:00</td>\n",
       "    </tr>\n",
       "    <tr>\n",
       "      <th>1</th>\n",
       "      <td>None</td>\n",
       "      <td>249.08</td>\n",
       "      <td>0.0</td>\n",
       "      <td>0.0</td>\n",
       "      <td>1</td>\n",
       "      <td>Clear</td>\n",
       "      <td>sky is clear</td>\n",
       "      <td>2018-01-01 01:00:00</td>\n",
       "    </tr>\n",
       "    <tr>\n",
       "      <th>2</th>\n",
       "      <td>None</td>\n",
       "      <td>248.86</td>\n",
       "      <td>0.0</td>\n",
       "      <td>0.0</td>\n",
       "      <td>1</td>\n",
       "      <td>Clear</td>\n",
       "      <td>sky is clear</td>\n",
       "      <td>2018-01-01 02:00:00</td>\n",
       "    </tr>\n",
       "    <tr>\n",
       "      <th>3</th>\n",
       "      <td>None</td>\n",
       "      <td>248.72</td>\n",
       "      <td>0.0</td>\n",
       "      <td>0.0</td>\n",
       "      <td>1</td>\n",
       "      <td>Clear</td>\n",
       "      <td>sky is clear</td>\n",
       "      <td>2018-01-01 03:00:00</td>\n",
       "    </tr>\n",
       "    <tr>\n",
       "      <th>4</th>\n",
       "      <td>None</td>\n",
       "      <td>248.43</td>\n",
       "      <td>0.0</td>\n",
       "      <td>0.0</td>\n",
       "      <td>1</td>\n",
       "      <td>Clear</td>\n",
       "      <td>sky is clear</td>\n",
       "      <td>2018-01-01 04:00:00</td>\n",
       "    </tr>\n",
       "  </tbody>\n",
       "</table>\n",
       "</div>"
      ],
      "text/plain": [
       "         holiday  temperature  rain_in_hour  snow_in_hour  clouds_cover  \\\n",
       "0  New Years Day       249.36           0.0           0.0             1   \n",
       "1           None       249.08           0.0           0.0             1   \n",
       "2           None       248.86           0.0           0.0             1   \n",
       "3           None       248.72           0.0           0.0             1   \n",
       "4           None       248.43           0.0           0.0             1   \n",
       "\n",
       "  weather weather_detail            timestamp  \n",
       "0   Clear   sky is clear  2018-01-01 00:00:00  \n",
       "1   Clear   sky is clear  2018-01-01 01:00:00  \n",
       "2   Clear   sky is clear  2018-01-01 02:00:00  \n",
       "3   Clear   sky is clear  2018-01-01 03:00:00  \n",
       "4   Clear   sky is clear  2018-01-01 04:00:00  "
      ]
     },
     "execution_count": 4,
     "metadata": {},
     "output_type": "execute_result"
    }
   ],
   "source": [
    "test_raw.head()"
   ]
  },
  {
   "cell_type": "code",
   "execution_count": 5,
   "metadata": {},
   "outputs": [
    {
     "name": "stdout",
     "output_type": "stream",
     "text": [
      "shape of train df :  (37696, 9)\n",
      "shape of test df :  (7949, 8)\n"
     ]
    }
   ],
   "source": [
    "print(\"shape of train df : \", train_raw.shape)\n",
    "print(\"shape of test df : \", test_raw.shape)"
   ]
  },
  {
   "cell_type": "markdown",
   "metadata": {},
   "source": [
    "### preprocess"
   ]
  },
  {
   "cell_type": "code",
   "execution_count": 6,
   "metadata": {},
   "outputs": [],
   "source": [
    "# remove irregular data\n",
    "train_raw = train_raw[train_raw['temperature'] != 0]\n",
    "train_raw = train_raw[train_raw['rain_in_hour']  != 9831.30]"
   ]
  },
  {
   "cell_type": "code",
   "execution_count": 7,
   "metadata": {},
   "outputs": [
    {
     "data": {
      "text/plain": [
       "(37685, 9)"
      ]
     },
     "execution_count": 7,
     "metadata": {},
     "output_type": "execute_result"
    }
   ],
   "source": [
    "train_raw.shape"
   ]
  },
  {
   "cell_type": "code",
   "execution_count": 8,
   "metadata": {},
   "outputs": [],
   "source": [
    "n_train = len(train_raw)\n",
    "tmp_df = pd.concat([train_raw, test_raw], sort=True)"
   ]
  },
  {
   "cell_type": "code",
   "execution_count": 9,
   "metadata": {},
   "outputs": [],
   "source": [
    "# feature enginnering from timestamp\n",
    "def preprocessor_for_date(df):\n",
    "    # basic\n",
    "    df['date'] = pd.to_datetime(df['timestamp'])\n",
    "    df['Year'] = df['date'].apply(lambda x: x.year)\n",
    "    df['Month'] = df['date'].apply(lambda x: x.month)\n",
    "    df['Day'] = df['date'].apply(lambda x: x.day)\n",
    "    df['Hour'] = df['date'].apply(lambda x: x.hour)\n",
    "    df['DayOfWeek'] = df['date'].apply(lambda x: x.dayofweek)\n",
    "    df['DayOfYear'] = df['date'].apply(lambda x: x.dayofyear)\n",
    "    df['WeekOfYear'] = df['date'].apply(lambda x: x.weekofyear)\n",
    "    df['WeekOfMonth'] = df['date'].apply(lambda x: x.day // 7 + 1)\n",
    "    return df\n",
    "\n",
    "tmp_df = preprocessor_for_date(tmp_df)"
   ]
  },
  {
   "cell_type": "code",
   "execution_count": 10,
   "metadata": {},
   "outputs": [],
   "source": [
    "# fill correct value for holidays column\n",
    "def preprocessor_for_holidays(df):\n",
    "    df['date'] = pd.to_datetime(df['timestamp'])\n",
    "    holidays_col = df[df['holiday'] != 'None']\n",
    "    for holiday, date in zip(holidays_col['holiday'], holidays_col['date']):\n",
    "        df['holiday'].mask((df['date'] > date) & (df['date'] < date +  timedelta(days=1)), holiday, inplace=True)\n",
    "    return df\n",
    "\n",
    "tmp_df = preprocessor_for_holidays(tmp_df)"
   ]
  },
  {
   "cell_type": "code",
   "execution_count": 11,
   "metadata": {},
   "outputs": [],
   "source": [
    "# label encoding\n",
    "def label_encoding(df, categorical_features):\n",
    "    label_encoders = {}\n",
    "    for cat_col in categorical_features:\n",
    "        label_encoders[cat_col] = LabelEncoder()\n",
    "        df[cat_col] = label_encoders[cat_col].fit_transform(df[cat_col])\n",
    "    return df\n",
    "\n",
    "categorical_features = ['holiday', 'weather', 'weather_detail', 'Month', 'Day', 'Hour', \n",
    "                        'DayOfWeek', 'DayOfYear', 'WeekOfYear', 'WeekOfMonth']\n",
    "tmp_df = label_encoding(tmp_df, categorical_features)\n",
    "\n",
    "# emb_dimsが必要\n",
    "cat_dims = [int(tmp_df[col].nunique()) for col in categorical_features]\n",
    "emb_dims = [(x, min(50, (x + 1) // 2)) for x in cat_dims]"
   ]
  },
  {
   "cell_type": "code",
   "execution_count": 12,
   "metadata": {},
   "outputs": [],
   "source": [
    "# scaling \n",
    "def scaling_continuous_feature(df, numerical_features):\n",
    "    scaler = StandardScaler()\n",
    "    df[numerical_features] = scaler.fit_transform(df[numerical_features])\n",
    "    return df\n",
    "\n",
    "continuous_feature = ['temperature', 'rain_in_hour', 'snow_in_hour', 'clouds_cover']\n",
    "tmp_df = scaling_continuous_feature(tmp_df, continuous_feature)"
   ]
  },
  {
   "cell_type": "code",
   "execution_count": 13,
   "metadata": {},
   "outputs": [
    {
     "data": {
      "text/html": [
       "<div>\n",
       "<style scoped>\n",
       "    .dataframe tbody tr th:only-of-type {\n",
       "        vertical-align: middle;\n",
       "    }\n",
       "\n",
       "    .dataframe tbody tr th {\n",
       "        vertical-align: top;\n",
       "    }\n",
       "\n",
       "    .dataframe thead th {\n",
       "        text-align: right;\n",
       "    }\n",
       "</style>\n",
       "<table border=\"1\" class=\"dataframe\">\n",
       "  <thead>\n",
       "    <tr style=\"text-align: right;\">\n",
       "      <th></th>\n",
       "      <th>clouds_cover</th>\n",
       "      <th>holiday</th>\n",
       "      <th>rain_in_hour</th>\n",
       "      <th>snow_in_hour</th>\n",
       "      <th>temperature</th>\n",
       "      <th>timestamp</th>\n",
       "      <th>traffic_volume</th>\n",
       "      <th>weather</th>\n",
       "      <th>weather_detail</th>\n",
       "      <th>date</th>\n",
       "      <th>Year</th>\n",
       "      <th>Month</th>\n",
       "      <th>Day</th>\n",
       "      <th>Hour</th>\n",
       "      <th>DayOfWeek</th>\n",
       "      <th>DayOfYear</th>\n",
       "      <th>WeekOfYear</th>\n",
       "      <th>WeekOfMonth</th>\n",
       "    </tr>\n",
       "  </thead>\n",
       "  <tbody>\n",
       "    <tr>\n",
       "      <th>0</th>\n",
       "      <td>0.243744</td>\n",
       "      <td>6</td>\n",
       "      <td>-0.133546</td>\n",
       "      <td>-0.027985</td>\n",
       "      <td>-1.412115</td>\n",
       "      <td>2013-01-01 00:00:00</td>\n",
       "      <td>1439.0</td>\n",
       "      <td>1</td>\n",
       "      <td>2</td>\n",
       "      <td>2013-01-01 00:00:00</td>\n",
       "      <td>2013</td>\n",
       "      <td>0</td>\n",
       "      <td>0</td>\n",
       "      <td>0</td>\n",
       "      <td>1</td>\n",
       "      <td>0</td>\n",
       "      <td>0</td>\n",
       "      <td>0</td>\n",
       "    </tr>\n",
       "    <tr>\n",
       "      <th>1</th>\n",
       "      <td>-0.217067</td>\n",
       "      <td>6</td>\n",
       "      <td>-0.133546</td>\n",
       "      <td>-0.027985</td>\n",
       "      <td>-1.389521</td>\n",
       "      <td>2013-01-01 01:00:00</td>\n",
       "      <td>1502.0</td>\n",
       "      <td>1</td>\n",
       "      <td>24</td>\n",
       "      <td>2013-01-01 01:00:00</td>\n",
       "      <td>2013</td>\n",
       "      <td>0</td>\n",
       "      <td>0</td>\n",
       "      <td>1</td>\n",
       "      <td>1</td>\n",
       "      <td>0</td>\n",
       "      <td>0</td>\n",
       "      <td>0</td>\n",
       "    </tr>\n",
       "    <tr>\n",
       "      <th>2</th>\n",
       "      <td>0.678953</td>\n",
       "      <td>6</td>\n",
       "      <td>-0.133546</td>\n",
       "      <td>-0.027985</td>\n",
       "      <td>-1.359916</td>\n",
       "      <td>2013-01-01 02:00:00</td>\n",
       "      <td>933.0</td>\n",
       "      <td>8</td>\n",
       "      <td>10</td>\n",
       "      <td>2013-01-01 02:00:00</td>\n",
       "      <td>2013</td>\n",
       "      <td>0</td>\n",
       "      <td>0</td>\n",
       "      <td>2</td>\n",
       "      <td>1</td>\n",
       "      <td>0</td>\n",
       "      <td>0</td>\n",
       "      <td>0</td>\n",
       "    </tr>\n",
       "    <tr>\n",
       "      <th>3</th>\n",
       "      <td>1.062962</td>\n",
       "      <td>6</td>\n",
       "      <td>-0.133546</td>\n",
       "      <td>-0.027985</td>\n",
       "      <td>-1.376277</td>\n",
       "      <td>2013-01-01 03:00:00</td>\n",
       "      <td>576.0</td>\n",
       "      <td>1</td>\n",
       "      <td>19</td>\n",
       "      <td>2013-01-01 03:00:00</td>\n",
       "      <td>2013</td>\n",
       "      <td>0</td>\n",
       "      <td>0</td>\n",
       "      <td>3</td>\n",
       "      <td>1</td>\n",
       "      <td>0</td>\n",
       "      <td>0</td>\n",
       "      <td>0</td>\n",
       "    </tr>\n",
       "    <tr>\n",
       "      <th>4</th>\n",
       "      <td>1.062962</td>\n",
       "      <td>6</td>\n",
       "      <td>-0.133546</td>\n",
       "      <td>-0.027985</td>\n",
       "      <td>-1.399649</td>\n",
       "      <td>2013-01-01 04:00:00</td>\n",
       "      <td>372.0</td>\n",
       "      <td>1</td>\n",
       "      <td>19</td>\n",
       "      <td>2013-01-01 04:00:00</td>\n",
       "      <td>2013</td>\n",
       "      <td>0</td>\n",
       "      <td>0</td>\n",
       "      <td>4</td>\n",
       "      <td>1</td>\n",
       "      <td>0</td>\n",
       "      <td>0</td>\n",
       "      <td>0</td>\n",
       "    </tr>\n",
       "  </tbody>\n",
       "</table>\n",
       "</div>"
      ],
      "text/plain": [
       "   clouds_cover  holiday  rain_in_hour  snow_in_hour  temperature  \\\n",
       "0      0.243744        6     -0.133546     -0.027985    -1.412115   \n",
       "1     -0.217067        6     -0.133546     -0.027985    -1.389521   \n",
       "2      0.678953        6     -0.133546     -0.027985    -1.359916   \n",
       "3      1.062962        6     -0.133546     -0.027985    -1.376277   \n",
       "4      1.062962        6     -0.133546     -0.027985    -1.399649   \n",
       "\n",
       "             timestamp  traffic_volume  weather  weather_detail  \\\n",
       "0  2013-01-01 00:00:00          1439.0        1               2   \n",
       "1  2013-01-01 01:00:00          1502.0        1              24   \n",
       "2  2013-01-01 02:00:00           933.0        8              10   \n",
       "3  2013-01-01 03:00:00           576.0        1              19   \n",
       "4  2013-01-01 04:00:00           372.0        1              19   \n",
       "\n",
       "                 date  Year  Month  Day  Hour  DayOfWeek  DayOfYear  \\\n",
       "0 2013-01-01 00:00:00  2013      0    0     0          1          0   \n",
       "1 2013-01-01 01:00:00  2013      0    0     1          1          0   \n",
       "2 2013-01-01 02:00:00  2013      0    0     2          1          0   \n",
       "3 2013-01-01 03:00:00  2013      0    0     3          1          0   \n",
       "4 2013-01-01 04:00:00  2013      0    0     4          1          0   \n",
       "\n",
       "   WeekOfYear  WeekOfMonth  \n",
       "0           0            0  \n",
       "1           0            0  \n",
       "2           0            0  \n",
       "3           0            0  \n",
       "4           0            0  "
      ]
     },
     "execution_count": 13,
     "metadata": {},
     "output_type": "execute_result"
    }
   ],
   "source": [
    "tmp_df.head()"
   ]
  },
  {
   "cell_type": "code",
   "execution_count": 14,
   "metadata": {},
   "outputs": [
    {
     "data": {
      "text/html": [
       "<div>\n",
       "<style scoped>\n",
       "    .dataframe tbody tr th:only-of-type {\n",
       "        vertical-align: middle;\n",
       "    }\n",
       "\n",
       "    .dataframe tbody tr th {\n",
       "        vertical-align: top;\n",
       "    }\n",
       "\n",
       "    .dataframe thead th {\n",
       "        text-align: right;\n",
       "    }\n",
       "</style>\n",
       "<table border=\"1\" class=\"dataframe\">\n",
       "  <thead>\n",
       "    <tr style=\"text-align: right;\">\n",
       "      <th></th>\n",
       "      <th>clouds_cover</th>\n",
       "      <th>holiday</th>\n",
       "      <th>rain_in_hour</th>\n",
       "      <th>snow_in_hour</th>\n",
       "      <th>temperature</th>\n",
       "      <th>timestamp</th>\n",
       "      <th>traffic_volume</th>\n",
       "      <th>weather</th>\n",
       "      <th>weather_detail</th>\n",
       "      <th>date</th>\n",
       "      <th>Year</th>\n",
       "      <th>Month</th>\n",
       "      <th>Day</th>\n",
       "      <th>Hour</th>\n",
       "      <th>DayOfWeek</th>\n",
       "      <th>DayOfYear</th>\n",
       "      <th>WeekOfYear</th>\n",
       "      <th>WeekOfMonth</th>\n",
       "    </tr>\n",
       "  </thead>\n",
       "  <tbody>\n",
       "    <tr>\n",
       "      <th>7944</th>\n",
       "      <td>0.678953</td>\n",
       "      <td>7</td>\n",
       "      <td>-0.133546</td>\n",
       "      <td>-0.027985</td>\n",
       "      <td>0.142922</td>\n",
       "      <td>2018-09-30 19:00:00</td>\n",
       "      <td>NaN</td>\n",
       "      <td>1</td>\n",
       "      <td>2</td>\n",
       "      <td>2018-09-30 19:00:00</td>\n",
       "      <td>2018</td>\n",
       "      <td>8</td>\n",
       "      <td>29</td>\n",
       "      <td>19</td>\n",
       "      <td>6</td>\n",
       "      <td>272</td>\n",
       "      <td>38</td>\n",
       "      <td>4</td>\n",
       "    </tr>\n",
       "    <tr>\n",
       "      <th>7945</th>\n",
       "      <td>1.062962</td>\n",
       "      <td>7</td>\n",
       "      <td>-0.133546</td>\n",
       "      <td>-0.027985</td>\n",
       "      <td>0.089165</td>\n",
       "      <td>2018-09-30 20:00:00</td>\n",
       "      <td>NaN</td>\n",
       "      <td>1</td>\n",
       "      <td>19</td>\n",
       "      <td>2018-09-30 20:00:00</td>\n",
       "      <td>2018</td>\n",
       "      <td>8</td>\n",
       "      <td>29</td>\n",
       "      <td>20</td>\n",
       "      <td>6</td>\n",
       "      <td>272</td>\n",
       "      <td>38</td>\n",
       "      <td>4</td>\n",
       "    </tr>\n",
       "    <tr>\n",
       "      <th>7946</th>\n",
       "      <td>1.062962</td>\n",
       "      <td>7</td>\n",
       "      <td>-0.133546</td>\n",
       "      <td>-0.027985</td>\n",
       "      <td>0.086828</td>\n",
       "      <td>2018-09-30 21:00:00</td>\n",
       "      <td>NaN</td>\n",
       "      <td>10</td>\n",
       "      <td>21</td>\n",
       "      <td>2018-09-30 21:00:00</td>\n",
       "      <td>2018</td>\n",
       "      <td>8</td>\n",
       "      <td>29</td>\n",
       "      <td>21</td>\n",
       "      <td>6</td>\n",
       "      <td>272</td>\n",
       "      <td>38</td>\n",
       "      <td>4</td>\n",
       "    </tr>\n",
       "    <tr>\n",
       "      <th>7947</th>\n",
       "      <td>1.062962</td>\n",
       "      <td>7</td>\n",
       "      <td>-0.133546</td>\n",
       "      <td>-0.027985</td>\n",
       "      <td>0.036967</td>\n",
       "      <td>2018-09-30 22:00:00</td>\n",
       "      <td>NaN</td>\n",
       "      <td>1</td>\n",
       "      <td>19</td>\n",
       "      <td>2018-09-30 22:00:00</td>\n",
       "      <td>2018</td>\n",
       "      <td>8</td>\n",
       "      <td>29</td>\n",
       "      <td>22</td>\n",
       "      <td>6</td>\n",
       "      <td>272</td>\n",
       "      <td>38</td>\n",
       "      <td>4</td>\n",
       "    </tr>\n",
       "    <tr>\n",
       "      <th>7948</th>\n",
       "      <td>1.062962</td>\n",
       "      <td>7</td>\n",
       "      <td>-0.133546</td>\n",
       "      <td>-0.027985</td>\n",
       "      <td>0.039304</td>\n",
       "      <td>2018-09-30 23:00:00</td>\n",
       "      <td>NaN</td>\n",
       "      <td>1</td>\n",
       "      <td>19</td>\n",
       "      <td>2018-09-30 23:00:00</td>\n",
       "      <td>2018</td>\n",
       "      <td>8</td>\n",
       "      <td>29</td>\n",
       "      <td>23</td>\n",
       "      <td>6</td>\n",
       "      <td>272</td>\n",
       "      <td>38</td>\n",
       "      <td>4</td>\n",
       "    </tr>\n",
       "  </tbody>\n",
       "</table>\n",
       "</div>"
      ],
      "text/plain": [
       "      clouds_cover  holiday  rain_in_hour  snow_in_hour  temperature  \\\n",
       "7944      0.678953        7     -0.133546     -0.027985     0.142922   \n",
       "7945      1.062962        7     -0.133546     -0.027985     0.089165   \n",
       "7946      1.062962        7     -0.133546     -0.027985     0.086828   \n",
       "7947      1.062962        7     -0.133546     -0.027985     0.036967   \n",
       "7948      1.062962        7     -0.133546     -0.027985     0.039304   \n",
       "\n",
       "                timestamp  traffic_volume  weather  weather_detail  \\\n",
       "7944  2018-09-30 19:00:00             NaN        1               2   \n",
       "7945  2018-09-30 20:00:00             NaN        1              19   \n",
       "7946  2018-09-30 21:00:00             NaN       10              21   \n",
       "7947  2018-09-30 22:00:00             NaN        1              19   \n",
       "7948  2018-09-30 23:00:00             NaN        1              19   \n",
       "\n",
       "                    date  Year  Month  Day  Hour  DayOfWeek  DayOfYear  \\\n",
       "7944 2018-09-30 19:00:00  2018      8   29    19          6        272   \n",
       "7945 2018-09-30 20:00:00  2018      8   29    20          6        272   \n",
       "7946 2018-09-30 21:00:00  2018      8   29    21          6        272   \n",
       "7947 2018-09-30 22:00:00  2018      8   29    22          6        272   \n",
       "7948 2018-09-30 23:00:00  2018      8   29    23          6        272   \n",
       "\n",
       "      WeekOfYear  WeekOfMonth  \n",
       "7944          38            4  \n",
       "7945          38            4  \n",
       "7946          38            4  \n",
       "7947          38            4  \n",
       "7948          38            4  "
      ]
     },
     "execution_count": 14,
     "metadata": {},
     "output_type": "execute_result"
    }
   ],
   "source": [
    "tmp_df.tail()"
   ]
  },
  {
   "cell_type": "code",
   "execution_count": 15,
   "metadata": {},
   "outputs": [
    {
     "name": "stdout",
     "output_type": "stream",
     "text": [
      "(29733, 18) (7952, 18) (7949, 17)\n"
     ]
    }
   ],
   "source": [
    "train_tmp = tmp_df[:n_train]\n",
    "valid = train_tmp[(train_tmp['date'] >= \"2017-01-01\") & (train_tmp['date'] < \"2017-10-01\")]\n",
    "train = train_tmp[(train_tmp['date'] < \"2017-01-01\") | (train_tmp['date'] >= \"2017-10-01\")]\n",
    "test = tmp_df[n_train:]\n",
    "del test['traffic_volume']\n",
    "\n",
    "print(train.shape, valid.shape, test.shape)"
   ]
  },
  {
   "cell_type": "markdown",
   "metadata": {},
   "source": [
    "### Train"
   ]
  },
  {
   "cell_type": "code",
   "execution_count": 16,
   "metadata": {},
   "outputs": [],
   "source": [
    "# define the custom dataset\n",
    "class TrafficVolumePredictionDataset(Dataset):\n",
    "    def __init__(self, data, cont_cols=None, output_col=None, unused_cols=None):\n",
    "        self.num_data = data.shape[0]\n",
    "        if output_col:\n",
    "            raw_y = data[output_col].astype(np.float32).values.reshape(-1, 1)\n",
    "            self.y = np.log(raw_y + 1)\n",
    "        else:\n",
    "            # for test inference\n",
    "            self.y =  np.zeros((self.num_data, 1))\n",
    "        self.cont_cols = cont_cols\n",
    "        self.cat_cols = [col for col in data.columns \n",
    "                         if col not in self.cont_cols + [output_col] + unused_cols]\n",
    "        self.cont_X = data[self.cont_cols].astype(np.float32).values\n",
    "        self.cat_X = data[self.cat_cols].astype(np.int64).values\n",
    "        \n",
    "    def __len__(self):\n",
    "        return self.num_data\n",
    "\n",
    "    def __getitem__(self, idx):\n",
    "        return [self.y[idx], self.cont_X[idx], self.cat_X[idx]]\n",
    "    \n",
    "# define custom loss\n",
    "class RMSELoss(nn.Module):\n",
    "    def __init__(self, eps=1e-6):\n",
    "        super().__init__()\n",
    "        self.mse = nn.MSELoss()\n",
    "        self.eps = eps\n",
    "        \n",
    "    def forward(self, yhat, y):\n",
    "        loss = torch.sqrt(self.mse(yhat, y) + self.eps)\n",
    "        return loss\n",
    "\n",
    "# define my model\n",
    "class MyModel(nn.Module):\n",
    "    def __init__(self, emb_dims, num_of_cont, lin_layer_sizes):\n",
    "        super(MyModel, self).__init__()\n",
    "        \n",
    "        # embeeding layers\n",
    "        self.emb_layers = nn.ModuleList([nn.Embedding(x, y) for x, y in emb_dims])\n",
    "\n",
    "        # Linear Layers\n",
    "        self.num_of_embs = sum([y for x, y in emb_dims])\n",
    "        self.num_of_cont = num_of_cont\n",
    "        first_lin_layer = nn.Linear(self.num_of_embs + self.num_of_cont, lin_layer_sizes[0])\n",
    "        self.lin_layers = \\\n",
    "            nn.ModuleList([first_lin_layer] + \\\n",
    "            [nn.Linear(lin_layer_sizes[i], lin_layer_sizes[i + 1])\n",
    "            for i in range(len(lin_layer_sizes) - 1)])\n",
    "        \n",
    "        # initialize weight\n",
    "        for lin_layer in self.lin_layers:\n",
    "            nn.init.kaiming_normal_(lin_layer.weight.data)\n",
    "\n",
    "        # Output Layer\n",
    "        self.output_layer = nn.Linear(lin_layer_sizes[-1], 1)\n",
    "        nn.init.kaiming_normal_(self.output_layer.weight.data)\n",
    "\n",
    "        # Batch Norm Layers\n",
    "        self.bn_layers = nn.ModuleList([nn.BatchNorm1d(size) for size in lin_layer_sizes])\n",
    "        \n",
    "    def forward(self, cont_data, cat_data):\n",
    "        # embedding\n",
    "        x = [emb_layer(cat_data[:, i]) for i, emb_layer in enumerate(self.emb_layers)]\n",
    "        x = torch.cat(x, 1)\n",
    "\n",
    "        # concat\n",
    "        x = torch.cat([x, cont_data], 1) \n",
    "        \n",
    "        # linear\n",
    "        for lin_layer, bn_layer in zip(self.lin_layers, self.bn_layers):\n",
    "            x = F.relu(lin_layer(x))\n",
    "            x = bn_layer(x)\n",
    "\n",
    "        x = self.output_layer(x)\n",
    "\n",
    "        return x"
   ]
  },
  {
   "cell_type": "code",
   "execution_count": 17,
   "metadata": {},
   "outputs": [],
   "source": [
    "## define pytorch lightnig class\n",
    "\n",
    "class TrafficVolumePrediction(pl.LightningModule):\n",
    "    def __init__(self, emb_dims, num_of_cont, lin_layer_sizes):\n",
    "        super(TrafficVolumePrediction, self).__init__()\n",
    "        # embbeding layer\n",
    "        self.emb_layers = nn.ModuleList([nn.Embedding(x, y) for x, y in emb_dims])\n",
    "\n",
    "        # Linear Layers\n",
    "        self.num_of_embs = sum([y for x, y in emb_dims])\n",
    "        self.num_of_cont = num_of_cont\n",
    "        first_lin_layer = nn.Linear(self.num_of_embs + self.num_of_cont, lin_layer_sizes[0])\n",
    "        self.lin_layers = \\\n",
    "            nn.ModuleList([first_lin_layer] + \\\n",
    "            [nn.Linear(lin_layer_sizes[i], lin_layer_sizes[i + 1])\n",
    "            for i in range(len(lin_layer_sizes) - 1)])\n",
    "        \n",
    "        # initialize weight\n",
    "        for lin_layer in self.lin_layers:\n",
    "            nn.init.kaiming_normal_(lin_layer.weight.data)\n",
    "\n",
    "        # Output Layer\n",
    "        self.output_layer = nn.Linear(lin_layer_sizes[-1], 1)\n",
    "        nn.init.kaiming_normal_(self.output_layer.weight.data)\n",
    "\n",
    "        # Batch Norm Layers\n",
    "        self.bn_layers = nn.ModuleList([nn.BatchNorm1d(size) for size in lin_layer_sizes])\n",
    "        # loss function\n",
    "        self.criterion = RMSELoss()\n",
    "    \n",
    "    def forward(self, cont_data, cat_data):\n",
    "        # embedding\n",
    "        x = [emb_layer(cat_data[:, i]) for i, emb_layer in enumerate(self.emb_layers)]\n",
    "        x = torch.cat(x, 1)\n",
    "\n",
    "        # concat\n",
    "        x = torch.cat([x, cont_data], 1) \n",
    "        \n",
    "        # linear\n",
    "        for lin_layer, bn_layer in zip(self.lin_layers, self.bn_layers):\n",
    "            x = F.relu(lin_layer(x))\n",
    "            x = bn_layer(x)\n",
    "\n",
    "        x = self.output_layer(x)\n",
    "        return x\n",
    "    \n",
    "    def training_step(self, batch, batch_nb):\n",
    "        # REQUIRED\n",
    "        y, cont_x, cat_x = batch\n",
    "        y_hat = self.forward(cont_x, cat_x)\n",
    "        return {'loss': self.criterion(y_hat, y)}\n",
    "\n",
    "    def validation_step(self, batch, batch_nb):\n",
    "        # OPTIONAL\n",
    "        y, cont_x, cat_x = batch\n",
    "        y_hat = self.forward(cont_x, cat_x)\n",
    "        return {'val_loss': self.criterion(y_hat, y)}\n",
    "\n",
    "    def validation_end(self, outputs):\n",
    "        # OPTIONAL\n",
    "        avg_loss = torch.stack([x['val_loss'] for x in outputs]).mean()\n",
    "        print('val_loss ', avg_loss)\n",
    "        return {'avg_val_loss': avg_loss}\n",
    "    \n",
    "    def test_step(self, batch, batch_nb):\n",
    "        # OPTIONAL\n",
    "        y, cont_x, cat_x = batch\n",
    "        y_hat = self.forward(cont_x, cat_x)\n",
    "        return {'val_loss': self.criterion(y_hat, y)}\n",
    "\n",
    "    def test_end(self, outputs):\n",
    "        # OPTIONAL\n",
    "        avg_loss = torch.stack([x['val_loss'] for x in outputs]).mean()\n",
    "        return {'avg_val_loss': avg_loss}\n",
    "\n",
    "    def configure_optimizers(self):\n",
    "        # REQUIRED\n",
    "        # can return multiple optimizers and learning_rate schedulers\n",
    "        return torch.optim.Adam(self.parameters(), lr=0.001)\n",
    "\n",
    "    @pl.data_loader\n",
    "    def tng_dataloader(self):\n",
    "        # REQUIRED\n",
    "        dataset = TrafficVolumePredictionDataset(\n",
    "            data=train,\n",
    "            cont_cols=['temperature', 'rain_in_hour', 'clouds_cover'],\n",
    "            output_col='traffic_volume',\n",
    "            unused_cols=['timestamp', 'Year', 'snow_in_hour', 'date']\n",
    "        )\n",
    "        return DataLoader(dataset, batch_size=256, shuffle=True)\n",
    "    \n",
    "    @pl.data_loader\n",
    "    def val_dataloader(self):\n",
    "        # OPTIONAL\n",
    "        dataset = TrafficVolumePredictionDataset(\n",
    "            data=valid,\n",
    "            cont_cols=['temperature', 'rain_in_hour', 'clouds_cover'],\n",
    "            output_col='traffic_volume',\n",
    "            unused_cols=['timestamp', 'Year', 'snow_in_hour', 'date']\n",
    "        )\n",
    "        return DataLoader(dataset, batch_size=256, shuffle=True)"
   ]
  },
  {
   "cell_type": "code",
   "execution_count": 18,
   "metadata": {},
   "outputs": [],
   "source": [
    "# define variables\n",
    "emb_dims = emb_dims\n",
    "cont_col = ['temperature', 'rain_in_hour', 'clouds_cover']\n",
    "num_of_cont = len(cont_col)\n",
    "lin_layer_sizes = [128, 64, 32]"
   ]
  },
  {
   "cell_type": "code",
   "execution_count": 19,
   "metadata": {},
   "outputs": [
    {
     "name": "stderr",
     "output_type": "stream",
     "text": [
      "Validation sanity check:   0%|          | 0/5 [00:00<?, ?batch/s]"
     ]
    },
    {
     "name": "stdout",
     "output_type": "stream",
     "text": [
      "val_loss  tensor(0.3091)\n"
     ]
    },
    {
     "name": "stderr",
     "output_type": "stream",
     "text": [
      "Epoch 12:  79%|███████▊  | 117/149 [00:02<00:00, 37.65batch/s, batch_nb=116, loss=0.234, v_nb=2]\n",
      "Epoch 12:  87%|████████▋ | 130/149 [00:03<00:00, 48.22batch/s, batch_nb=116, loss=0.234, v_nb=2]\n",
      "Epoch 12:  98%|█████████▊| 146/149 [00:03<00:00, 60.72batch/s, batch_nb=116, loss=0.234, v_nb=2]"
     ]
    },
    {
     "name": "stdout",
     "output_type": "stream",
     "text": [
      "val_loss  tensor(0.2912)\n"
     ]
    },
    {
     "name": "stderr",
     "output_type": "stream",
     "text": [
      "Epoch 12: 100%|██████████| 149/149 [00:03<00:00, 60.72batch/s, batch_nb=116, loss=0.234, v_nb=2]\n",
      "Epoch 13:  79%|███████▊  | 117/149 [00:02<00:00, 44.56batch/s, batch_nb=116, loss=0.226, v_nb=2]\n",
      "Epoch 13:  85%|████████▌ | 127/149 [00:02<00:00, 54.71batch/s, batch_nb=116, loss=0.226, v_nb=2]\n",
      "Epoch 13:  96%|█████████▌| 143/149 [00:02<00:00, 67.91batch/s, batch_nb=116, loss=0.226, v_nb=2]"
     ]
    },
    {
     "name": "stdout",
     "output_type": "stream",
     "text": [
      "val_loss  tensor(0.2978)\n"
     ]
    },
    {
     "name": "stderr",
     "output_type": "stream",
     "text": [
      "Epoch 13: 100%|██████████| 149/149 [00:02<00:00, 67.91batch/s, batch_nb=116, loss=0.226, v_nb=2]\n",
      "Epoch 14:  79%|███████▊  | 117/149 [00:02<00:00, 36.56batch/s, batch_nb=116, loss=0.216, v_nb=2]\n",
      "Epoch 14:  80%|███████▉  | 119/149 [00:02<00:00, 35.90batch/s, batch_nb=116, loss=0.216, v_nb=2]\n",
      "Epoch 14:  86%|████████▌ | 128/149 [00:03<00:00, 43.48batch/s, batch_nb=116, loss=0.216, v_nb=2]\n",
      "Epoch 14:  96%|█████████▌| 143/149 [00:03<00:00, 55.02batch/s, batch_nb=116, loss=0.216, v_nb=2]"
     ]
    },
    {
     "name": "stdout",
     "output_type": "stream",
     "text": [
      "val_loss  tensor(0.2788)\n"
     ]
    },
    {
     "name": "stderr",
     "output_type": "stream",
     "text": [
      "Epoch 14: 100%|██████████| 149/149 [00:03<00:00, 55.02batch/s, batch_nb=116, loss=0.216, v_nb=2]\n",
      "Epoch 15:  79%|███████▊  | 117/149 [00:02<00:00, 40.55batch/s, batch_nb=116, loss=0.210, v_nb=2]\n",
      "Epoch 15:  79%|███████▉  | 118/149 [00:02<00:00, 43.29batch/s, batch_nb=116, loss=0.210, v_nb=2]\n",
      "Epoch 15:  89%|████████▊ | 132/149 [00:02<00:00, 54.48batch/s, batch_nb=116, loss=0.210, v_nb=2]\n",
      "Epoch 15:  98%|█████████▊| 146/149 [00:03<00:00, 66.33batch/s, batch_nb=116, loss=0.210, v_nb=2]"
     ]
    },
    {
     "name": "stdout",
     "output_type": "stream",
     "text": [
      "val_loss  tensor(0.2980)\n"
     ]
    },
    {
     "name": "stderr",
     "output_type": "stream",
     "text": [
      "Epoch 15: 100%|██████████| 149/149 [00:03<00:00, 66.33batch/s, batch_nb=116, loss=0.210, v_nb=2]\n",
      "Epoch 16:  79%|███████▊  | 117/149 [00:03<00:00, 42.69batch/s, batch_nb=116, loss=0.212, v_nb=2]\n",
      "Epoch 16:  79%|███████▉  | 118/149 [00:03<00:00, 44.47batch/s, batch_nb=116, loss=0.212, v_nb=2]\n",
      "Epoch 16:  90%|████████▉ | 134/149 [00:03<00:00, 56.27batch/s, batch_nb=116, loss=0.212, v_nb=2]\n",
      "Epoch 16:  99%|█████████▉| 148/149 [00:03<00:00, 67.50batch/s, batch_nb=116, loss=0.212, v_nb=2]"
     ]
    },
    {
     "name": "stdout",
     "output_type": "stream",
     "text": [
      "val_loss  tensor(0.2843)\n"
     ]
    },
    {
     "name": "stderr",
     "output_type": "stream",
     "text": [
      "Epoch 16: 100%|██████████| 149/149 [00:03<00:00, 67.50batch/s, batch_nb=116, loss=0.212, v_nb=2]\n",
      "Epoch 17:  79%|███████▊  | 117/149 [00:03<00:01, 30.93batch/s, batch_nb=116, loss=0.207, v_nb=2]\n",
      "Epoch 17:  85%|████████▍ | 126/149 [00:03<00:00, 38.42batch/s, batch_nb=116, loss=0.207, v_nb=2]\n",
      "Epoch 17:  91%|█████████▏| 136/149 [00:03<00:00, 47.01batch/s, batch_nb=116, loss=0.207, v_nb=2]\n",
      "Epoch 17:  98%|█████████▊| 146/149 [00:04<00:00, 55.58batch/s, batch_nb=116, loss=0.207, v_nb=2]\n",
      "Validating:  97%|█████████▋| 31/32 [00:00<00:00, 94.40batch/s] "
     ]
    },
    {
     "name": "stdout",
     "output_type": "stream",
     "text": [
      "val_loss  tensor(0.2775)\n"
     ]
    },
    {
     "name": "stderr",
     "output_type": "stream",
     "text": [
      "Epoch 17: 100%|██████████| 149/149 [00:04<00:00, 55.58batch/s, batch_nb=116, loss=0.207, v_nb=2]\n",
      "Epoch 18:  79%|███████▊  | 117/149 [00:03<00:00, 41.61batch/s, batch_nb=116, loss=0.204, v_nb=2]\n",
      "Epoch 18:  85%|████████▍ | 126/149 [00:03<00:00, 50.83batch/s, batch_nb=116, loss=0.204, v_nb=2]\n",
      "Epoch 18:  93%|█████████▎| 139/149 [00:03<00:00, 62.11batch/s, batch_nb=116, loss=0.204, v_nb=2]\n",
      "Validating:  84%|████████▍ | 27/32 [00:00<00:00, 135.28batch/s]"
     ]
    },
    {
     "name": "stdout",
     "output_type": "stream",
     "text": [
      "val_loss  tensor(0.2912)\n"
     ]
    },
    {
     "name": "stderr",
     "output_type": "stream",
     "text": [
      "Epoch 18: 100%|██████████| 149/149 [00:03<00:00, 62.11batch/s, batch_nb=116, loss=0.204, v_nb=2]\n",
      "Epoch 19:  79%|███████▊  | 117/149 [00:02<00:00, 40.19batch/s, batch_nb=116, loss=0.202, v_nb=2]\n",
      "Epoch 19:  87%|████████▋ | 130/149 [00:03<00:00, 50.41batch/s, batch_nb=116, loss=0.202, v_nb=2]\n",
      "Validating:  44%|████▍     | 14/32 [00:00<00:00, 136.85batch/s]\n",
      "Epoch 19:  92%|█████████▏| 137/149 [00:03<00:00, 53.47batch/s, batch_nb=116, loss=0.202, v_nb=2]"
     ]
    },
    {
     "name": "stdout",
     "output_type": "stream",
     "text": [
      "val_loss  tensor(0.2678)\n"
     ]
    },
    {
     "name": "stderr",
     "output_type": "stream",
     "text": [
      "Epoch 19: 100%|██████████| 149/149 [00:03<00:00, 53.47batch/s, batch_nb=116, loss=0.202, v_nb=2]\n",
      "Epoch 20:  79%|███████▊  | 117/149 [00:03<00:00, 43.46batch/s, batch_nb=116, loss=0.192, v_nb=2]\n",
      "Epoch 20:  81%|████████  | 121/149 [00:03<00:00, 49.78batch/s, batch_nb=116, loss=0.192, v_nb=2]\n",
      "Epoch 20:  91%|█████████▏| 136/149 [00:03<00:00, 61.98batch/s, batch_nb=116, loss=0.192, v_nb=2]\n",
      "Validating:  97%|█████████▋| 31/32 [00:00<00:00, 148.52batch/s]"
     ]
    },
    {
     "name": "stdout",
     "output_type": "stream",
     "text": [
      "val_loss  tensor(0.2647)\n"
     ]
    },
    {
     "name": "stderr",
     "output_type": "stream",
     "text": [
      "Epoch 20: 100%|██████████| 149/149 [00:03<00:00, 61.98batch/s, batch_nb=116, loss=0.192, v_nb=2]\n",
      "Epoch 21:  79%|███████▊  | 117/149 [00:02<00:00, 38.59batch/s, batch_nb=116, loss=0.197, v_nb=2]\n",
      "Epoch 21:  87%|████████▋ | 129/149 [00:02<00:00, 48.10batch/s, batch_nb=116, loss=0.197, v_nb=2]\n",
      "Epoch 21:  95%|█████████▌| 142/149 [00:02<00:00, 59.28batch/s, batch_nb=116, loss=0.197, v_nb=2]\n",
      "Validating:  81%|████████▏ | 26/32 [00:00<00:00, 125.09batch/s]"
     ]
    },
    {
     "name": "stdout",
     "output_type": "stream",
     "text": [
      "val_loss  tensor(0.2711)\n"
     ]
    },
    {
     "name": "stderr",
     "output_type": "stream",
     "text": [
      "Epoch 21: 100%|██████████| 149/149 [00:02<00:00, 59.28batch/s, batch_nb=116, loss=0.197, v_nb=2]\n",
      "Epoch 22:  79%|███████▊  | 117/149 [00:02<00:00, 44.70batch/s, batch_nb=116, loss=0.199, v_nb=2]\n",
      "Epoch 22:  79%|███████▉  | 118/149 [00:02<00:00, 47.43batch/s, batch_nb=116, loss=0.199, v_nb=2]\n",
      "Epoch 22:  89%|████████▉ | 133/149 [00:03<00:00, 59.61batch/s, batch_nb=116, loss=0.199, v_nb=2]\n",
      "Epoch 22:  99%|█████████▉| 148/149 [00:03<00:00, 72.72batch/s, batch_nb=116, loss=0.199, v_nb=2]"
     ]
    },
    {
     "name": "stdout",
     "output_type": "stream",
     "text": [
      "val_loss  tensor(0.2593)\n"
     ]
    },
    {
     "name": "stderr",
     "output_type": "stream",
     "text": [
      "Epoch 22: 100%|██████████| 149/149 [00:03<00:00, 72.72batch/s, batch_nb=116, loss=0.199, v_nb=2]\n",
      "Epoch 23:  79%|███████▊  | 117/149 [00:02<00:00, 38.53batch/s, batch_nb=116, loss=0.189, v_nb=2]\n",
      "Epoch 23:  83%|████████▎ | 123/149 [00:02<00:00, 44.66batch/s, batch_nb=116, loss=0.189, v_nb=2]\n",
      "Epoch 23:  91%|█████████ | 135/149 [00:03<00:00, 54.76batch/s, batch_nb=116, loss=0.189, v_nb=2]\n",
      "Epoch 23:  97%|█████████▋| 145/149 [00:03<00:00, 63.32batch/s, batch_nb=116, loss=0.189, v_nb=2]"
     ]
    },
    {
     "name": "stdout",
     "output_type": "stream",
     "text": [
      "val_loss  tensor(0.2749)\n"
     ]
    },
    {
     "name": "stderr",
     "output_type": "stream",
     "text": [
      "Epoch 23: 100%|██████████| 149/149 [00:03<00:00, 63.32batch/s, batch_nb=116, loss=0.189, v_nb=2]\n",
      "Epoch 24:  79%|███████▊  | 117/149 [00:03<00:00, 38.77batch/s, batch_nb=116, loss=0.185, v_nb=2]\n",
      "Epoch 24:  82%|████████▏ | 122/149 [00:03<00:00, 45.53batch/s, batch_nb=116, loss=0.185, v_nb=2]\n",
      "Epoch 24:  91%|█████████▏| 136/149 [00:03<00:00, 57.01batch/s, batch_nb=116, loss=0.185, v_nb=2]\n",
      "Validating:  88%|████████▊ | 28/32 [00:00<00:00, 137.04batch/s]"
     ]
    },
    {
     "name": "stdout",
     "output_type": "stream",
     "text": [
      "val_loss  tensor(0.2500)\n"
     ]
    },
    {
     "name": "stderr",
     "output_type": "stream",
     "text": [
      "Epoch 24: 100%|██████████| 149/149 [00:03<00:00, 57.01batch/s, batch_nb=116, loss=0.185, v_nb=2]\n",
      "Epoch 25:  79%|███████▊  | 117/149 [00:03<00:00, 38.41batch/s, batch_nb=116, loss=0.185, v_nb=2]\n",
      "Epoch 25:  86%|████████▌ | 128/149 [00:03<00:00, 47.58batch/s, batch_nb=116, loss=0.185, v_nb=2]\n",
      "Epoch 25:  95%|█████████▌| 142/149 [00:03<00:00, 59.16batch/s, batch_nb=116, loss=0.185, v_nb=2]\n",
      "Validating:  81%|████████▏ | 26/32 [00:00<00:00, 123.09batch/s]"
     ]
    },
    {
     "name": "stdout",
     "output_type": "stream",
     "text": [
      "val_loss  tensor(0.2535)\n"
     ]
    },
    {
     "name": "stderr",
     "output_type": "stream",
     "text": [
      "Epoch 25: 100%|██████████| 149/149 [00:03<00:00, 59.16batch/s, batch_nb=116, loss=0.185, v_nb=2]\n",
      "Epoch 26:  79%|███████▊  | 117/149 [00:02<00:00, 39.97batch/s, batch_nb=116, loss=0.186, v_nb=2]\n",
      "Epoch 26:  83%|████████▎ | 124/149 [00:02<00:00, 47.70batch/s, batch_nb=116, loss=0.186, v_nb=2]\n",
      "Epoch 26:  92%|█████████▏| 137/149 [00:03<00:00, 58.00batch/s, batch_nb=116, loss=0.186, v_nb=2]\n",
      "Validating:  78%|███████▊  | 25/32 [00:00<00:00, 123.24batch/s]"
     ]
    },
    {
     "name": "stdout",
     "output_type": "stream",
     "text": [
      "val_loss  tensor(0.2565)\n"
     ]
    },
    {
     "name": "stderr",
     "output_type": "stream",
     "text": [
      "Epoch 26: 100%|██████████| 149/149 [00:03<00:00, 58.00batch/s, batch_nb=116, loss=0.186, v_nb=2]\n",
      "Epoch 27:  79%|███████▊  | 117/149 [00:03<00:00, 41.25batch/s, batch_nb=116, loss=0.190, v_nb=2]\n",
      "Epoch 27:  87%|████████▋ | 129/149 [00:03<00:00, 51.30batch/s, batch_nb=116, loss=0.190, v_nb=2]\n",
      "Epoch 27:  96%|█████████▌| 143/149 [00:03<00:00, 63.17batch/s, batch_nb=116, loss=0.190, v_nb=2]\n",
      "Validating:  88%|████████▊ | 28/32 [00:00<00:00, 134.72batch/s]"
     ]
    },
    {
     "name": "stdout",
     "output_type": "stream",
     "text": [
      "val_loss  tensor(0.2684)\n"
     ]
    },
    {
     "name": "stderr",
     "output_type": "stream",
     "text": [
      "Epoch 27: 100%|██████████| 149/149 [00:03<00:00, 63.17batch/s, batch_nb=116, loss=0.190, v_nb=2]\n",
      "Epoch 28:  79%|███████▊  | 117/149 [00:03<00:00, 37.62batch/s, batch_nb=116, loss=0.181, v_nb=2]\n",
      "Epoch 28:  86%|████████▌ | 128/149 [00:03<00:00, 47.27batch/s, batch_nb=116, loss=0.181, v_nb=2]\n",
      "Epoch 28:  95%|█████████▌| 142/149 [00:03<00:00, 58.67batch/s, batch_nb=116, loss=0.181, v_nb=2]\n",
      "Validating:  88%|████████▊ | 28/32 [00:00<00:00, 137.92batch/s]"
     ]
    },
    {
     "name": "stdout",
     "output_type": "stream",
     "text": [
      "val_loss  tensor(0.2491)\n"
     ]
    },
    {
     "name": "stderr",
     "output_type": "stream",
     "text": [
      "Epoch 28: 100%|██████████| 149/149 [00:03<00:00, 58.67batch/s, batch_nb=116, loss=0.181, v_nb=2]\n",
      "Epoch 29:  79%|███████▊  | 117/149 [00:03<00:00, 41.60batch/s, batch_nb=116, loss=0.174, v_nb=2]\n",
      "Epoch 29:  87%|████████▋ | 130/149 [00:03<00:00, 52.19batch/s, batch_nb=116, loss=0.174, v_nb=2]\n",
      "Epoch 29:  97%|█████████▋| 144/149 [00:03<00:00, 64.17batch/s, batch_nb=116, loss=0.174, v_nb=2]\n",
      "Validating:  91%|█████████ | 29/32 [00:00<00:00, 139.85batch/s]"
     ]
    },
    {
     "name": "stdout",
     "output_type": "stream",
     "text": [
      "val_loss  tensor(0.2634)\n"
     ]
    },
    {
     "name": "stderr",
     "output_type": "stream",
     "text": [
      "Epoch 29: 100%|██████████| 149/149 [00:03<00:00, 64.17batch/s, batch_nb=116, loss=0.174, v_nb=2]\n",
      "Epoch 30:  79%|███████▊  | 117/149 [00:02<00:00, 41.18batch/s, batch_nb=116, loss=0.168, v_nb=2]\n",
      "Epoch 30:  86%|████████▌ | 128/149 [00:02<00:00, 51.09batch/s, batch_nb=116, loss=0.168, v_nb=2]\n",
      "Epoch 30:  95%|█████████▍| 141/149 [00:02<00:00, 62.45batch/s, batch_nb=116, loss=0.168, v_nb=2]\n",
      "Validating:  84%|████████▍ | 27/32 [00:00<00:00, 134.18batch/s]"
     ]
    },
    {
     "name": "stdout",
     "output_type": "stream",
     "text": [
      "val_loss  tensor(0.2445)\n"
     ]
    },
    {
     "name": "stderr",
     "output_type": "stream",
     "text": [
      "Epoch 30: 100%|██████████| 149/149 [00:03<00:00, 62.45batch/s, batch_nb=116, loss=0.168, v_nb=2]\n",
      "Epoch 31:  79%|███████▊  | 117/149 [00:02<00:00, 45.03batch/s, batch_nb=116, loss=0.176, v_nb=2]\n",
      "Epoch 31:  88%|████████▊ | 131/149 [00:02<00:00, 56.35batch/s, batch_nb=116, loss=0.176, v_nb=2]\n",
      "Epoch 31:  98%|█████████▊| 146/149 [00:02<00:00, 68.90batch/s, batch_nb=116, loss=0.176, v_nb=2]\n",
      "Validating:  94%|█████████▍| 30/32 [00:00<00:00, 147.90batch/s]"
     ]
    },
    {
     "name": "stdout",
     "output_type": "stream",
     "text": [
      "val_loss  tensor(0.2453)\n"
     ]
    },
    {
     "name": "stderr",
     "output_type": "stream",
     "text": [
      "Epoch 31: 100%|██████████| 149/149 [00:02<00:00, 68.90batch/s, batch_nb=116, loss=0.176, v_nb=2]\n",
      "Epoch 32:  79%|███████▊  | 117/149 [00:02<00:00, 45.44batch/s, batch_nb=116, loss=0.164, v_nb=2]\n",
      "Epoch 32:  85%|████████▍ | 126/149 [00:02<00:00, 54.82batch/s, batch_nb=116, loss=0.164, v_nb=2]\n",
      "Epoch 32:  95%|█████████▍| 141/149 [00:02<00:00, 67.14batch/s, batch_nb=116, loss=0.164, v_nb=2]\n",
      "Validating:  91%|█████████ | 29/32 [00:00<00:00, 144.55batch/s]"
     ]
    },
    {
     "name": "stdout",
     "output_type": "stream",
     "text": [
      "val_loss  tensor(0.2510)\n"
     ]
    },
    {
     "name": "stderr",
     "output_type": "stream",
     "text": [
      "Epoch 32: 100%|██████████| 149/149 [00:02<00:00, 67.14batch/s, batch_nb=116, loss=0.164, v_nb=2]\n",
      "Epoch 33:  79%|███████▊  | 117/149 [00:02<00:00, 45.54batch/s, batch_nb=116, loss=0.171, v_nb=2]\n",
      "Epoch 33:  79%|███████▉  | 118/149 [00:02<00:00, 48.37batch/s, batch_nb=116, loss=0.171, v_nb=2]\n",
      "Epoch 33:  90%|████████▉ | 134/149 [00:02<00:00, 57.08batch/s, batch_nb=116, loss=0.171, v_nb=2]\n",
      "Validating:  72%|███████▏  | 23/32 [00:00<00:00, 110.90batch/s]"
     ]
    },
    {
     "name": "stdout",
     "output_type": "stream",
     "text": [
      "val_loss  tensor(0.2344)\n"
     ]
    },
    {
     "name": "stderr",
     "output_type": "stream",
     "text": [
      "Epoch 33: 100%|██████████| 149/149 [00:02<00:00, 57.08batch/s, batch_nb=116, loss=0.171, v_nb=2]\n",
      "Epoch 34:  79%|███████▊  | 117/149 [00:02<00:00, 45.34batch/s, batch_nb=116, loss=0.172, v_nb=2]\n",
      "Epoch 34:  85%|████████▍ | 126/149 [00:02<00:00, 54.75batch/s, batch_nb=116, loss=0.172, v_nb=2]\n",
      "Epoch 34:  95%|█████████▍| 141/149 [00:02<00:00, 67.14batch/s, batch_nb=116, loss=0.172, v_nb=2]\n",
      "Validating:  94%|█████████▍| 30/32 [00:00<00:00, 145.98batch/s]"
     ]
    },
    {
     "name": "stdout",
     "output_type": "stream",
     "text": [
      "val_loss  tensor(0.2495)\n"
     ]
    },
    {
     "name": "stderr",
     "output_type": "stream",
     "text": [
      "Epoch 34: 100%|██████████| 149/149 [00:02<00:00, 67.14batch/s, batch_nb=116, loss=0.172, v_nb=2]\n",
      "Epoch 35:  79%|███████▊  | 117/149 [00:02<00:00, 45.04batch/s, batch_nb=116, loss=0.167, v_nb=2]\n",
      "Epoch 35:  79%|███████▉  | 118/149 [00:02<00:00, 47.58batch/s, batch_nb=116, loss=0.167, v_nb=2]\n",
      "Epoch 35:  89%|████████▉ | 133/149 [00:02<00:00, 59.59batch/s, batch_nb=116, loss=0.167, v_nb=2]\n",
      "Epoch 35:  99%|█████████▉| 148/149 [00:02<00:00, 72.37batch/s, batch_nb=116, loss=0.167, v_nb=2]"
     ]
    },
    {
     "name": "stdout",
     "output_type": "stream",
     "text": [
      "val_loss  tensor(0.2439)\n"
     ]
    },
    {
     "name": "stderr",
     "output_type": "stream",
     "text": [
      "Epoch 35: 100%|██████████| 149/149 [00:02<00:00, 72.37batch/s, batch_nb=116, loss=0.167, v_nb=2]\n",
      "Epoch 36:  79%|███████▊  | 117/149 [00:02<00:00, 44.30batch/s, batch_nb=116, loss=0.168, v_nb=2]\n",
      "Epoch 36:  87%|████████▋ | 130/149 [00:02<00:00, 55.46batch/s, batch_nb=116, loss=0.168, v_nb=2]\n",
      "Epoch 36:  97%|█████████▋| 144/149 [00:02<00:00, 67.19batch/s, batch_nb=116, loss=0.168, v_nb=2]\n",
      "Validating:  91%|█████████ | 29/32 [00:00<00:00, 140.39batch/s]"
     ]
    },
    {
     "name": "stdout",
     "output_type": "stream",
     "text": [
      "val_loss  tensor(0.2397)\n"
     ]
    },
    {
     "name": "stderr",
     "output_type": "stream",
     "text": [
      "Epoch 36: 100%|██████████| 149/149 [00:02<00:00, 67.19batch/s, batch_nb=116, loss=0.168, v_nb=2]\n",
      "Epoch 37:  79%|███████▊  | 117/149 [00:02<00:00, 46.39batch/s, batch_nb=116, loss=0.168, v_nb=2]\n",
      "Epoch 37:  88%|████████▊ | 131/149 [00:02<00:00, 57.92batch/s, batch_nb=116, loss=0.168, v_nb=2]\n",
      "Epoch 37:  97%|█████████▋| 144/149 [00:02<00:00, 69.46batch/s, batch_nb=116, loss=0.168, v_nb=2]\n",
      "Validating:  91%|█████████ | 29/32 [00:00<00:00, 139.70batch/s]"
     ]
    },
    {
     "name": "stdout",
     "output_type": "stream",
     "text": [
      "val_loss  tensor(0.2572)\n"
     ]
    },
    {
     "name": "stderr",
     "output_type": "stream",
     "text": [
      "Epoch 37: 100%|██████████| 149/149 [00:02<00:00, 69.46batch/s, batch_nb=116, loss=0.168, v_nb=2]\n",
      "Epoch 38:  79%|███████▊  | 117/149 [00:02<00:00, 43.95batch/s, batch_nb=116, loss=0.166, v_nb=2]\n",
      "Epoch 38:  85%|████████▍ | 126/149 [00:02<00:00, 53.45batch/s, batch_nb=116, loss=0.166, v_nb=2]\n",
      "Epoch 38:  93%|█████████▎| 139/149 [00:02<00:00, 64.59batch/s, batch_nb=116, loss=0.166, v_nb=2]\n",
      "Validating:  81%|████████▏ | 26/32 [00:00<00:00, 130.12batch/s]"
     ]
    },
    {
     "name": "stdout",
     "output_type": "stream",
     "text": [
      "val_loss  tensor(0.2594)\n"
     ]
    },
    {
     "name": "stderr",
     "output_type": "stream",
     "text": [
      "Epoch 38: 100%|██████████| 149/149 [00:02<00:00, 64.59batch/s, batch_nb=116, loss=0.166, v_nb=2]\n",
      "Epoch 39:  79%|███████▊  | 117/149 [00:03<00:00, 35.71batch/s, batch_nb=116, loss=0.165, v_nb=2]\n",
      "Epoch 39:  82%|████████▏ | 122/149 [00:03<00:00, 42.51batch/s, batch_nb=116, loss=0.165, v_nb=2]\n",
      "Epoch 39:  92%|█████████▏| 137/149 [00:03<00:00, 53.75batch/s, batch_nb=116, loss=0.165, v_nb=2]\n",
      "Validating:  88%|████████▊ | 28/32 [00:00<00:00, 135.82batch/s]"
     ]
    },
    {
     "name": "stdout",
     "output_type": "stream",
     "text": [
      "val_loss  tensor(0.2498)\n"
     ]
    },
    {
     "name": "stderr",
     "output_type": "stream",
     "text": [
      "Epoch 39: 100%|██████████| 149/149 [00:03<00:00, 53.75batch/s, batch_nb=116, loss=0.165, v_nb=2]\n",
      "Epoch 40:  79%|███████▊  | 117/149 [00:03<00:00, 33.42batch/s, batch_nb=116, loss=0.163, v_nb=2]\n",
      "Epoch 40:  83%|████████▎ | 124/149 [00:03<00:00, 40.95batch/s, batch_nb=116, loss=0.163, v_nb=2]\n",
      "Epoch 40:  91%|█████████ | 135/149 [00:03<00:00, 49.81batch/s, batch_nb=116, loss=0.163, v_nb=2]\n",
      "Epoch 40:  97%|█████████▋| 145/149 [00:03<00:00, 57.94batch/s, batch_nb=116, loss=0.163, v_nb=2]\n",
      "Validating:  97%|█████████▋| 31/32 [00:00<00:00, 100.26batch/s]"
     ]
    },
    {
     "name": "stdout",
     "output_type": "stream",
     "text": [
      "val_loss  tensor(0.2381)\n"
     ]
    },
    {
     "name": "stderr",
     "output_type": "stream",
     "text": [
      "Epoch 40: 100%|██████████| 149/149 [00:03<00:00, 57.94batch/s, batch_nb=116, loss=0.163, v_nb=2]\n",
      "Epoch 41:  79%|███████▊  | 117/149 [00:03<00:00, 38.88batch/s, batch_nb=116, loss=0.163, v_nb=2]\n",
      "Epoch 41:  84%|████████▍ | 125/149 [00:03<00:00, 47.21batch/s, batch_nb=116, loss=0.163, v_nb=2]\n",
      "Epoch 41:  93%|█████████▎| 139/149 [00:03<00:00, 58.81batch/s, batch_nb=116, loss=0.163, v_nb=2]\n",
      "Validating:  84%|████████▍ | 27/32 [00:00<00:00, 130.59batch/s]"
     ]
    },
    {
     "name": "stdout",
     "output_type": "stream",
     "text": [
      "val_loss  tensor(0.2392)\n"
     ]
    },
    {
     "name": "stderr",
     "output_type": "stream",
     "text": [
      "Epoch 41: 100%|██████████| 149/149 [00:03<00:00, 58.81batch/s, batch_nb=116, loss=0.163, v_nb=2]\n",
      "Epoch 42:  79%|███████▊  | 117/149 [00:03<00:00, 33.85batch/s, batch_nb=116, loss=0.166, v_nb=2]\n",
      "Epoch 42:  82%|████████▏ | 122/149 [00:03<00:00, 39.88batch/s, batch_nb=116, loss=0.166, v_nb=2]\n",
      "Epoch 42:  89%|████████▉ | 133/149 [00:03<00:00, 49.04batch/s, batch_nb=116, loss=0.166, v_nb=2]\n",
      "Epoch 42:  98%|█████████▊| 146/149 [00:03<00:00, 60.18batch/s, batch_nb=116, loss=0.166, v_nb=2]"
     ]
    },
    {
     "name": "stdout",
     "output_type": "stream",
     "text": [
      "val_loss  tensor(0.2372)\n"
     ]
    },
    {
     "name": "stderr",
     "output_type": "stream",
     "text": [
      "Epoch 42: 100%|██████████| 149/149 [00:03<00:00, 60.18batch/s, batch_nb=116, loss=0.166, v_nb=2]\n",
      "Epoch 43:  79%|███████▊  | 117/149 [00:03<00:00, 36.00batch/s, batch_nb=116, loss=0.157, v_nb=2]\n",
      "Epoch 43:  79%|███████▉  | 118/149 [00:03<00:00, 38.72batch/s, batch_nb=116, loss=0.157, v_nb=2]\n",
      "Epoch 43:  89%|████████▊ | 132/149 [00:03<00:00, 49.31batch/s, batch_nb=116, loss=0.157, v_nb=2]\n",
      "Epoch 43:  97%|█████████▋| 145/149 [00:03<00:00, 60.16batch/s, batch_nb=116, loss=0.157, v_nb=2]"
     ]
    },
    {
     "name": "stdout",
     "output_type": "stream",
     "text": [
      "val_loss  tensor(0.2462)\n"
     ]
    },
    {
     "name": "stderr",
     "output_type": "stream",
     "text": [
      "Epoch 43: 100%|██████████| 149/149 [00:03<00:00, 60.16batch/s, batch_nb=116, loss=0.157, v_nb=2]\n",
      "Epoch 44:  79%|███████▊  | 117/149 [00:03<00:00, 38.64batch/s, batch_nb=116, loss=0.157, v_nb=2]\n",
      "Epoch 44:  80%|███████▉  | 119/149 [00:03<00:00, 43.19batch/s, batch_nb=116, loss=0.157, v_nb=2]\n",
      "Epoch 44:  89%|████████▉ | 133/149 [00:03<00:00, 53.24batch/s, batch_nb=116, loss=0.157, v_nb=2]\n",
      "Epoch 44:  99%|█████████▊| 147/149 [00:03<00:00, 65.04batch/s, batch_nb=116, loss=0.157, v_nb=2]"
     ]
    },
    {
     "name": "stdout",
     "output_type": "stream",
     "text": [
      "val_loss  tensor(0.2395)\n"
     ]
    },
    {
     "name": "stderr",
     "output_type": "stream",
     "text": [
      "Epoch 44: 100%|██████████| 149/149 [00:03<00:00, 65.04batch/s, batch_nb=116, loss=0.157, v_nb=2]\n",
      "Epoch 45:  79%|███████▊  | 117/149 [00:03<00:00, 33.02batch/s, batch_nb=116, loss=0.162, v_nb=2]\n",
      "Epoch 45:  79%|███████▉  | 118/149 [00:03<00:00, 35.84batch/s, batch_nb=116, loss=0.162, v_nb=2]\n",
      "Epoch 45:  87%|████████▋ | 129/149 [00:03<00:00, 44.88batch/s, batch_nb=116, loss=0.162, v_nb=2]\n",
      "Epoch 45:  94%|█████████▍| 140/149 [00:03<00:00, 54.32batch/s, batch_nb=116, loss=0.162, v_nb=2]\n",
      "Validating:  97%|█████████▋| 31/32 [00:00<00:00, 101.25batch/s]"
     ]
    },
    {
     "name": "stdout",
     "output_type": "stream",
     "text": [
      "val_loss  tensor(0.2448)\n"
     ]
    },
    {
     "name": "stderr",
     "output_type": "stream",
     "text": [
      "Epoch 45: 100%|██████████| 149/149 [00:03<00:00, 54.32batch/s, batch_nb=116, loss=0.162, v_nb=2]\n",
      "Epoch 46:  79%|███████▊  | 117/149 [00:03<00:01, 30.74batch/s, batch_nb=116, loss=0.155, v_nb=2]\n",
      "Epoch 46:  79%|███████▉  | 118/149 [00:03<00:00, 34.63batch/s, batch_nb=116, loss=0.155, v_nb=2]\n",
      "Epoch 46:  89%|████████▊ | 132/149 [00:03<00:00, 44.72batch/s, batch_nb=116, loss=0.155, v_nb=2]\n",
      "Epoch 46:  99%|█████████▊| 147/149 [00:03<00:00, 56.49batch/s, batch_nb=116, loss=0.155, v_nb=2]"
     ]
    },
    {
     "name": "stdout",
     "output_type": "stream",
     "text": [
      "val_loss  tensor(0.2413)\n"
     ]
    },
    {
     "name": "stderr",
     "output_type": "stream",
     "text": [
      "Epoch 46: 100%|██████████| 149/149 [00:03<00:00, 56.49batch/s, batch_nb=116, loss=0.155, v_nb=2]\n",
      "Epoch 47:  79%|███████▊  | 117/149 [00:02<00:00, 40.03batch/s, batch_nb=116, loss=0.163, v_nb=2]\n",
      "Epoch 47:  83%|████████▎ | 123/149 [00:03<00:00, 47.90batch/s, batch_nb=116, loss=0.163, v_nb=2]\n",
      "Epoch 47:  88%|████████▊ | 131/149 [00:03<00:00, 53.80batch/s, batch_nb=116, loss=0.163, v_nb=2]\n",
      "Epoch 47:  97%|█████████▋| 145/149 [00:03<00:00, 65.53batch/s, batch_nb=116, loss=0.163, v_nb=2]"
     ]
    },
    {
     "name": "stdout",
     "output_type": "stream",
     "text": [
      "val_loss  tensor(0.2400)\n"
     ]
    },
    {
     "name": "stderr",
     "output_type": "stream",
     "text": [
      "Epoch 47: 100%|██████████| 149/149 [00:03<00:00, 65.53batch/s, batch_nb=116, loss=0.163, v_nb=2]\n",
      "Epoch 48:  79%|███████▊  | 117/149 [00:02<00:00, 42.19batch/s, batch_nb=116, loss=0.153, v_nb=2]\n",
      "Epoch 48:  85%|████████▍ | 126/149 [00:02<00:00, 51.37batch/s, batch_nb=116, loss=0.153, v_nb=2]\n",
      "Epoch 48:  94%|█████████▍| 140/149 [00:03<00:00, 63.29batch/s, batch_nb=116, loss=0.153, v_nb=2]\n",
      "Validating:  91%|█████████ | 29/32 [00:00<00:00, 141.25batch/s]"
     ]
    },
    {
     "name": "stdout",
     "output_type": "stream",
     "text": [
      "val_loss  tensor(0.2413)\n"
     ]
    },
    {
     "name": "stderr",
     "output_type": "stream",
     "text": [
      "Epoch 48: 100%|██████████| 149/149 [00:03<00:00, 63.29batch/s, batch_nb=116, loss=0.153, v_nb=2]\n",
      "Epoch 49:  79%|███████▊  | 117/149 [00:03<00:01, 31.43batch/s, batch_nb=116, loss=0.156, v_nb=2]\n",
      "Epoch 49:  79%|███████▉  | 118/149 [00:03<00:00, 34.30batch/s, batch_nb=116, loss=0.156, v_nb=2]\n",
      "Epoch 49:  86%|████████▌ | 128/149 [00:03<00:00, 42.57batch/s, batch_nb=116, loss=0.156, v_nb=2]\n",
      "Epoch 49:  93%|█████████▎| 138/149 [00:03<00:00, 51.14batch/s, batch_nb=116, loss=0.156, v_nb=2]\n",
      "Epoch 49:  99%|█████████▉| 148/149 [00:03<00:00, 59.17batch/s, batch_nb=116, loss=0.156, v_nb=2]"
     ]
    },
    {
     "name": "stdout",
     "output_type": "stream",
     "text": [
      "val_loss  tensor(0.2405)\n"
     ]
    },
    {
     "name": "stderr",
     "output_type": "stream",
     "text": [
      "Epoch 49: 100%|██████████| 149/149 [00:03<00:00, 59.17batch/s, batch_nb=116, loss=0.156, v_nb=2]\n",
      "Epoch 50:  79%|███████▊  | 117/149 [00:03<00:00, 40.94batch/s, batch_nb=116, loss=0.165, v_nb=2]\n",
      "Epoch 50:  79%|███████▉  | 118/149 [00:03<00:00, 43.85batch/s, batch_nb=116, loss=0.165, v_nb=2]\n",
      "Epoch 50:  89%|████████▊ | 132/149 [00:03<00:00, 55.07batch/s, batch_nb=116, loss=0.165, v_nb=2]\n",
      "Epoch 50:  99%|█████████▊| 147/149 [00:03<00:00, 67.62batch/s, batch_nb=116, loss=0.165, v_nb=2]"
     ]
    },
    {
     "name": "stdout",
     "output_type": "stream",
     "text": [
      "val_loss  tensor(0.2341)\n"
     ]
    },
    {
     "name": "stderr",
     "output_type": "stream",
     "text": [
      "Epoch 50: 100%|██████████| 149/149 [00:03<00:00, 67.62batch/s, batch_nb=116, loss=0.165, v_nb=2]\n",
      "Epoch 51:  79%|███████▊  | 117/149 [00:02<00:00, 44.16batch/s, batch_nb=116, loss=0.154, v_nb=2]\n",
      "Epoch 51:  85%|████████▍ | 126/149 [00:02<00:00, 53.52batch/s, batch_nb=116, loss=0.154, v_nb=2]\n",
      "Epoch 51:  95%|█████████▍| 141/149 [00:02<00:00, 66.12batch/s, batch_nb=116, loss=0.154, v_nb=2]\n",
      "Validating:  94%|█████████▍| 30/32 [00:00<00:00, 146.22batch/s]"
     ]
    },
    {
     "name": "stdout",
     "output_type": "stream",
     "text": [
      "val_loss  tensor(0.2410)\n"
     ]
    },
    {
     "name": "stderr",
     "output_type": "stream",
     "text": [
      "Epoch 51: 100%|██████████| 149/149 [00:02<00:00, 66.12batch/s, batch_nb=116, loss=0.154, v_nb=2]\n",
      "Epoch 52:  79%|███████▊  | 117/149 [00:02<00:00, 42.20batch/s, batch_nb=116, loss=0.148, v_nb=2]\n",
      "Epoch 52:  80%|███████▉  | 119/149 [00:02<00:00, 46.09batch/s, batch_nb=116, loss=0.148, v_nb=2]\n",
      "Epoch 52:  90%|████████▉ | 134/149 [00:02<00:00, 57.75batch/s, batch_nb=116, loss=0.148, v_nb=2]\n",
      "Epoch 52:  99%|█████████▉| 148/149 [00:02<00:00, 69.83batch/s, batch_nb=116, loss=0.148, v_nb=2]"
     ]
    },
    {
     "name": "stdout",
     "output_type": "stream",
     "text": [
      "val_loss  tensor(0.2332)\n"
     ]
    },
    {
     "name": "stderr",
     "output_type": "stream",
     "text": [
      "Epoch 52: 100%|██████████| 149/149 [00:02<00:00, 69.83batch/s, batch_nb=116, loss=0.148, v_nb=2]\n",
      "Epoch 53:  79%|███████▊  | 117/149 [00:02<00:00, 34.16batch/s, batch_nb=116, loss=0.150, v_nb=2]\n",
      "Epoch 53:  85%|████████▍ | 126/149 [00:03<00:00, 41.46batch/s, batch_nb=116, loss=0.150, v_nb=2]\n",
      "Epoch 53:  91%|█████████▏| 136/149 [00:03<00:00, 49.70batch/s, batch_nb=116, loss=0.150, v_nb=2]\n",
      "Epoch 53:  97%|█████████▋| 145/149 [00:03<00:00, 56.47batch/s, batch_nb=116, loss=0.150, v_nb=2]\n",
      "Validating:  91%|█████████ | 29/32 [00:00<00:00, 88.27batch/s]"
     ]
    },
    {
     "name": "stdout",
     "output_type": "stream",
     "text": [
      "val_loss  tensor(0.2416)\n"
     ]
    },
    {
     "name": "stderr",
     "output_type": "stream",
     "text": [
      "Epoch 53: 100%|██████████| 149/149 [00:03<00:00, 56.47batch/s, batch_nb=116, loss=0.150, v_nb=2]\n",
      "Epoch 54:  79%|███████▊  | 117/149 [00:03<00:00, 32.67batch/s, batch_nb=116, loss=0.153, v_nb=2]\n",
      "Epoch 54:  85%|████████▍ | 126/149 [00:03<00:00, 40.33batch/s, batch_nb=116, loss=0.153, v_nb=2]\n",
      "Epoch 54:  91%|█████████▏| 136/149 [00:03<00:00, 48.67batch/s, batch_nb=116, loss=0.153, v_nb=2]\n",
      "Epoch 54:  99%|█████████▊| 147/149 [00:03<00:00, 57.89batch/s, batch_nb=116, loss=0.153, v_nb=2]\n",
      "Validating:  97%|█████████▋| 31/32 [00:00<00:00, 101.67batch/s]"
     ]
    },
    {
     "name": "stdout",
     "output_type": "stream",
     "text": [
      "val_loss  tensor(0.2367)\n"
     ]
    },
    {
     "name": "stderr",
     "output_type": "stream",
     "text": [
      "Epoch 54: 100%|██████████| 149/149 [00:03<00:00, 57.89batch/s, batch_nb=116, loss=0.153, v_nb=2]\n",
      "Epoch 55:  79%|███████▊  | 117/149 [00:03<00:00, 37.76batch/s, batch_nb=116, loss=0.153, v_nb=2]\n",
      "Epoch 55:  86%|████████▌ | 128/149 [00:03<00:00, 47.22batch/s, batch_nb=116, loss=0.153, v_nb=2]\n",
      "Epoch 55:  95%|█████████▌| 142/149 [00:03<00:00, 58.52batch/s, batch_nb=116, loss=0.153, v_nb=2]\n",
      "Validating:  88%|████████▊ | 28/32 [00:00<00:00, 134.13batch/s]"
     ]
    },
    {
     "name": "stdout",
     "output_type": "stream",
     "text": [
      "val_loss  tensor(0.2443)\n"
     ]
    },
    {
     "name": "stderr",
     "output_type": "stream",
     "text": [
      "Epoch 55: 100%|██████████| 149/149 [00:03<00:00, 58.52batch/s, batch_nb=116, loss=0.153, v_nb=2]\n",
      "Epoch 56:  79%|███████▊  | 117/149 [00:03<00:00, 37.92batch/s, batch_nb=116, loss=0.151, v_nb=2]\n",
      "Epoch 56:  87%|████████▋ | 129/149 [00:03<00:00, 47.91batch/s, batch_nb=116, loss=0.151, v_nb=2]\n",
      "Epoch 56:  94%|█████████▍| 140/149 [00:03<00:00, 57.34batch/s, batch_nb=116, loss=0.151, v_nb=2]\n",
      "Validating:  81%|████████▏ | 26/32 [00:00<00:00, 127.42batch/s]"
     ]
    },
    {
     "name": "stdout",
     "output_type": "stream",
     "text": [
      "val_loss  tensor(0.2360)\n"
     ]
    },
    {
     "name": "stderr",
     "output_type": "stream",
     "text": [
      "Epoch 56: 100%|██████████| 149/149 [00:03<00:00, 57.34batch/s, batch_nb=116, loss=0.151, v_nb=2]\n",
      "Epoch 57:  79%|███████▊  | 117/149 [00:03<00:00, 34.58batch/s, batch_nb=116, loss=0.148, v_nb=2]\n",
      "Epoch 57:  79%|███████▉  | 118/149 [00:03<00:00, 35.54batch/s, batch_nb=116, loss=0.148, v_nb=2]\n",
      "Epoch 57:  89%|████████▊ | 132/149 [00:03<00:00, 45.50batch/s, batch_nb=116, loss=0.148, v_nb=2]\n",
      "Epoch 57:  96%|█████████▌| 143/149 [00:03<00:00, 55.15batch/s, batch_nb=116, loss=0.148, v_nb=2]"
     ]
    },
    {
     "name": "stdout",
     "output_type": "stream",
     "text": [
      "val_loss  tensor(0.2406)\n"
     ]
    },
    {
     "name": "stderr",
     "output_type": "stream",
     "text": [
      "Epoch 57: 100%|██████████| 149/149 [00:03<00:00, 55.15batch/s, batch_nb=116, loss=0.148, v_nb=2]\n",
      "Epoch 58:  79%|███████▊  | 117/149 [00:03<00:00, 38.76batch/s, batch_nb=116, loss=0.151, v_nb=2]\n",
      "Epoch 58:  86%|████████▌ | 128/149 [00:03<00:00, 48.62batch/s, batch_nb=116, loss=0.151, v_nb=2]\n",
      "Epoch 58:  95%|█████████▌| 142/149 [00:03<00:00, 60.34batch/s, batch_nb=116, loss=0.151, v_nb=2]\n",
      "Validating:  88%|████████▊ | 28/32 [00:00<00:00, 133.34batch/s]"
     ]
    },
    {
     "name": "stdout",
     "output_type": "stream",
     "text": [
      "val_loss  tensor(0.2343)\n"
     ]
    },
    {
     "name": "stderr",
     "output_type": "stream",
     "text": [
      "Epoch 58: 100%|██████████| 149/149 [00:03<00:00, 60.34batch/s, batch_nb=116, loss=0.151, v_nb=2]\n",
      "Epoch 59:  79%|███████▊  | 117/149 [00:03<00:00, 38.67batch/s, batch_nb=116, loss=0.141, v_nb=2]\n",
      "Epoch 59:  81%|████████  | 121/149 [00:03<00:00, 44.38batch/s, batch_nb=116, loss=0.141, v_nb=2]\n",
      "Epoch 59:  91%|█████████ | 135/149 [00:03<00:00, 55.76batch/s, batch_nb=116, loss=0.141, v_nb=2]\n",
      "Validating:  84%|████████▍ | 27/32 [00:00<00:00, 132.63batch/s]"
     ]
    },
    {
     "name": "stdout",
     "output_type": "stream",
     "text": [
      "val_loss  tensor(0.2354)\n"
     ]
    },
    {
     "name": "stderr",
     "output_type": "stream",
     "text": [
      "Epoch 59: 100%|██████████| 149/149 [00:03<00:00, 55.76batch/s, batch_nb=116, loss=0.141, v_nb=2]\n",
      "Epoch 60:  79%|███████▊  | 117/149 [00:03<00:00, 35.88batch/s, batch_nb=116, loss=0.146, v_nb=2]\n",
      "Epoch 60:  79%|███████▉  | 118/149 [00:03<00:00, 37.76batch/s, batch_nb=116, loss=0.146, v_nb=2]\n",
      "Epoch 60:  86%|████████▌ | 128/149 [00:03<00:00, 46.32batch/s, batch_nb=116, loss=0.146, v_nb=2]\n",
      "Epoch 60:  93%|█████████▎| 138/149 [00:03<00:00, 54.25batch/s, batch_nb=116, loss=0.146, v_nb=2]\n",
      "Epoch 60:  99%|█████████▉| 148/149 [00:03<00:00, 62.43batch/s, batch_nb=116, loss=0.146, v_nb=2]"
     ]
    },
    {
     "name": "stdout",
     "output_type": "stream",
     "text": [
      "val_loss  tensor(0.2301)\n"
     ]
    },
    {
     "name": "stderr",
     "output_type": "stream",
     "text": [
      "Epoch 60: 100%|██████████| 149/149 [00:03<00:00, 62.43batch/s, batch_nb=116, loss=0.146, v_nb=2]\n",
      "Epoch 61:  79%|███████▊  | 117/149 [00:03<00:00, 36.17batch/s, batch_nb=116, loss=0.136, v_nb=2]\n",
      "Epoch 61:  81%|████████  | 121/149 [00:03<00:00, 42.04batch/s, batch_nb=116, loss=0.136, v_nb=2]\n",
      "Epoch 61:  90%|████████▉ | 134/149 [00:03<00:00, 52.38batch/s, batch_nb=116, loss=0.136, v_nb=2]\n",
      "Epoch 61:  95%|█████████▍| 141/149 [00:03<00:00, 54.44batch/s, batch_nb=116, loss=0.136, v_nb=2]\n",
      "Validating: 100%|██████████| 32/32 [00:00<00:00, 100.34batch/s]"
     ]
    },
    {
     "name": "stdout",
     "output_type": "stream",
     "text": [
      "val_loss  tensor(0.2295)\n"
     ]
    },
    {
     "name": "stderr",
     "output_type": "stream",
     "text": [
      "Epoch 61: 100%|██████████| 149/149 [00:03<00:00, 54.44batch/s, batch_nb=116, loss=0.136, v_nb=2]\n",
      "Epoch 62:  79%|███████▊  | 117/149 [00:02<00:00, 39.70batch/s, batch_nb=116, loss=0.151, v_nb=2]\n",
      "Epoch 62:  82%|████████▏ | 122/149 [00:02<00:00, 46.00batch/s, batch_nb=116, loss=0.151, v_nb=2]\n",
      "Epoch 62:  91%|█████████▏| 136/149 [00:03<00:00, 57.52batch/s, batch_nb=116, loss=0.151, v_nb=2]\n",
      "Validating:  84%|████████▍ | 27/32 [00:00<00:00, 132.10batch/s]"
     ]
    },
    {
     "name": "stdout",
     "output_type": "stream",
     "text": [
      "val_loss  tensor(0.2313)\n"
     ]
    },
    {
     "name": "stderr",
     "output_type": "stream",
     "text": [
      "Epoch 62: 100%|██████████| 149/149 [00:03<00:00, 57.52batch/s, batch_nb=116, loss=0.151, v_nb=2]\n",
      "Epoch 63:  79%|███████▊  | 117/149 [00:02<00:00, 39.94batch/s, batch_nb=116, loss=0.145, v_nb=2]\n",
      "Epoch 63:  80%|███████▉  | 119/149 [00:02<00:00, 44.15batch/s, batch_nb=116, loss=0.145, v_nb=2]\n",
      "Epoch 63:  89%|████████▊ | 132/149 [00:03<00:00, 54.92batch/s, batch_nb=116, loss=0.145, v_nb=2]\n",
      "Epoch 63:  97%|█████████▋| 144/149 [00:03<00:00, 65.28batch/s, batch_nb=116, loss=0.145, v_nb=2]"
     ]
    },
    {
     "name": "stdout",
     "output_type": "stream",
     "text": [
      "val_loss  tensor(0.2440)\n"
     ]
    },
    {
     "name": "stderr",
     "output_type": "stream",
     "text": [
      "Epoch 63: 100%|██████████| 149/149 [00:03<00:00, 65.28batch/s, batch_nb=116, loss=0.145, v_nb=2]\n",
      "Epoch 64:  79%|███████▊  | 117/149 [00:02<00:00, 38.29batch/s, batch_nb=116, loss=0.140, v_nb=2]\n",
      "Epoch 64:  80%|███████▉  | 119/149 [00:02<00:00, 42.53batch/s, batch_nb=116, loss=0.140, v_nb=2]\n",
      "Epoch 64:  89%|████████▉ | 133/149 [00:03<00:00, 53.45batch/s, batch_nb=116, loss=0.140, v_nb=2]\n",
      "Epoch 64:  98%|█████████▊| 146/149 [00:03<00:00, 64.37batch/s, batch_nb=116, loss=0.140, v_nb=2]"
     ]
    },
    {
     "name": "stdout",
     "output_type": "stream",
     "text": [
      "val_loss  tensor(0.2353)\n"
     ]
    },
    {
     "name": "stderr",
     "output_type": "stream",
     "text": [
      "Epoch 64: 100%|██████████| 149/149 [00:03<00:00, 64.37batch/s, batch_nb=116, loss=0.140, v_nb=2]\n",
      "Epoch 65:  79%|███████▊  | 117/149 [00:02<00:00, 43.71batch/s, batch_nb=116, loss=0.139, v_nb=2]\n",
      "Epoch 65:  79%|███████▉  | 118/149 [00:02<00:00, 46.68batch/s, batch_nb=116, loss=0.139, v_nb=2]\n",
      "Epoch 65:  89%|████████▉ | 133/149 [00:02<00:00, 58.60batch/s, batch_nb=116, loss=0.139, v_nb=2]\n",
      "Epoch 65:  98%|█████████▊| 146/149 [00:02<00:00, 69.99batch/s, batch_nb=116, loss=0.139, v_nb=2]"
     ]
    },
    {
     "name": "stdout",
     "output_type": "stream",
     "text": [
      "val_loss  tensor(0.2286)\n"
     ]
    },
    {
     "name": "stderr",
     "output_type": "stream",
     "text": [
      "Epoch 65: 100%|██████████| 149/149 [00:02<00:00, 69.99batch/s, batch_nb=116, loss=0.139, v_nb=2]\n",
      "Epoch 66:  79%|███████▊  | 117/149 [00:03<00:00, 35.99batch/s, batch_nb=116, loss=0.137, v_nb=2]\n",
      "Epoch 66:  81%|████████  | 120/149 [00:03<00:00, 40.88batch/s, batch_nb=116, loss=0.137, v_nb=2]\n",
      "Epoch 66:  89%|████████▉ | 133/149 [00:03<00:00, 51.39batch/s, batch_nb=116, loss=0.137, v_nb=2]\n",
      "Epoch 66:  98%|█████████▊| 146/149 [00:03<00:00, 62.52batch/s, batch_nb=116, loss=0.137, v_nb=2]"
     ]
    },
    {
     "name": "stdout",
     "output_type": "stream",
     "text": [
      "val_loss  tensor(0.2351)\n"
     ]
    },
    {
     "name": "stderr",
     "output_type": "stream",
     "text": [
      "Epoch 66: 100%|██████████| 149/149 [00:03<00:00, 62.52batch/s, batch_nb=116, loss=0.137, v_nb=2]\n",
      "Epoch 67:  79%|███████▊  | 117/149 [00:03<00:00, 39.99batch/s, batch_nb=116, loss=0.143, v_nb=2]\n",
      "Epoch 67:  81%|████████  | 121/149 [00:03<00:00, 45.42batch/s, batch_nb=116, loss=0.143, v_nb=2]\n",
      "Epoch 67:  91%|█████████ | 135/149 [00:03<00:00, 56.76batch/s, batch_nb=116, loss=0.143, v_nb=2]\n",
      "Validating:  88%|████████▊ | 28/32 [00:00<00:00, 133.83batch/s]"
     ]
    },
    {
     "name": "stdout",
     "output_type": "stream",
     "text": [
      "val_loss  tensor(0.2236)\n"
     ]
    },
    {
     "name": "stderr",
     "output_type": "stream",
     "text": [
      "Epoch 67: 100%|██████████| 149/149 [00:03<00:00, 56.76batch/s, batch_nb=116, loss=0.143, v_nb=2]\n",
      "Epoch 68:  79%|███████▊  | 117/149 [00:03<00:00, 33.45batch/s, batch_nb=116, loss=0.138, v_nb=2]\n",
      "Epoch 68:  83%|████████▎ | 123/149 [00:03<00:00, 40.25batch/s, batch_nb=116, loss=0.138, v_nb=2]\n",
      "Epoch 68:  90%|████████▉ | 134/149 [00:03<00:00, 49.62batch/s, batch_nb=116, loss=0.138, v_nb=2]\n",
      "Epoch 68:  97%|█████████▋| 145/149 [00:03<00:00, 59.27batch/s, batch_nb=116, loss=0.138, v_nb=2]"
     ]
    },
    {
     "name": "stdout",
     "output_type": "stream",
     "text": [
      "val_loss  tensor(0.2317)\n"
     ]
    },
    {
     "name": "stderr",
     "output_type": "stream",
     "text": [
      "Epoch 68: 100%|██████████| 149/149 [00:03<00:00, 59.27batch/s, batch_nb=116, loss=0.138, v_nb=2]\n",
      "Epoch 69:  79%|███████▊  | 117/149 [00:02<00:00, 40.97batch/s, batch_nb=116, loss=0.139, v_nb=2]\n",
      "Epoch 69:  82%|████████▏ | 122/149 [00:03<00:00, 47.59batch/s, batch_nb=116, loss=0.139, v_nb=2]\n",
      "Epoch 69:  91%|█████████▏| 136/149 [00:03<00:00, 59.21batch/s, batch_nb=116, loss=0.139, v_nb=2]\n",
      "Validating:  88%|████████▊ | 28/32 [00:00<00:00, 137.15batch/s]"
     ]
    },
    {
     "name": "stdout",
     "output_type": "stream",
     "text": [
      "val_loss  tensor(0.2326)\n"
     ]
    },
    {
     "name": "stderr",
     "output_type": "stream",
     "text": [
      "Epoch 69: 100%|██████████| 149/149 [00:03<00:00, 59.21batch/s, batch_nb=116, loss=0.139, v_nb=2]\n",
      "Epoch 70:  79%|███████▊  | 117/149 [00:03<00:00, 35.80batch/s, batch_nb=116, loss=0.133, v_nb=2]\n",
      "Epoch 70:  81%|████████  | 121/149 [00:03<00:00, 41.91batch/s, batch_nb=116, loss=0.133, v_nb=2]\n",
      "Epoch 70:  91%|█████████ | 135/149 [00:03<00:00, 52.77batch/s, batch_nb=116, loss=0.133, v_nb=2]\n",
      "Epoch 70:  97%|█████████▋| 145/149 [00:03<00:00, 60.72batch/s, batch_nb=116, loss=0.133, v_nb=2]"
     ]
    },
    {
     "name": "stdout",
     "output_type": "stream",
     "text": [
      "val_loss  tensor(0.2312)\n"
     ]
    },
    {
     "name": "stderr",
     "output_type": "stream",
     "text": [
      "Epoch 70: 100%|██████████| 149/149 [00:03<00:00, 60.72batch/s, batch_nb=116, loss=0.133, v_nb=2]\n",
      "Epoch 71:  79%|███████▊  | 117/149 [00:03<00:00, 39.09batch/s, batch_nb=116, loss=0.133, v_nb=2]\n",
      "Epoch 71:  85%|████████▌ | 127/149 [00:03<00:00, 48.14batch/s, batch_nb=116, loss=0.133, v_nb=2]\n",
      "Epoch 71:  95%|█████████▍| 141/149 [00:03<00:00, 59.53batch/s, batch_nb=116, loss=0.133, v_nb=2]\n",
      "Validating:  81%|████████▏ | 26/32 [00:00<00:00, 123.72batch/s]"
     ]
    },
    {
     "name": "stdout",
     "output_type": "stream",
     "text": [
      "val_loss  tensor(0.2317)\n"
     ]
    },
    {
     "name": "stderr",
     "output_type": "stream",
     "text": [
      "Epoch 71: 100%|██████████| 149/149 [00:03<00:00, 59.53batch/s, batch_nb=116, loss=0.133, v_nb=2]\n",
      "Epoch 72:  79%|███████▊  | 117/149 [00:03<00:00, 33.59batch/s, batch_nb=116, loss=0.134, v_nb=2]\n",
      "Epoch 72:  82%|████████▏ | 122/149 [00:03<00:00, 40.39batch/s, batch_nb=116, loss=0.134, v_nb=2]\n",
      "Epoch 72:  92%|█████████▏| 137/149 [00:03<00:00, 51.40batch/s, batch_nb=116, loss=0.134, v_nb=2]\n",
      "Validating:  88%|████████▊ | 28/32 [00:00<00:00, 137.61batch/s]"
     ]
    },
    {
     "name": "stdout",
     "output_type": "stream",
     "text": [
      "val_loss  tensor(0.2249)\n"
     ]
    },
    {
     "name": "stderr",
     "output_type": "stream",
     "text": [
      "Epoch 72: 100%|██████████| 149/149 [00:03<00:00, 51.40batch/s, batch_nb=116, loss=0.134, v_nb=2]\n",
      "Epoch 73:  79%|███████▊  | 117/149 [00:03<00:00, 37.65batch/s, batch_nb=116, loss=0.139, v_nb=2]\n",
      "Epoch 73:  79%|███████▉  | 118/149 [00:03<00:00, 40.01batch/s, batch_nb=116, loss=0.139, v_nb=2]\n",
      "Epoch 73:  88%|████████▊ | 131/149 [00:03<00:00, 50.32batch/s, batch_nb=116, loss=0.139, v_nb=2]\n",
      "Epoch 73:  96%|█████████▌| 143/149 [00:03<00:00, 60.48batch/s, batch_nb=116, loss=0.139, v_nb=2]"
     ]
    },
    {
     "name": "stdout",
     "output_type": "stream",
     "text": [
      "val_loss  tensor(0.2255)\n"
     ]
    },
    {
     "name": "stderr",
     "output_type": "stream",
     "text": [
      "Epoch 73: 100%|██████████| 149/149 [00:03<00:00, 60.48batch/s, batch_nb=116, loss=0.139, v_nb=2]\n",
      "Epoch 74:  79%|███████▊  | 117/149 [00:03<00:00, 34.82batch/s, batch_nb=116, loss=0.137, v_nb=2]\n",
      "Epoch 74:  86%|████████▌ | 128/149 [00:03<00:00, 44.07batch/s, batch_nb=116, loss=0.137, v_nb=2]\n",
      "Epoch 74:  95%|█████████▍| 141/149 [00:03<00:00, 54.65batch/s, batch_nb=116, loss=0.137, v_nb=2]\n",
      "Validating:  81%|████████▏ | 26/32 [00:00<00:00, 127.55batch/s]"
     ]
    },
    {
     "name": "stdout",
     "output_type": "stream",
     "text": [
      "val_loss  tensor(0.2328)\n"
     ]
    },
    {
     "name": "stderr",
     "output_type": "stream",
     "text": [
      "Epoch 74: 100%|██████████| 149/149 [00:03<00:00, 54.65batch/s, batch_nb=116, loss=0.137, v_nb=2]\n",
      "Epoch 75:  79%|███████▊  | 117/149 [00:03<00:00, 37.65batch/s, batch_nb=116, loss=0.129, v_nb=2]\n",
      "Epoch 75:  86%|████████▌ | 128/149 [00:03<00:00, 47.25batch/s, batch_nb=116, loss=0.129, v_nb=2]\n",
      "Validating:  44%|████▍     | 14/32 [00:00<00:00, 134.40batch/s]\n",
      "Epoch 75:  92%|█████████▏| 137/149 [00:03<00:00, 52.05batch/s, batch_nb=116, loss=0.129, v_nb=2]\n",
      "Epoch 75:  99%|█████████▉| 148/149 [00:03<00:00, 60.82batch/s, batch_nb=116, loss=0.129, v_nb=2]"
     ]
    },
    {
     "name": "stdout",
     "output_type": "stream",
     "text": [
      "val_loss  tensor(0.2295)\n"
     ]
    },
    {
     "name": "stderr",
     "output_type": "stream",
     "text": [
      "Epoch 75: 100%|██████████| 149/149 [00:03<00:00, 60.82batch/s, batch_nb=116, loss=0.129, v_nb=2]\n",
      "Epoch 76:  79%|███████▊  | 117/149 [00:03<00:00, 40.58batch/s, batch_nb=116, loss=0.133, v_nb=2]\n",
      "Epoch 76:  87%|████████▋ | 130/149 [00:03<00:00, 51.03batch/s, batch_nb=116, loss=0.133, v_nb=2]\n",
      "Epoch 76:  96%|█████████▌| 143/149 [00:03<00:00, 62.08batch/s, batch_nb=116, loss=0.133, v_nb=2]\n",
      "Validating:  84%|████████▍ | 27/32 [00:00<00:00, 133.42batch/s]"
     ]
    },
    {
     "name": "stdout",
     "output_type": "stream",
     "text": [
      "val_loss  tensor(0.2317)\n"
     ]
    },
    {
     "name": "stderr",
     "output_type": "stream",
     "text": [
      "Epoch 76: 100%|██████████| 149/149 [00:03<00:00, 62.08batch/s, batch_nb=116, loss=0.133, v_nb=2]\n",
      "Epoch 77:  79%|███████▊  | 117/149 [00:03<00:00, 38.81batch/s, batch_nb=116, loss=0.134, v_nb=2]\n",
      "Epoch 77:  80%|███████▉  | 119/149 [00:03<00:00, 43.05batch/s, batch_nb=116, loss=0.134, v_nb=2]\n",
      "Epoch 77:  89%|████████▉ | 133/149 [00:03<00:00, 53.92batch/s, batch_nb=116, loss=0.134, v_nb=2]\n",
      "Epoch 77:  98%|█████████▊| 146/149 [00:03<00:00, 65.07batch/s, batch_nb=116, loss=0.134, v_nb=2]"
     ]
    },
    {
     "name": "stdout",
     "output_type": "stream",
     "text": [
      "val_loss  tensor(0.2353)\n"
     ]
    },
    {
     "name": "stderr",
     "output_type": "stream",
     "text": [
      "Epoch 77: 100%|██████████| 149/149 [00:03<00:00, 65.07batch/s, batch_nb=116, loss=0.134, v_nb=2]\n",
      "Epoch 78:  79%|███████▊  | 117/149 [00:03<00:00, 33.04batch/s, batch_nb=116, loss=0.138, v_nb=2]\n",
      "Epoch 78:  83%|████████▎ | 123/149 [00:03<00:00, 39.72batch/s, batch_nb=116, loss=0.138, v_nb=2]\n",
      "Epoch 78:  90%|████████▉ | 134/149 [00:03<00:00, 48.54batch/s, batch_nb=116, loss=0.138, v_nb=2]\n",
      "Epoch 78:  97%|█████████▋| 145/149 [00:03<00:00, 57.83batch/s, batch_nb=116, loss=0.138, v_nb=2]\n",
      "Validating:  97%|█████████▋| 31/32 [00:00<00:00, 103.61batch/s]"
     ]
    },
    {
     "name": "stdout",
     "output_type": "stream",
     "text": [
      "val_loss  tensor(0.2308)\n"
     ]
    },
    {
     "name": "stderr",
     "output_type": "stream",
     "text": [
      "Epoch 78: 100%|██████████| 149/149 [00:03<00:00, 57.83batch/s, batch_nb=116, loss=0.138, v_nb=2]\n",
      "Epoch 79:  79%|███████▊  | 117/149 [00:03<00:01, 31.51batch/s, batch_nb=116, loss=0.133, v_nb=2]\n",
      "Epoch 79:  80%|███████▉  | 119/149 [00:03<00:00, 34.97batch/s, batch_nb=116, loss=0.133, v_nb=2]\n",
      "Epoch 79:  85%|████████▌ | 127/149 [00:03<00:00, 41.97batch/s, batch_nb=116, loss=0.133, v_nb=2]\n",
      "Epoch 79:  92%|█████████▏| 137/149 [00:03<00:00, 50.77batch/s, batch_nb=116, loss=0.133, v_nb=2]\n",
      "Epoch 79:  99%|█████████▊| 147/149 [00:03<00:00, 59.48batch/s, batch_nb=116, loss=0.133, v_nb=2]"
     ]
    },
    {
     "name": "stdout",
     "output_type": "stream",
     "text": [
      "val_loss  tensor(0.2326)\n"
     ]
    },
    {
     "name": "stderr",
     "output_type": "stream",
     "text": [
      "Epoch 79: 100%|██████████| 149/149 [00:03<00:00, 59.48batch/s, batch_nb=116, loss=0.133, v_nb=2]\n",
      "Epoch 80:  79%|███████▊  | 117/149 [00:03<00:00, 34.67batch/s, batch_nb=116, loss=0.136, v_nb=2]\n",
      "Epoch 80:  82%|████████▏ | 122/149 [00:03<00:00, 41.38batch/s, batch_nb=116, loss=0.136, v_nb=2]\n",
      "Epoch 80:  91%|█████████▏| 136/149 [00:03<00:00, 51.97batch/s, batch_nb=116, loss=0.136, v_nb=2]\n",
      "Validating:  84%|████████▍ | 27/32 [00:00<00:00, 130.28batch/s]"
     ]
    },
    {
     "name": "stdout",
     "output_type": "stream",
     "text": [
      "val_loss  tensor(0.2417)\n"
     ]
    },
    {
     "name": "stderr",
     "output_type": "stream",
     "text": [
      "Epoch 80: 100%|██████████| 149/149 [00:03<00:00, 51.97batch/s, batch_nb=116, loss=0.136, v_nb=2]\n",
      "Epoch 81:  79%|███████▊  | 117/149 [00:02<00:00, 38.83batch/s, batch_nb=116, loss=0.129, v_nb=2]\n",
      "Epoch 81:  82%|████████▏ | 122/149 [00:03<00:00, 45.68batch/s, batch_nb=116, loss=0.129, v_nb=2]\n",
      "Epoch 81:  91%|█████████ | 135/149 [00:03<00:00, 56.31batch/s, batch_nb=116, loss=0.129, v_nb=2]\n",
      "Epoch 81:  99%|█████████▊| 147/149 [00:03<00:00, 66.61batch/s, batch_nb=116, loss=0.129, v_nb=2]"
     ]
    },
    {
     "name": "stdout",
     "output_type": "stream",
     "text": [
      "val_loss  tensor(0.2301)\n"
     ]
    },
    {
     "name": "stderr",
     "output_type": "stream",
     "text": [
      "Epoch 81: 100%|██████████| 149/149 [00:03<00:00, 66.61batch/s, batch_nb=116, loss=0.129, v_nb=2]\n",
      "Epoch 82:  79%|███████▊  | 117/149 [00:03<00:00, 36.46batch/s, batch_nb=116, loss=0.135, v_nb=2]\n",
      "Epoch 82:  81%|████████  | 120/149 [00:03<00:00, 41.01batch/s, batch_nb=116, loss=0.135, v_nb=2]\n",
      "Epoch 82:  89%|████████▉ | 133/149 [00:03<00:00, 51.46batch/s, batch_nb=116, loss=0.135, v_nb=2]\n",
      "Epoch 82:  99%|█████████▊| 147/149 [00:03<00:00, 62.77batch/s, batch_nb=116, loss=0.135, v_nb=2]"
     ]
    },
    {
     "name": "stdout",
     "output_type": "stream",
     "text": [
      "val_loss  tensor(0.2353)\n"
     ]
    },
    {
     "name": "stderr",
     "output_type": "stream",
     "text": [
      "Epoch 82: 100%|██████████| 149/149 [00:03<00:00, 62.77batch/s, batch_nb=116, loss=0.135, v_nb=2]\n",
      "Epoch 83:  79%|███████▊  | 117/149 [00:03<00:00, 38.63batch/s, batch_nb=116, loss=0.126, v_nb=2]\n",
      "Epoch 83:  85%|████████▌ | 127/149 [00:03<00:00, 47.93batch/s, batch_nb=116, loss=0.126, v_nb=2]\n",
      "Epoch 83:  94%|█████████▍| 140/149 [00:03<00:00, 59.08batch/s, batch_nb=116, loss=0.126, v_nb=2]\n",
      "Validating:  81%|████████▏ | 26/32 [00:00<00:00, 125.51batch/s]"
     ]
    },
    {
     "name": "stdout",
     "output_type": "stream",
     "text": [
      "val_loss  tensor(0.2306)\n"
     ]
    },
    {
     "name": "stderr",
     "output_type": "stream",
     "text": [
      "Epoch 83: 100%|██████████| 149/149 [00:03<00:00, 59.08batch/s, batch_nb=116, loss=0.126, v_nb=2]\n",
      "Epoch 84:  79%|███████▊  | 117/149 [00:03<00:00, 34.23batch/s, batch_nb=116, loss=0.125, v_nb=2]\n",
      "Epoch 84:  83%|████████▎ | 123/149 [00:03<00:00, 41.16batch/s, batch_nb=116, loss=0.125, v_nb=2]\n",
      "Epoch 84:  90%|████████▉ | 134/149 [00:03<00:00, 50.37batch/s, batch_nb=116, loss=0.125, v_nb=2]\n",
      "Epoch 84:  96%|█████████▌| 143/149 [00:03<00:00, 57.44batch/s, batch_nb=116, loss=0.125, v_nb=2]\n",
      "Validating:  94%|█████████▍| 30/32 [00:00<00:00, 94.29batch/s] "
     ]
    },
    {
     "name": "stdout",
     "output_type": "stream",
     "text": [
      "val_loss  tensor(0.2282)\n"
     ]
    },
    {
     "name": "stderr",
     "output_type": "stream",
     "text": [
      "Epoch 84: 100%|██████████| 149/149 [00:03<00:00, 57.44batch/s, batch_nb=116, loss=0.125, v_nb=2]\n",
      "Epoch 85:  79%|███████▊  | 117/149 [00:03<00:00, 35.18batch/s, batch_nb=116, loss=0.121, v_nb=2]\n",
      "Epoch 85:  82%|████████▏ | 122/149 [00:03<00:00, 40.55batch/s, batch_nb=116, loss=0.121, v_nb=2]\n",
      "Epoch 85:  89%|████████▉ | 133/149 [00:03<00:00, 50.01batch/s, batch_nb=116, loss=0.121, v_nb=2]\n",
      "Epoch 85:  98%|█████████▊| 146/149 [00:04<00:00, 60.67batch/s, batch_nb=116, loss=0.121, v_nb=2]"
     ]
    },
    {
     "name": "stdout",
     "output_type": "stream",
     "text": [
      "val_loss  tensor(0.2248)\n"
     ]
    },
    {
     "name": "stderr",
     "output_type": "stream",
     "text": [
      "Epoch 85: 100%|██████████| 149/149 [00:04<00:00, 60.67batch/s, batch_nb=116, loss=0.121, v_nb=2]\n",
      "Epoch 86:  79%|███████▊  | 117/149 [00:03<00:00, 38.13batch/s, batch_nb=116, loss=0.129, v_nb=2]\n",
      "Epoch 86:  81%|████████  | 121/149 [00:03<00:00, 43.92batch/s, batch_nb=116, loss=0.129, v_nb=2]\n",
      "Epoch 86:  89%|████████▉ | 133/149 [00:03<00:00, 54.22batch/s, batch_nb=116, loss=0.129, v_nb=2]\n",
      "Epoch 86:  98%|█████████▊| 146/149 [00:03<00:00, 65.41batch/s, batch_nb=116, loss=0.129, v_nb=2]"
     ]
    },
    {
     "name": "stdout",
     "output_type": "stream",
     "text": [
      "val_loss  tensor(0.2285)\n"
     ]
    },
    {
     "name": "stderr",
     "output_type": "stream",
     "text": [
      "Epoch 86: 100%|██████████| 149/149 [00:03<00:00, 65.41batch/s, batch_nb=116, loss=0.129, v_nb=2]\n",
      "Epoch 87:  79%|███████▊  | 117/149 [00:03<00:00, 37.33batch/s, batch_nb=116, loss=0.128, v_nb=2]\n",
      "Epoch 87:  79%|███████▉  | 118/149 [00:03<00:00, 39.87batch/s, batch_nb=116, loss=0.128, v_nb=2]\n",
      "Epoch 87:  88%|████████▊ | 131/149 [00:03<00:00, 50.09batch/s, batch_nb=116, loss=0.128, v_nb=2]\n",
      "Epoch 87:  96%|█████████▌| 143/149 [00:03<00:00, 60.14batch/s, batch_nb=116, loss=0.128, v_nb=2]"
     ]
    },
    {
     "name": "stdout",
     "output_type": "stream",
     "text": [
      "val_loss  tensor(0.2312)\n"
     ]
    },
    {
     "name": "stderr",
     "output_type": "stream",
     "text": [
      "Epoch 87: 100%|██████████| 149/149 [00:03<00:00, 60.14batch/s, batch_nb=116, loss=0.128, v_nb=2]\n",
      "Epoch 88:  79%|███████▊  | 117/149 [00:03<00:01, 31.88batch/s, batch_nb=116, loss=0.129, v_nb=2]\n",
      "Epoch 88:  80%|███████▉  | 119/149 [00:03<00:00, 35.52batch/s, batch_nb=116, loss=0.129, v_nb=2]\n",
      "Epoch 88:  86%|████████▌ | 128/149 [00:03<00:00, 42.09batch/s, batch_nb=116, loss=0.129, v_nb=2]\n",
      "Epoch 88:  91%|█████████▏| 136/149 [00:03<00:00, 49.02batch/s, batch_nb=116, loss=0.129, v_nb=2]\n",
      "Epoch 88:  98%|█████████▊| 146/149 [00:03<00:00, 57.11batch/s, batch_nb=116, loss=0.129, v_nb=2]"
     ]
    },
    {
     "name": "stdout",
     "output_type": "stream",
     "text": [
      "val_loss  tensor(0.2342)\n"
     ]
    },
    {
     "name": "stderr",
     "output_type": "stream",
     "text": [
      "Epoch 88: 100%|██████████| 149/149 [00:03<00:00, 57.11batch/s, batch_nb=116, loss=0.129, v_nb=2]\n",
      "Epoch 89:  79%|███████▊  | 117/149 [00:02<00:00, 42.74batch/s, batch_nb=116, loss=0.128, v_nb=2]\n",
      "Epoch 89:  79%|███████▉  | 118/149 [00:02<00:00, 45.51batch/s, batch_nb=116, loss=0.128, v_nb=2]\n",
      "Epoch 89:  89%|████████▊ | 132/149 [00:03<00:00, 56.81batch/s, batch_nb=116, loss=0.128, v_nb=2]\n",
      "Epoch 89:  94%|█████████▍| 140/149 [00:03<00:00, 58.74batch/s, batch_nb=116, loss=0.128, v_nb=2]"
     ]
    },
    {
     "name": "stdout",
     "output_type": "stream",
     "text": [
      "val_loss  tensor(0.2346)\n"
     ]
    },
    {
     "name": "stderr",
     "output_type": "stream",
     "text": [
      "Epoch 89: 100%|██████████| 149/149 [00:03<00:00, 58.74batch/s, batch_nb=116, loss=0.128, v_nb=2]\n",
      "Epoch 90:  79%|███████▊  | 117/149 [00:03<00:00, 34.31batch/s, batch_nb=116, loss=0.130, v_nb=2]\n",
      "Epoch 90:  81%|████████  | 121/149 [00:03<00:00, 39.26batch/s, batch_nb=116, loss=0.130, v_nb=2]\n",
      "Epoch 90:  90%|████████▉ | 134/149 [00:03<00:00, 49.40batch/s, batch_nb=116, loss=0.130, v_nb=2]\n",
      "Epoch 90:  99%|█████████▊| 147/149 [00:03<00:00, 59.90batch/s, batch_nb=116, loss=0.130, v_nb=2]"
     ]
    },
    {
     "name": "stdout",
     "output_type": "stream",
     "text": [
      "val_loss  tensor(0.2412)\n"
     ]
    },
    {
     "name": "stderr",
     "output_type": "stream",
     "text": [
      "Epoch 90: 100%|██████████| 149/149 [00:03<00:00, 59.90batch/s, batch_nb=116, loss=0.130, v_nb=2]\n",
      "Epoch 91:  79%|███████▊  | 117/149 [00:03<00:00, 36.26batch/s, batch_nb=116, loss=0.131, v_nb=2]\n",
      "Epoch 91:  80%|███████▉  | 119/149 [00:03<00:00, 37.06batch/s, batch_nb=116, loss=0.131, v_nb=2]\n",
      "Epoch 91:  89%|████████▊ | 132/149 [00:03<00:00, 46.82batch/s, batch_nb=116, loss=0.131, v_nb=2]\n",
      "Epoch 91:  97%|█████████▋| 145/149 [00:03<00:00, 57.79batch/s, batch_nb=116, loss=0.131, v_nb=2]"
     ]
    },
    {
     "name": "stdout",
     "output_type": "stream",
     "text": [
      "val_loss  tensor(0.2342)\n"
     ]
    },
    {
     "name": "stderr",
     "output_type": "stream",
     "text": [
      "Epoch 91: 100%|██████████| 149/149 [00:03<00:00, 57.79batch/s, batch_nb=116, loss=0.131, v_nb=2]\n",
      "Epoch 92:  79%|███████▊  | 117/149 [00:03<00:00, 33.34batch/s, batch_nb=116, loss=0.134, v_nb=2]\n",
      "Epoch 92:  85%|████████▍ | 126/149 [00:03<00:00, 41.35batch/s, batch_nb=116, loss=0.134, v_nb=2]\n",
      "Epoch 92:  91%|█████████▏| 136/149 [00:03<00:00, 49.21batch/s, batch_nb=116, loss=0.134, v_nb=2]\n",
      "Epoch 92:  97%|█████████▋| 145/149 [00:03<00:00, 56.30batch/s, batch_nb=116, loss=0.134, v_nb=2]\n",
      "Validating:  91%|█████████ | 29/32 [00:00<00:00, 95.25batch/s]"
     ]
    },
    {
     "name": "stdout",
     "output_type": "stream",
     "text": [
      "val_loss  tensor(0.2387)\n"
     ]
    },
    {
     "name": "stderr",
     "output_type": "stream",
     "text": [
      "Epoch 92: 100%|██████████| 149/149 [00:03<00:00, 56.30batch/s, batch_nb=116, loss=0.134, v_nb=2]\n",
      "Epoch 93:  79%|███████▊  | 117/149 [00:03<00:00, 37.33batch/s, batch_nb=116, loss=0.123, v_nb=2]\n",
      "Epoch 93:  79%|███████▉  | 118/149 [00:03<00:00, 40.34batch/s, batch_nb=116, loss=0.123, v_nb=2]\n",
      "Epoch 93:  88%|████████▊ | 131/149 [00:03<00:00, 50.56batch/s, batch_nb=116, loss=0.123, v_nb=2]\n",
      "Epoch 93:  96%|█████████▌| 143/149 [00:03<00:00, 60.97batch/s, batch_nb=116, loss=0.123, v_nb=2]"
     ]
    },
    {
     "name": "stdout",
     "output_type": "stream",
     "text": [
      "val_loss  tensor(0.2513)\n"
     ]
    },
    {
     "name": "stderr",
     "output_type": "stream",
     "text": [
      "Epoch 93: 100%|██████████| 149/149 [00:03<00:00, 60.97batch/s, batch_nb=116, loss=0.123, v_nb=2]\n",
      "Epoch 94:  79%|███████▊  | 117/149 [00:03<00:00, 37.27batch/s, batch_nb=116, loss=0.121, v_nb=2]\n",
      "Epoch 94:  80%|███████▉  | 119/149 [00:03<00:00, 41.23batch/s, batch_nb=116, loss=0.121, v_nb=2]\n",
      "Epoch 94:  89%|████████▉ | 133/149 [00:03<00:00, 51.81batch/s, batch_nb=116, loss=0.121, v_nb=2]\n",
      "Epoch 94:  97%|█████████▋| 144/149 [00:03<00:00, 61.11batch/s, batch_nb=116, loss=0.121, v_nb=2]"
     ]
    },
    {
     "name": "stdout",
     "output_type": "stream",
     "text": [
      "val_loss  tensor(0.2265)\n"
     ]
    },
    {
     "name": "stderr",
     "output_type": "stream",
     "text": [
      "Epoch 94: 100%|██████████| 149/149 [00:03<00:00, 61.11batch/s, batch_nb=116, loss=0.121, v_nb=2]\n",
      "Epoch 95:  79%|███████▊  | 117/149 [00:03<00:00, 38.34batch/s, batch_nb=116, loss=0.123, v_nb=2]\n",
      "Epoch 95:  83%|████████▎ | 124/149 [00:03<00:00, 45.88batch/s, batch_nb=116, loss=0.123, v_nb=2]\n",
      "Epoch 95:  92%|█████████▏| 137/149 [00:03<00:00, 56.70batch/s, batch_nb=116, loss=0.123, v_nb=2]\n",
      "Validating:  81%|████████▏ | 26/32 [00:00<00:00, 122.87batch/s]"
     ]
    },
    {
     "name": "stdout",
     "output_type": "stream",
     "text": [
      "val_loss  tensor(0.2331)\n"
     ]
    },
    {
     "name": "stderr",
     "output_type": "stream",
     "text": [
      "Epoch 95: 100%|██████████| 149/149 [00:03<00:00, 56.70batch/s, batch_nb=116, loss=0.123, v_nb=2]\n",
      "Epoch 96:  79%|███████▊  | 117/149 [00:03<00:00, 34.63batch/s, batch_nb=116, loss=0.125, v_nb=2]\n",
      "Epoch 96:  85%|████████▌ | 127/149 [00:03<00:00, 42.86batch/s, batch_nb=116, loss=0.125, v_nb=2]\n",
      "Epoch 96:  93%|█████████▎| 138/149 [00:03<00:00, 52.28batch/s, batch_nb=116, loss=0.125, v_nb=2]\n",
      "Validating:  69%|██████▉   | 22/32 [00:00<00:00, 104.81batch/s]"
     ]
    },
    {
     "name": "stdout",
     "output_type": "stream",
     "text": [
      "val_loss  tensor(0.2414)\n"
     ]
    },
    {
     "name": "stderr",
     "output_type": "stream",
     "text": [
      "Epoch 96: 100%|██████████| 149/149 [00:03<00:00, 52.28batch/s, batch_nb=116, loss=0.125, v_nb=2]\n",
      "Epoch 97:  79%|███████▊  | 117/149 [00:03<00:00, 35.36batch/s, batch_nb=116, loss=0.124, v_nb=2]\n",
      "Epoch 97:  84%|████████▍ | 125/149 [00:03<00:00, 43.65batch/s, batch_nb=116, loss=0.124, v_nb=2]\n",
      "Epoch 97:  93%|█████████▎| 139/149 [00:03<00:00, 54.73batch/s, batch_nb=116, loss=0.124, v_nb=2]\n",
      "Validating:  88%|████████▊ | 28/32 [00:00<00:00, 137.07batch/s]"
     ]
    },
    {
     "name": "stdout",
     "output_type": "stream",
     "text": [
      "val_loss  tensor(0.2345)\n"
     ]
    },
    {
     "name": "stderr",
     "output_type": "stream",
     "text": [
      "Epoch 97: 100%|██████████| 149/149 [00:03<00:00, 54.73batch/s, batch_nb=116, loss=0.124, v_nb=2]\n",
      "Epoch 98:  79%|███████▊  | 117/149 [00:03<00:00, 37.92batch/s, batch_nb=116, loss=0.121, v_nb=2]\n",
      "Epoch 98:  83%|████████▎ | 123/149 [00:03<00:00, 44.82batch/s, batch_nb=116, loss=0.121, v_nb=2]\n",
      "Epoch 98:  91%|█████████▏| 136/149 [00:03<00:00, 55.37batch/s, batch_nb=116, loss=0.121, v_nb=2]\n",
      "Validating:  81%|████████▏ | 26/32 [00:00<00:00, 120.74batch/s]"
     ]
    },
    {
     "name": "stdout",
     "output_type": "stream",
     "text": [
      "val_loss  tensor(0.2388)\n"
     ]
    },
    {
     "name": "stderr",
     "output_type": "stream",
     "text": [
      "Epoch 98: 100%|██████████| 149/149 [00:03<00:00, 55.37batch/s, batch_nb=116, loss=0.121, v_nb=2]\n",
      "Epoch 99:  79%|███████▊  | 117/149 [00:03<00:00, 36.19batch/s, batch_nb=116, loss=0.124, v_nb=2]\n",
      "Epoch 99:  83%|████████▎ | 124/149 [00:03<00:00, 43.88batch/s, batch_nb=116, loss=0.124, v_nb=2]\n",
      "Epoch 99:  93%|█████████▎| 138/149 [00:03<00:00, 55.16batch/s, batch_nb=116, loss=0.124, v_nb=2]\n",
      "Validating:  84%|████████▍ | 27/32 [00:00<00:00, 127.32batch/s]"
     ]
    },
    {
     "name": "stdout",
     "output_type": "stream",
     "text": [
      "val_loss  tensor(0.2214)\n"
     ]
    },
    {
     "name": "stderr",
     "output_type": "stream",
     "text": [
      "Epoch 99: 100%|██████████| 149/149 [00:03<00:00, 55.16batch/s, batch_nb=116, loss=0.124, v_nb=2]\n",
      "Epoch 100:  79%|███████▊  | 117/149 [00:03<00:00, 37.55batch/s, batch_nb=116, loss=0.125, v_nb=2]\n",
      "Epoch 100:  85%|████████▍ | 126/149 [00:03<00:00, 46.54batch/s, batch_nb=116, loss=0.125, v_nb=2]\n",
      "Epoch 100:  95%|█████████▍| 141/149 [00:03<00:00, 58.21batch/s, batch_nb=116, loss=0.125, v_nb=2]\n",
      "Validating:  91%|█████████ | 29/32 [00:00<00:00, 141.31batch/s]"
     ]
    },
    {
     "name": "stdout",
     "output_type": "stream",
     "text": [
      "val_loss  tensor(0.2347)\n"
     ]
    },
    {
     "name": "stderr",
     "output_type": "stream",
     "text": [
      "Epoch 100: 100%|██████████| 149/149 [00:03<00:00, 58.21batch/s, batch_nb=116, loss=0.125, v_nb=2]\n",
      "Epoch 101:  79%|███████▊  | 117/149 [00:03<00:00, 38.17batch/s, batch_nb=116, loss=0.121, v_nb=2]\n",
      "Epoch 101:  87%|████████▋ | 130/149 [00:03<00:00, 48.12batch/s, batch_nb=116, loss=0.121, v_nb=2]\n",
      "Epoch 101:  94%|█████████▍| 140/149 [00:03<00:00, 56.51batch/s, batch_nb=116, loss=0.121, v_nb=2]\n",
      "Validating:  75%|███████▌  | 24/32 [00:00<00:00, 117.50batch/s]"
     ]
    },
    {
     "name": "stdout",
     "output_type": "stream",
     "text": [
      "val_loss  tensor(0.2430)\n"
     ]
    },
    {
     "name": "stderr",
     "output_type": "stream",
     "text": [
      "Epoch 101: 100%|██████████| 149/149 [00:03<00:00, 56.51batch/s, batch_nb=116, loss=0.121, v_nb=2]\n",
      "Epoch 102:  79%|███████▊  | 117/149 [00:03<00:01, 31.39batch/s, batch_nb=116, loss=0.124, v_nb=2]\n",
      "Epoch 102:  83%|████████▎ | 123/149 [00:03<00:00, 38.05batch/s, batch_nb=116, loss=0.124, v_nb=2]\n",
      "Epoch 102:  91%|█████████▏| 136/149 [00:03<00:00, 48.08batch/s, batch_nb=116, loss=0.124, v_nb=2]\n",
      "Validating:  78%|███████▊  | 25/32 [00:00<00:00, 121.92batch/s]"
     ]
    },
    {
     "name": "stdout",
     "output_type": "stream",
     "text": [
      "val_loss  tensor(0.2431)\n"
     ]
    },
    {
     "name": "stderr",
     "output_type": "stream",
     "text": [
      "Epoch 102: 100%|██████████| 149/149 [00:03<00:00, 48.08batch/s, batch_nb=116, loss=0.124, v_nb=2]\n",
      "Epoch 102: 100%|██████████| 149/149 [00:03<00:00, 41.17batch/s, batch_nb=116, loss=0.124, v_nb=2]\n"
     ]
    },
    {
     "data": {
      "text/plain": [
       "1"
      ]
     },
     "execution_count": 19,
     "metadata": {},
     "output_type": "execute_result"
    }
   ],
   "source": [
    "# train\n",
    "# pytorch lightningは、validデータを与えるとデフォルトでearly stoppingする\n",
    "\n",
    "# custom checkpoint and early stop\n",
    "checkpoint_callback = ModelCheckpoint(\n",
    "    filepath='result/best_model/',\n",
    "    save_best_only=True,\n",
    "    verbose=True,\n",
    "    monitor='avg_val_loss',\n",
    "    mode='min'\n",
    ")\n",
    "\n",
    "model = TrafficVolumePrediction(emb_dims, num_of_cont, lin_layer_sizes)\n",
    "trainer = Trainer(default_save_path='result', max_nb_epochs=100, \n",
    "                  checkpoint_callback=checkpoint_callback)\n",
    "trainer.fit(model)"
   ]
  },
  {
   "cell_type": "markdown",
   "metadata": {},
   "source": [
    "## Predict"
   ]
  },
  {
   "cell_type": "code",
   "execution_count": 21,
   "metadata": {},
   "outputs": [
    {
     "name": "stderr",
     "output_type": "stream",
     "text": [
      "100%|██████████| 32/32 [00:00<00:00, 123.72it/s]\n"
     ]
    }
   ],
   "source": [
    "def predict(model, test_data_loader, checkpoint):\n",
    "    model.load_state_dict(checkpoint['state_dict'])\n",
    "\n",
    "    for param in model.parameters():\n",
    "        param.requires_grad = False\n",
    "        \n",
    "    model.eval()\n",
    "    test_preds = []\n",
    "    for i, (y, cont_x, cat_x) in enumerate(tqdm(test_data_loader)):\n",
    "        with torch.no_grad():\n",
    "            cat_x = cat_x.to(device)\n",
    "            cont_x = cont_x.to(device)\n",
    "            preds = model.forward(cont_x, cat_x)\n",
    "            test_preds.extend(preds.data.cpu().numpy())\n",
    "    return test_preds\n",
    "\n",
    "\n",
    "batch_size = 256\n",
    "all_test_preds = []\n",
    "checkpoint = torch.load('result/best_model/_ckpt_epoch_99.ckpt')\n",
    "test_dataset = TrafficVolumePredictionDataset(\n",
    "    data=test,\n",
    "    cont_cols=['temperature', 'rain_in_hour', 'clouds_cover'],\n",
    "    output_col=None,\n",
    "    unused_cols=['timestamp', 'Year', 'snow_in_hour', 'date']\n",
    ")\n",
    "\n",
    "test_data_loader = DataLoader(\n",
    "    test_dataset, \n",
    "    batch_size=batch_size,\n",
    "    shuffle=False\n",
    ")\n",
    "\n",
    "y_test_log_pred = predict(model, test_data_loader, checkpoint)"
   ]
  },
  {
   "cell_type": "code",
   "execution_count": 24,
   "metadata": {},
   "outputs": [],
   "source": [
    "y_test_pred = np.exp(y_test_log_pred) - 1\n",
    "\n",
    "#save predictions in rows\n",
    "save_path = './submission/embv1lgb{}.txt'.format(9263289631)\n",
    "np.savetxt(save_path, y_test_pred)"
   ]
  }
 ],
 "metadata": {
  "kernelspec": {
   "display_name": "Python 3",
   "language": "python",
   "name": "python3"
  },
  "language_info": {
   "codemirror_mode": {
    "name": "ipython",
    "version": 3
   },
   "file_extension": ".py",
   "mimetype": "text/x-python",
   "name": "python",
   "nbconvert_exporter": "python",
   "pygments_lexer": "ipython3",
   "version": "3.6.5"
  }
 },
 "nbformat": 4,
 "nbformat_minor": 4
}
