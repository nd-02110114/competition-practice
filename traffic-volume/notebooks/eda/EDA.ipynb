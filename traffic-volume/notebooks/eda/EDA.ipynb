{
 "cells": [
  {
   "cell_type": "markdown",
   "metadata": {},
   "source": [
    "# コンペ概要\n",
    "\n",
    "交通量予測\n",
    "\n",
    "### 似ているコンペ\n",
    "\n",
    "### データセット\n",
    "- 学習データ数 : 37696 (2013~2017年のデータ)\n",
    "- テストデータ数 : 7949 (2018年のデータ)\n",
    "\n",
    "テストデータの2000サンプルでスコアリングしている。スコアはRMSE。\n",
    "\n",
    "### 説明変数と目的変数\n",
    "\n",
    "#### 説明変数\n",
    "- holiday : 祝日の種類(categorical)\n",
    "- temperature : 気温(real)\n",
    "- rain_in_hour : その1時間における降水量(real) \n",
    "- snow_in_hour : その1時間における降雪量(real)\n",
    "- clouds_cover : 雲の割合(%) (real)\n",
    "- weather : 天気の種類(categorical)\n",
    "- weather_detail : より詳細な天気の種類(categorical)\n",
    "- timestamp : 日付と時間\n",
    "\n",
    "#### 目的変数\n",
    "- traffic_volume: その1時間における交通量(real)"
   ]
  },
  {
   "cell_type": "markdown",
   "metadata": {},
   "source": [
    "## 全体を俯瞰"
   ]
  },
  {
   "cell_type": "code",
   "execution_count": 1,
   "metadata": {},
   "outputs": [],
   "source": [
    "import numpy as np\n",
    "import pandas as pd\n",
    "import seaborn as sns\n",
    "\n",
    "pd.set_option('display.max_columns', 500)"
   ]
  },
  {
   "cell_type": "code",
   "execution_count": 2,
   "metadata": {},
   "outputs": [],
   "source": [
    "DATA_DIR = '../../dataset/input/'\n",
    "train_raw = pd.read_csv(DATA_DIR + 'train.csv')\n",
    "test_raw = pd.read_csv(DATA_DIR + 'test.csv')"
   ]
  },
  {
   "cell_type": "code",
   "execution_count": 3,
   "metadata": {},
   "outputs": [
    {
     "data": {
      "text/html": [
       "<div>\n",
       "<style scoped>\n",
       "    .dataframe tbody tr th:only-of-type {\n",
       "        vertical-align: middle;\n",
       "    }\n",
       "\n",
       "    .dataframe tbody tr th {\n",
       "        vertical-align: top;\n",
       "    }\n",
       "\n",
       "    .dataframe thead th {\n",
       "        text-align: right;\n",
       "    }\n",
       "</style>\n",
       "<table border=\"1\" class=\"dataframe\">\n",
       "  <thead>\n",
       "    <tr style=\"text-align: right;\">\n",
       "      <th></th>\n",
       "      <th>holiday</th>\n",
       "      <th>temperature</th>\n",
       "      <th>rain_in_hour</th>\n",
       "      <th>snow_in_hour</th>\n",
       "      <th>clouds_cover</th>\n",
       "      <th>weather</th>\n",
       "      <th>weather_detail</th>\n",
       "      <th>timestamp</th>\n",
       "      <th>traffic_volume</th>\n",
       "    </tr>\n",
       "  </thead>\n",
       "  <tbody>\n",
       "    <tr>\n",
       "      <th>0</th>\n",
       "      <td>New Years Day</td>\n",
       "      <td>263.49</td>\n",
       "      <td>0.0</td>\n",
       "      <td>0.0</td>\n",
       "      <td>58</td>\n",
       "      <td>Clouds</td>\n",
       "      <td>broken clouds</td>\n",
       "      <td>2013-01-01 00:00:00</td>\n",
       "      <td>1439</td>\n",
       "    </tr>\n",
       "    <tr>\n",
       "      <th>1</th>\n",
       "      <td>None</td>\n",
       "      <td>263.78</td>\n",
       "      <td>0.0</td>\n",
       "      <td>0.0</td>\n",
       "      <td>40</td>\n",
       "      <td>Clouds</td>\n",
       "      <td>scattered clouds</td>\n",
       "      <td>2013-01-01 01:00:00</td>\n",
       "      <td>1502</td>\n",
       "    </tr>\n",
       "    <tr>\n",
       "      <th>2</th>\n",
       "      <td>None</td>\n",
       "      <td>264.16</td>\n",
       "      <td>0.0</td>\n",
       "      <td>0.0</td>\n",
       "      <td>75</td>\n",
       "      <td>Snow</td>\n",
       "      <td>heavy snow</td>\n",
       "      <td>2013-01-01 02:00:00</td>\n",
       "      <td>933</td>\n",
       "    </tr>\n",
       "    <tr>\n",
       "      <th>3</th>\n",
       "      <td>None</td>\n",
       "      <td>263.95</td>\n",
       "      <td>0.0</td>\n",
       "      <td>0.0</td>\n",
       "      <td>90</td>\n",
       "      <td>Clouds</td>\n",
       "      <td>overcast clouds</td>\n",
       "      <td>2013-01-01 03:00:00</td>\n",
       "      <td>576</td>\n",
       "    </tr>\n",
       "    <tr>\n",
       "      <th>4</th>\n",
       "      <td>None</td>\n",
       "      <td>263.65</td>\n",
       "      <td>0.0</td>\n",
       "      <td>0.0</td>\n",
       "      <td>90</td>\n",
       "      <td>Clouds</td>\n",
       "      <td>overcast clouds</td>\n",
       "      <td>2013-01-01 04:00:00</td>\n",
       "      <td>372</td>\n",
       "    </tr>\n",
       "  </tbody>\n",
       "</table>\n",
       "</div>"
      ],
      "text/plain": [
       "         holiday  temperature  rain_in_hour  snow_in_hour  clouds_cover  \\\n",
       "0  New Years Day       263.49           0.0           0.0            58   \n",
       "1           None       263.78           0.0           0.0            40   \n",
       "2           None       264.16           0.0           0.0            75   \n",
       "3           None       263.95           0.0           0.0            90   \n",
       "4           None       263.65           0.0           0.0            90   \n",
       "\n",
       "  weather    weather_detail            timestamp  traffic_volume  \n",
       "0  Clouds     broken clouds  2013-01-01 00:00:00            1439  \n",
       "1  Clouds  scattered clouds  2013-01-01 01:00:00            1502  \n",
       "2    Snow        heavy snow  2013-01-01 02:00:00             933  \n",
       "3  Clouds   overcast clouds  2013-01-01 03:00:00             576  \n",
       "4  Clouds   overcast clouds  2013-01-01 04:00:00             372  "
      ]
     },
     "execution_count": 3,
     "metadata": {},
     "output_type": "execute_result"
    }
   ],
   "source": [
    "train_raw.head()"
   ]
  },
  {
   "cell_type": "code",
   "execution_count": 4,
   "metadata": {},
   "outputs": [
    {
     "data": {
      "text/html": [
       "<div>\n",
       "<style scoped>\n",
       "    .dataframe tbody tr th:only-of-type {\n",
       "        vertical-align: middle;\n",
       "    }\n",
       "\n",
       "    .dataframe tbody tr th {\n",
       "        vertical-align: top;\n",
       "    }\n",
       "\n",
       "    .dataframe thead th {\n",
       "        text-align: right;\n",
       "    }\n",
       "</style>\n",
       "<table border=\"1\" class=\"dataframe\">\n",
       "  <thead>\n",
       "    <tr style=\"text-align: right;\">\n",
       "      <th></th>\n",
       "      <th>holiday</th>\n",
       "      <th>temperature</th>\n",
       "      <th>rain_in_hour</th>\n",
       "      <th>snow_in_hour</th>\n",
       "      <th>clouds_cover</th>\n",
       "      <th>weather</th>\n",
       "      <th>weather_detail</th>\n",
       "      <th>timestamp</th>\n",
       "    </tr>\n",
       "  </thead>\n",
       "  <tbody>\n",
       "    <tr>\n",
       "      <th>0</th>\n",
       "      <td>New Years Day</td>\n",
       "      <td>249.36</td>\n",
       "      <td>0.0</td>\n",
       "      <td>0.0</td>\n",
       "      <td>1</td>\n",
       "      <td>Clear</td>\n",
       "      <td>sky is clear</td>\n",
       "      <td>2018-01-01 00:00:00</td>\n",
       "    </tr>\n",
       "    <tr>\n",
       "      <th>1</th>\n",
       "      <td>None</td>\n",
       "      <td>249.08</td>\n",
       "      <td>0.0</td>\n",
       "      <td>0.0</td>\n",
       "      <td>1</td>\n",
       "      <td>Clear</td>\n",
       "      <td>sky is clear</td>\n",
       "      <td>2018-01-01 01:00:00</td>\n",
       "    </tr>\n",
       "    <tr>\n",
       "      <th>2</th>\n",
       "      <td>None</td>\n",
       "      <td>248.86</td>\n",
       "      <td>0.0</td>\n",
       "      <td>0.0</td>\n",
       "      <td>1</td>\n",
       "      <td>Clear</td>\n",
       "      <td>sky is clear</td>\n",
       "      <td>2018-01-01 02:00:00</td>\n",
       "    </tr>\n",
       "    <tr>\n",
       "      <th>3</th>\n",
       "      <td>None</td>\n",
       "      <td>248.72</td>\n",
       "      <td>0.0</td>\n",
       "      <td>0.0</td>\n",
       "      <td>1</td>\n",
       "      <td>Clear</td>\n",
       "      <td>sky is clear</td>\n",
       "      <td>2018-01-01 03:00:00</td>\n",
       "    </tr>\n",
       "    <tr>\n",
       "      <th>4</th>\n",
       "      <td>None</td>\n",
       "      <td>248.43</td>\n",
       "      <td>0.0</td>\n",
       "      <td>0.0</td>\n",
       "      <td>1</td>\n",
       "      <td>Clear</td>\n",
       "      <td>sky is clear</td>\n",
       "      <td>2018-01-01 04:00:00</td>\n",
       "    </tr>\n",
       "  </tbody>\n",
       "</table>\n",
       "</div>"
      ],
      "text/plain": [
       "         holiday  temperature  rain_in_hour  snow_in_hour  clouds_cover  \\\n",
       "0  New Years Day       249.36           0.0           0.0             1   \n",
       "1           None       249.08           0.0           0.0             1   \n",
       "2           None       248.86           0.0           0.0             1   \n",
       "3           None       248.72           0.0           0.0             1   \n",
       "4           None       248.43           0.0           0.0             1   \n",
       "\n",
       "  weather weather_detail            timestamp  \n",
       "0   Clear   sky is clear  2018-01-01 00:00:00  \n",
       "1   Clear   sky is clear  2018-01-01 01:00:00  \n",
       "2   Clear   sky is clear  2018-01-01 02:00:00  \n",
       "3   Clear   sky is clear  2018-01-01 03:00:00  \n",
       "4   Clear   sky is clear  2018-01-01 04:00:00  "
      ]
     },
     "execution_count": 4,
     "metadata": {},
     "output_type": "execute_result"
    }
   ],
   "source": [
    "test_raw.head()"
   ]
  },
  {
   "cell_type": "code",
   "execution_count": 5,
   "metadata": {},
   "outputs": [
    {
     "data": {
      "text/html": [
       "<div>\n",
       "<style scoped>\n",
       "    .dataframe tbody tr th:only-of-type {\n",
       "        vertical-align: middle;\n",
       "    }\n",
       "\n",
       "    .dataframe tbody tr th {\n",
       "        vertical-align: top;\n",
       "    }\n",
       "\n",
       "    .dataframe thead th {\n",
       "        text-align: right;\n",
       "    }\n",
       "</style>\n",
       "<table border=\"1\" class=\"dataframe\">\n",
       "  <thead>\n",
       "    <tr style=\"text-align: right;\">\n",
       "      <th></th>\n",
       "      <th>temperature</th>\n",
       "      <th>rain_in_hour</th>\n",
       "      <th>snow_in_hour</th>\n",
       "      <th>clouds_cover</th>\n",
       "      <th>traffic_volume</th>\n",
       "    </tr>\n",
       "  </thead>\n",
       "  <tbody>\n",
       "    <tr>\n",
       "      <th>count</th>\n",
       "      <td>37696.000000</td>\n",
       "      <td>37696.000000</td>\n",
       "      <td>37696.000000</td>\n",
       "      <td>37696.000000</td>\n",
       "      <td>37696.000000</td>\n",
       "    </tr>\n",
       "    <tr>\n",
       "      <th>mean</th>\n",
       "      <td>281.280699</td>\n",
       "      <td>0.401765</td>\n",
       "      <td>0.000284</td>\n",
       "      <td>49.080672</td>\n",
       "      <td>3263.287458</td>\n",
       "    </tr>\n",
       "    <tr>\n",
       "      <th>std</th>\n",
       "      <td>13.422033</td>\n",
       "      <td>50.647618</td>\n",
       "      <td>0.009235</td>\n",
       "      <td>38.952748</td>\n",
       "      <td>1989.499982</td>\n",
       "    </tr>\n",
       "    <tr>\n",
       "      <th>min</th>\n",
       "      <td>0.000000</td>\n",
       "      <td>0.000000</td>\n",
       "      <td>0.000000</td>\n",
       "      <td>0.000000</td>\n",
       "      <td>0.000000</td>\n",
       "    </tr>\n",
       "    <tr>\n",
       "      <th>25%</th>\n",
       "      <td>272.580000</td>\n",
       "      <td>0.000000</td>\n",
       "      <td>0.000000</td>\n",
       "      <td>1.000000</td>\n",
       "      <td>1190.000000</td>\n",
       "    </tr>\n",
       "    <tr>\n",
       "      <th>50%</th>\n",
       "      <td>282.865000</td>\n",
       "      <td>0.000000</td>\n",
       "      <td>0.000000</td>\n",
       "      <td>64.000000</td>\n",
       "      <td>3383.000000</td>\n",
       "    </tr>\n",
       "    <tr>\n",
       "      <th>75%</th>\n",
       "      <td>291.660000</td>\n",
       "      <td>0.000000</td>\n",
       "      <td>0.000000</td>\n",
       "      <td>90.000000</td>\n",
       "      <td>4935.000000</td>\n",
       "    </tr>\n",
       "    <tr>\n",
       "      <th>max</th>\n",
       "      <td>308.240000</td>\n",
       "      <td>9831.300000</td>\n",
       "      <td>0.510000</td>\n",
       "      <td>100.000000</td>\n",
       "      <td>7280.000000</td>\n",
       "    </tr>\n",
       "  </tbody>\n",
       "</table>\n",
       "</div>"
      ],
      "text/plain": [
       "        temperature  rain_in_hour  snow_in_hour  clouds_cover  traffic_volume\n",
       "count  37696.000000  37696.000000  37696.000000  37696.000000    37696.000000\n",
       "mean     281.280699      0.401765      0.000284     49.080672     3263.287458\n",
       "std       13.422033     50.647618      0.009235     38.952748     1989.499982\n",
       "min        0.000000      0.000000      0.000000      0.000000        0.000000\n",
       "25%      272.580000      0.000000      0.000000      1.000000     1190.000000\n",
       "50%      282.865000      0.000000      0.000000     64.000000     3383.000000\n",
       "75%      291.660000      0.000000      0.000000     90.000000     4935.000000\n",
       "max      308.240000   9831.300000      0.510000    100.000000     7280.000000"
      ]
     },
     "execution_count": 5,
     "metadata": {},
     "output_type": "execute_result"
    }
   ],
   "source": [
    "train_raw.describe()"
   ]
  },
  {
   "cell_type": "code",
   "execution_count": 6,
   "metadata": {},
   "outputs": [
    {
     "data": {
      "text/plain": [
       "31939"
      ]
     },
     "execution_count": 6,
     "metadata": {},
     "output_type": "execute_result"
    }
   ],
   "source": [
    "# ????\n",
    "len(train_raw['timestamp'].unique())"
   ]
  },
  {
   "cell_type": "code",
   "execution_count": 7,
   "metadata": {},
   "outputs": [
    {
     "data": {
      "text/plain": [
       "2013-05-19 10:00:00    6\n",
       "2013-04-18 22:00:00    6\n",
       "2015-07-06 13:00:00    5\n",
       "2013-05-31 02:00:00    5\n",
       "2013-05-19 09:00:00    5\n",
       "                      ..\n",
       "2016-09-22 08:00:00    1\n",
       "2017-10-02 06:00:00    1\n",
       "2013-12-15 03:00:00    1\n",
       "2017-06-24 22:00:00    1\n",
       "2013-07-08 19:00:00    1\n",
       "Name: timestamp, Length: 31939, dtype: int64"
      ]
     },
     "execution_count": 7,
     "metadata": {},
     "output_type": "execute_result"
    }
   ],
   "source": [
    "train_raw['timestamp'].value_counts()"
   ]
  },
  {
   "cell_type": "code",
   "execution_count": 8,
   "metadata": {},
   "outputs": [
    {
     "data": {
      "text/html": [
       "<div>\n",
       "<style scoped>\n",
       "    .dataframe tbody tr th:only-of-type {\n",
       "        vertical-align: middle;\n",
       "    }\n",
       "\n",
       "    .dataframe tbody tr th {\n",
       "        vertical-align: top;\n",
       "    }\n",
       "\n",
       "    .dataframe thead th {\n",
       "        text-align: right;\n",
       "    }\n",
       "</style>\n",
       "<table border=\"1\" class=\"dataframe\">\n",
       "  <thead>\n",
       "    <tr style=\"text-align: right;\">\n",
       "      <th></th>\n",
       "      <th>holiday</th>\n",
       "      <th>temperature</th>\n",
       "      <th>rain_in_hour</th>\n",
       "      <th>snow_in_hour</th>\n",
       "      <th>clouds_cover</th>\n",
       "      <th>weather</th>\n",
       "      <th>weather_detail</th>\n",
       "      <th>timestamp</th>\n",
       "      <th>traffic_volume</th>\n",
       "    </tr>\n",
       "  </thead>\n",
       "  <tbody>\n",
       "    <tr>\n",
       "      <th>2690</th>\n",
       "      <td>None</td>\n",
       "      <td>274.79</td>\n",
       "      <td>0.0</td>\n",
       "      <td>0.0</td>\n",
       "      <td>90</td>\n",
       "      <td>Mist</td>\n",
       "      <td>mist</td>\n",
       "      <td>2013-04-18 22:00:00</td>\n",
       "      <td>1532</td>\n",
       "    </tr>\n",
       "    <tr>\n",
       "      <th>2691</th>\n",
       "      <td>None</td>\n",
       "      <td>274.79</td>\n",
       "      <td>0.0</td>\n",
       "      <td>0.0</td>\n",
       "      <td>90</td>\n",
       "      <td>Drizzle</td>\n",
       "      <td>light intensity drizzle</td>\n",
       "      <td>2013-04-18 22:00:00</td>\n",
       "      <td>1532</td>\n",
       "    </tr>\n",
       "    <tr>\n",
       "      <th>2692</th>\n",
       "      <td>None</td>\n",
       "      <td>274.79</td>\n",
       "      <td>0.0</td>\n",
       "      <td>0.0</td>\n",
       "      <td>90</td>\n",
       "      <td>Rain</td>\n",
       "      <td>light rain</td>\n",
       "      <td>2013-04-18 22:00:00</td>\n",
       "      <td>1532</td>\n",
       "    </tr>\n",
       "    <tr>\n",
       "      <th>2693</th>\n",
       "      <td>None</td>\n",
       "      <td>274.79</td>\n",
       "      <td>0.0</td>\n",
       "      <td>0.0</td>\n",
       "      <td>90</td>\n",
       "      <td>Rain</td>\n",
       "      <td>moderate rain</td>\n",
       "      <td>2013-04-18 22:00:00</td>\n",
       "      <td>1532</td>\n",
       "    </tr>\n",
       "    <tr>\n",
       "      <th>2694</th>\n",
       "      <td>None</td>\n",
       "      <td>274.79</td>\n",
       "      <td>0.0</td>\n",
       "      <td>0.0</td>\n",
       "      <td>90</td>\n",
       "      <td>Snow</td>\n",
       "      <td>heavy snow</td>\n",
       "      <td>2013-04-18 22:00:00</td>\n",
       "      <td>1532</td>\n",
       "    </tr>\n",
       "    <tr>\n",
       "      <th>2695</th>\n",
       "      <td>None</td>\n",
       "      <td>274.79</td>\n",
       "      <td>0.0</td>\n",
       "      <td>0.0</td>\n",
       "      <td>90</td>\n",
       "      <td>Snow</td>\n",
       "      <td>snow</td>\n",
       "      <td>2013-04-18 22:00:00</td>\n",
       "      <td>1532</td>\n",
       "    </tr>\n",
       "  </tbody>\n",
       "</table>\n",
       "</div>"
      ],
      "text/plain": [
       "     holiday  temperature  rain_in_hour  snow_in_hour  clouds_cover  weather  \\\n",
       "2690    None       274.79           0.0           0.0            90     Mist   \n",
       "2691    None       274.79           0.0           0.0            90  Drizzle   \n",
       "2692    None       274.79           0.0           0.0            90     Rain   \n",
       "2693    None       274.79           0.0           0.0            90     Rain   \n",
       "2694    None       274.79           0.0           0.0            90     Snow   \n",
       "2695    None       274.79           0.0           0.0            90     Snow   \n",
       "\n",
       "               weather_detail            timestamp  traffic_volume  \n",
       "2690                     mist  2013-04-18 22:00:00            1532  \n",
       "2691  light intensity drizzle  2013-04-18 22:00:00            1532  \n",
       "2692               light rain  2013-04-18 22:00:00            1532  \n",
       "2693            moderate rain  2013-04-18 22:00:00            1532  \n",
       "2694               heavy snow  2013-04-18 22:00:00            1532  \n",
       "2695                     snow  2013-04-18 22:00:00            1532  "
      ]
     },
     "execution_count": 8,
     "metadata": {},
     "output_type": "execute_result"
    }
   ],
   "source": [
    "train_raw[train_raw['timestamp'] == '2013-04-18 22:00:00']"
   ]
  },
  {
   "cell_type": "code",
   "execution_count": 9,
   "metadata": {},
   "outputs": [
    {
     "data": {
      "text/html": [
       "<div>\n",
       "<style scoped>\n",
       "    .dataframe tbody tr th:only-of-type {\n",
       "        vertical-align: middle;\n",
       "    }\n",
       "\n",
       "    .dataframe tbody tr th {\n",
       "        vertical-align: top;\n",
       "    }\n",
       "\n",
       "    .dataframe thead th {\n",
       "        text-align: right;\n",
       "    }\n",
       "</style>\n",
       "<table border=\"1\" class=\"dataframe\">\n",
       "  <thead>\n",
       "    <tr style=\"text-align: right;\">\n",
       "      <th></th>\n",
       "      <th>temperature</th>\n",
       "      <th>rain_in_hour</th>\n",
       "      <th>snow_in_hour</th>\n",
       "      <th>clouds_cover</th>\n",
       "    </tr>\n",
       "  </thead>\n",
       "  <tbody>\n",
       "    <tr>\n",
       "      <th>count</th>\n",
       "      <td>7949.000000</td>\n",
       "      <td>7949.000000</td>\n",
       "      <td>7949.0</td>\n",
       "      <td>7949.000000</td>\n",
       "    </tr>\n",
       "    <tr>\n",
       "      <th>mean</th>\n",
       "      <td>282.851502</td>\n",
       "      <td>0.121765</td>\n",
       "      <td>0.0</td>\n",
       "      <td>45.567996</td>\n",
       "    </tr>\n",
       "    <tr>\n",
       "      <th>std</th>\n",
       "      <td>13.759694</td>\n",
       "      <td>0.624227</td>\n",
       "      <td>0.0</td>\n",
       "      <td>39.461544</td>\n",
       "    </tr>\n",
       "    <tr>\n",
       "      <th>min</th>\n",
       "      <td>247.080000</td>\n",
       "      <td>0.000000</td>\n",
       "      <td>0.0</td>\n",
       "      <td>0.000000</td>\n",
       "    </tr>\n",
       "    <tr>\n",
       "      <th>25%</th>\n",
       "      <td>271.580000</td>\n",
       "      <td>0.000000</td>\n",
       "      <td>0.0</td>\n",
       "      <td>1.000000</td>\n",
       "    </tr>\n",
       "    <tr>\n",
       "      <th>50%</th>\n",
       "      <td>287.610000</td>\n",
       "      <td>0.000000</td>\n",
       "      <td>0.0</td>\n",
       "      <td>40.000000</td>\n",
       "    </tr>\n",
       "    <tr>\n",
       "      <th>75%</th>\n",
       "      <td>294.150000</td>\n",
       "      <td>0.000000</td>\n",
       "      <td>0.0</td>\n",
       "      <td>90.000000</td>\n",
       "    </tr>\n",
       "    <tr>\n",
       "      <th>max</th>\n",
       "      <td>310.070000</td>\n",
       "      <td>10.600000</td>\n",
       "      <td>0.0</td>\n",
       "      <td>92.000000</td>\n",
       "    </tr>\n",
       "  </tbody>\n",
       "</table>\n",
       "</div>"
      ],
      "text/plain": [
       "       temperature  rain_in_hour  snow_in_hour  clouds_cover\n",
       "count  7949.000000   7949.000000        7949.0   7949.000000\n",
       "mean    282.851502      0.121765           0.0     45.567996\n",
       "std      13.759694      0.624227           0.0     39.461544\n",
       "min     247.080000      0.000000           0.0      0.000000\n",
       "25%     271.580000      0.000000           0.0      1.000000\n",
       "50%     287.610000      0.000000           0.0     40.000000\n",
       "75%     294.150000      0.000000           0.0     90.000000\n",
       "max     310.070000     10.600000           0.0     92.000000"
      ]
     },
     "execution_count": 9,
     "metadata": {},
     "output_type": "execute_result"
    }
   ],
   "source": [
    "test_raw.describe()"
   ]
  },
  {
   "cell_type": "code",
   "execution_count": 10,
   "metadata": {},
   "outputs": [
    {
     "data": {
      "text/plain": [
       "2018-04-14 09:00:00    5\n",
       "2018-03-20 14:00:00    5\n",
       "2018-08-24 07:00:00    5\n",
       "2018-04-13 21:00:00    5\n",
       "2018-09-20 18:00:00    5\n",
       "                      ..\n",
       "2018-04-02 06:00:00    1\n",
       "2018-03-28 18:00:00    1\n",
       "2018-02-26 23:00:00    1\n",
       "2018-02-02 17:00:00    1\n",
       "2018-01-15 14:00:00    1\n",
       "Name: timestamp, Length: 6533, dtype: int64"
      ]
     },
     "execution_count": 10,
     "metadata": {},
     "output_type": "execute_result"
    }
   ],
   "source": [
    "test_raw['timestamp'].value_counts()"
   ]
  },
  {
   "cell_type": "code",
   "execution_count": 11,
   "metadata": {},
   "outputs": [
    {
     "data": {
      "text/html": [
       "<div>\n",
       "<style scoped>\n",
       "    .dataframe tbody tr th:only-of-type {\n",
       "        vertical-align: middle;\n",
       "    }\n",
       "\n",
       "    .dataframe tbody tr th {\n",
       "        vertical-align: top;\n",
       "    }\n",
       "\n",
       "    .dataframe thead th {\n",
       "        text-align: right;\n",
       "    }\n",
       "</style>\n",
       "<table border=\"1\" class=\"dataframe\">\n",
       "  <thead>\n",
       "    <tr style=\"text-align: right;\">\n",
       "      <th></th>\n",
       "      <th>holiday</th>\n",
       "      <th>temperature</th>\n",
       "      <th>rain_in_hour</th>\n",
       "      <th>snow_in_hour</th>\n",
       "      <th>clouds_cover</th>\n",
       "      <th>weather</th>\n",
       "      <th>weather_detail</th>\n",
       "      <th>timestamp</th>\n",
       "    </tr>\n",
       "  </thead>\n",
       "  <tbody>\n",
       "    <tr>\n",
       "      <th>7669</th>\n",
       "      <td>None</td>\n",
       "      <td>290.9</td>\n",
       "      <td>9.62</td>\n",
       "      <td>0.0</td>\n",
       "      <td>90</td>\n",
       "      <td>Rain</td>\n",
       "      <td>proximity shower rain</td>\n",
       "      <td>2018-09-20 18:00:00</td>\n",
       "    </tr>\n",
       "    <tr>\n",
       "      <th>7670</th>\n",
       "      <td>None</td>\n",
       "      <td>290.9</td>\n",
       "      <td>9.62</td>\n",
       "      <td>0.0</td>\n",
       "      <td>90</td>\n",
       "      <td>Thunderstorm</td>\n",
       "      <td>proximity thunderstorm</td>\n",
       "      <td>2018-09-20 18:00:00</td>\n",
       "    </tr>\n",
       "    <tr>\n",
       "      <th>7671</th>\n",
       "      <td>None</td>\n",
       "      <td>290.9</td>\n",
       "      <td>9.62</td>\n",
       "      <td>0.0</td>\n",
       "      <td>90</td>\n",
       "      <td>Mist</td>\n",
       "      <td>mist</td>\n",
       "      <td>2018-09-20 18:00:00</td>\n",
       "    </tr>\n",
       "    <tr>\n",
       "      <th>7672</th>\n",
       "      <td>None</td>\n",
       "      <td>290.9</td>\n",
       "      <td>9.62</td>\n",
       "      <td>0.0</td>\n",
       "      <td>90</td>\n",
       "      <td>Fog</td>\n",
       "      <td>fog</td>\n",
       "      <td>2018-09-20 18:00:00</td>\n",
       "    </tr>\n",
       "    <tr>\n",
       "      <th>7673</th>\n",
       "      <td>None</td>\n",
       "      <td>290.9</td>\n",
       "      <td>9.62</td>\n",
       "      <td>0.0</td>\n",
       "      <td>90</td>\n",
       "      <td>Haze</td>\n",
       "      <td>haze</td>\n",
       "      <td>2018-09-20 18:00:00</td>\n",
       "    </tr>\n",
       "  </tbody>\n",
       "</table>\n",
       "</div>"
      ],
      "text/plain": [
       "     holiday  temperature  rain_in_hour  snow_in_hour  clouds_cover  \\\n",
       "7669    None        290.9          9.62           0.0            90   \n",
       "7670    None        290.9          9.62           0.0            90   \n",
       "7671    None        290.9          9.62           0.0            90   \n",
       "7672    None        290.9          9.62           0.0            90   \n",
       "7673    None        290.9          9.62           0.0            90   \n",
       "\n",
       "           weather          weather_detail            timestamp  \n",
       "7669          Rain   proximity shower rain  2018-09-20 18:00:00  \n",
       "7670  Thunderstorm  proximity thunderstorm  2018-09-20 18:00:00  \n",
       "7671          Mist                    mist  2018-09-20 18:00:00  \n",
       "7672           Fog                     fog  2018-09-20 18:00:00  \n",
       "7673          Haze                    haze  2018-09-20 18:00:00  "
      ]
     },
     "execution_count": 11,
     "metadata": {},
     "output_type": "execute_result"
    }
   ],
   "source": [
    "test_raw[test_raw['timestamp'] == '2018-09-20 18:00:00']"
   ]
  },
  {
   "cell_type": "code",
   "execution_count": 12,
   "metadata": {},
   "outputs": [
    {
     "data": {
      "text/html": [
       "<div>\n",
       "<style scoped>\n",
       "    .dataframe tbody tr th:only-of-type {\n",
       "        vertical-align: middle;\n",
       "    }\n",
       "\n",
       "    .dataframe tbody tr th {\n",
       "        vertical-align: top;\n",
       "    }\n",
       "\n",
       "    .dataframe thead th {\n",
       "        text-align: right;\n",
       "    }\n",
       "</style>\n",
       "<table border=\"1\" class=\"dataframe\">\n",
       "  <thead>\n",
       "    <tr style=\"text-align: right;\">\n",
       "      <th></th>\n",
       "      <th>holiday</th>\n",
       "      <th>temperature</th>\n",
       "      <th>rain_in_hour</th>\n",
       "      <th>snow_in_hour</th>\n",
       "      <th>clouds_cover</th>\n",
       "      <th>weather</th>\n",
       "      <th>weather_detail</th>\n",
       "      <th>timestamp</th>\n",
       "    </tr>\n",
       "  </thead>\n",
       "  <tbody>\n",
       "    <tr>\n",
       "      <th>7944</th>\n",
       "      <td>None</td>\n",
       "      <td>283.45</td>\n",
       "      <td>0.0</td>\n",
       "      <td>0.0</td>\n",
       "      <td>75</td>\n",
       "      <td>Clouds</td>\n",
       "      <td>broken clouds</td>\n",
       "      <td>2018-09-30 19:00:00</td>\n",
       "    </tr>\n",
       "    <tr>\n",
       "      <th>7945</th>\n",
       "      <td>None</td>\n",
       "      <td>282.76</td>\n",
       "      <td>0.0</td>\n",
       "      <td>0.0</td>\n",
       "      <td>90</td>\n",
       "      <td>Clouds</td>\n",
       "      <td>overcast clouds</td>\n",
       "      <td>2018-09-30 20:00:00</td>\n",
       "    </tr>\n",
       "    <tr>\n",
       "      <th>7946</th>\n",
       "      <td>None</td>\n",
       "      <td>282.73</td>\n",
       "      <td>0.0</td>\n",
       "      <td>0.0</td>\n",
       "      <td>90</td>\n",
       "      <td>Thunderstorm</td>\n",
       "      <td>proximity thunderstorm</td>\n",
       "      <td>2018-09-30 21:00:00</td>\n",
       "    </tr>\n",
       "    <tr>\n",
       "      <th>7947</th>\n",
       "      <td>None</td>\n",
       "      <td>282.09</td>\n",
       "      <td>0.0</td>\n",
       "      <td>0.0</td>\n",
       "      <td>90</td>\n",
       "      <td>Clouds</td>\n",
       "      <td>overcast clouds</td>\n",
       "      <td>2018-09-30 22:00:00</td>\n",
       "    </tr>\n",
       "    <tr>\n",
       "      <th>7948</th>\n",
       "      <td>None</td>\n",
       "      <td>282.12</td>\n",
       "      <td>0.0</td>\n",
       "      <td>0.0</td>\n",
       "      <td>90</td>\n",
       "      <td>Clouds</td>\n",
       "      <td>overcast clouds</td>\n",
       "      <td>2018-09-30 23:00:00</td>\n",
       "    </tr>\n",
       "  </tbody>\n",
       "</table>\n",
       "</div>"
      ],
      "text/plain": [
       "     holiday  temperature  rain_in_hour  snow_in_hour  clouds_cover  \\\n",
       "7944    None       283.45           0.0           0.0            75   \n",
       "7945    None       282.76           0.0           0.0            90   \n",
       "7946    None       282.73           0.0           0.0            90   \n",
       "7947    None       282.09           0.0           0.0            90   \n",
       "7948    None       282.12           0.0           0.0            90   \n",
       "\n",
       "           weather          weather_detail            timestamp  \n",
       "7944        Clouds           broken clouds  2018-09-30 19:00:00  \n",
       "7945        Clouds         overcast clouds  2018-09-30 20:00:00  \n",
       "7946  Thunderstorm  proximity thunderstorm  2018-09-30 21:00:00  \n",
       "7947        Clouds         overcast clouds  2018-09-30 22:00:00  \n",
       "7948        Clouds         overcast clouds  2018-09-30 23:00:00  "
      ]
     },
     "execution_count": 12,
     "metadata": {},
     "output_type": "execute_result"
    }
   ],
   "source": [
    "test_raw.tail()"
   ]
  },
  {
   "cell_type": "code",
   "execution_count": 13,
   "metadata": {},
   "outputs": [
    {
     "name": "stdout",
     "output_type": "stream",
     "text": [
      "================================train_raw null rate================================\n",
      "holiday           0.0\n",
      "temperature       0.0\n",
      "rain_in_hour      0.0\n",
      "snow_in_hour      0.0\n",
      "clouds_cover      0.0\n",
      "weather           0.0\n",
      "weather_detail    0.0\n",
      "timestamp         0.0\n",
      "traffic_volume    0.0\n",
      "dtype: float64\n",
      "================================test_raw null rate================================\n",
      "holiday           0.0\n",
      "temperature       0.0\n",
      "rain_in_hour      0.0\n",
      "snow_in_hour      0.0\n",
      "clouds_cover      0.0\n",
      "weather           0.0\n",
      "weather_detail    0.0\n",
      "timestamp         0.0\n",
      "dtype: float64\n"
     ]
    }
   ],
   "source": [
    "print(\"================================train_raw null rate================================\")\n",
    "print(train_raw.isna().mean())\n",
    "print(\"================================test_raw null rate================================\")\n",
    "print(test_raw.isna().mean())"
   ]
  },
  {
   "cell_type": "markdown",
   "metadata": {},
   "source": [
    "### ここまでのメモ\n",
    "\n",
    "* データの欠損はない\n",
    "* `holidays`\n",
    "  * 0時の行のみアノテーションされているから、全ての行に反映させる必要性\n",
    "* trainデータの`temperature`には０がある...?\n",
    "  * 欠損値ってことか...?\n",
    "  * ちなみにtestにはみられないデータ\n",
    "  * 数によってはdropして良さそう\n",
    "* `rain_in_hour`, `snow_in_hour`の扱い\n",
    "  * trainでもtestでも両方0が75％以上入っている\n",
    "  * `snow_in_hour`については、testでは全て0なので抜いたほうがいいのか...?\n",
    "  * `rain_in_hour`の大きすぎるデータについても、学習の際は除くべきかも\n",
    "* **同じ時刻で違う天気の情報が入ったデータがある**\n",
    "* テストデータの期間は、2018/01/01~2019/09/30"
   ]
  },
  {
   "cell_type": "markdown",
   "metadata": {},
   "source": [
    "## 細かい点を調査"
   ]
  },
  {
   "cell_type": "code",
   "execution_count": 14,
   "metadata": {},
   "outputs": [
    {
     "data": {
      "text/html": [
       "<div>\n",
       "<style scoped>\n",
       "    .dataframe tbody tr th:only-of-type {\n",
       "        vertical-align: middle;\n",
       "    }\n",
       "\n",
       "    .dataframe tbody tr th {\n",
       "        vertical-align: top;\n",
       "    }\n",
       "\n",
       "    .dataframe thead th {\n",
       "        text-align: right;\n",
       "    }\n",
       "</style>\n",
       "<table border=\"1\" class=\"dataframe\">\n",
       "  <thead>\n",
       "    <tr style=\"text-align: right;\">\n",
       "      <th></th>\n",
       "      <th>holiday</th>\n",
       "      <th>temperature</th>\n",
       "      <th>rain_in_hour</th>\n",
       "      <th>snow_in_hour</th>\n",
       "      <th>clouds_cover</th>\n",
       "      <th>weather</th>\n",
       "      <th>weather_detail</th>\n",
       "      <th>timestamp</th>\n",
       "      <th>traffic_volume</th>\n",
       "    </tr>\n",
       "  </thead>\n",
       "  <tbody>\n",
       "    <tr>\n",
       "      <th>9339</th>\n",
       "      <td>None</td>\n",
       "      <td>0.0</td>\n",
       "      <td>0.0</td>\n",
       "      <td>0.0</td>\n",
       "      <td>0</td>\n",
       "      <td>Clear</td>\n",
       "      <td>sky is clear</td>\n",
       "      <td>2014-01-31 03:00:00</td>\n",
       "      <td>361</td>\n",
       "    </tr>\n",
       "    <tr>\n",
       "      <th>9340</th>\n",
       "      <td>None</td>\n",
       "      <td>0.0</td>\n",
       "      <td>0.0</td>\n",
       "      <td>0.0</td>\n",
       "      <td>0</td>\n",
       "      <td>Clear</td>\n",
       "      <td>sky is clear</td>\n",
       "      <td>2014-01-31 04:00:00</td>\n",
       "      <td>734</td>\n",
       "    </tr>\n",
       "    <tr>\n",
       "      <th>9341</th>\n",
       "      <td>None</td>\n",
       "      <td>0.0</td>\n",
       "      <td>0.0</td>\n",
       "      <td>0.0</td>\n",
       "      <td>0</td>\n",
       "      <td>Clear</td>\n",
       "      <td>sky is clear</td>\n",
       "      <td>2014-01-31 05:00:00</td>\n",
       "      <td>2557</td>\n",
       "    </tr>\n",
       "    <tr>\n",
       "      <th>9342</th>\n",
       "      <td>None</td>\n",
       "      <td>0.0</td>\n",
       "      <td>0.0</td>\n",
       "      <td>0.0</td>\n",
       "      <td>0</td>\n",
       "      <td>Clear</td>\n",
       "      <td>sky is clear</td>\n",
       "      <td>2014-01-31 06:00:00</td>\n",
       "      <td>5150</td>\n",
       "    </tr>\n",
       "    <tr>\n",
       "      <th>9387</th>\n",
       "      <td>None</td>\n",
       "      <td>0.0</td>\n",
       "      <td>0.0</td>\n",
       "      <td>0.0</td>\n",
       "      <td>0</td>\n",
       "      <td>Clear</td>\n",
       "      <td>sky is clear</td>\n",
       "      <td>2014-02-02 03:00:00</td>\n",
       "      <td>291</td>\n",
       "    </tr>\n",
       "    <tr>\n",
       "      <th>9388</th>\n",
       "      <td>None</td>\n",
       "      <td>0.0</td>\n",
       "      <td>0.0</td>\n",
       "      <td>0.0</td>\n",
       "      <td>0</td>\n",
       "      <td>Clear</td>\n",
       "      <td>sky is clear</td>\n",
       "      <td>2014-02-02 04:00:00</td>\n",
       "      <td>284</td>\n",
       "    </tr>\n",
       "    <tr>\n",
       "      <th>9389</th>\n",
       "      <td>None</td>\n",
       "      <td>0.0</td>\n",
       "      <td>0.0</td>\n",
       "      <td>0.0</td>\n",
       "      <td>0</td>\n",
       "      <td>Clear</td>\n",
       "      <td>sky is clear</td>\n",
       "      <td>2014-02-02 05:00:00</td>\n",
       "      <td>434</td>\n",
       "    </tr>\n",
       "    <tr>\n",
       "      <th>9390</th>\n",
       "      <td>None</td>\n",
       "      <td>0.0</td>\n",
       "      <td>0.0</td>\n",
       "      <td>0.0</td>\n",
       "      <td>0</td>\n",
       "      <td>Clear</td>\n",
       "      <td>sky is clear</td>\n",
       "      <td>2014-02-02 06:00:00</td>\n",
       "      <td>739</td>\n",
       "    </tr>\n",
       "    <tr>\n",
       "      <th>9391</th>\n",
       "      <td>None</td>\n",
       "      <td>0.0</td>\n",
       "      <td>0.0</td>\n",
       "      <td>0.0</td>\n",
       "      <td>0</td>\n",
       "      <td>Clear</td>\n",
       "      <td>sky is clear</td>\n",
       "      <td>2014-02-02 07:00:00</td>\n",
       "      <td>962</td>\n",
       "    </tr>\n",
       "    <tr>\n",
       "      <th>9392</th>\n",
       "      <td>None</td>\n",
       "      <td>0.0</td>\n",
       "      <td>0.0</td>\n",
       "      <td>0.0</td>\n",
       "      <td>0</td>\n",
       "      <td>Clear</td>\n",
       "      <td>sky is clear</td>\n",
       "      <td>2014-02-02 08:00:00</td>\n",
       "      <td>1670</td>\n",
       "    </tr>\n",
       "  </tbody>\n",
       "</table>\n",
       "</div>"
      ],
      "text/plain": [
       "     holiday  temperature  rain_in_hour  snow_in_hour  clouds_cover weather  \\\n",
       "9339    None          0.0           0.0           0.0             0   Clear   \n",
       "9340    None          0.0           0.0           0.0             0   Clear   \n",
       "9341    None          0.0           0.0           0.0             0   Clear   \n",
       "9342    None          0.0           0.0           0.0             0   Clear   \n",
       "9387    None          0.0           0.0           0.0             0   Clear   \n",
       "9388    None          0.0           0.0           0.0             0   Clear   \n",
       "9389    None          0.0           0.0           0.0             0   Clear   \n",
       "9390    None          0.0           0.0           0.0             0   Clear   \n",
       "9391    None          0.0           0.0           0.0             0   Clear   \n",
       "9392    None          0.0           0.0           0.0             0   Clear   \n",
       "\n",
       "     weather_detail            timestamp  traffic_volume  \n",
       "9339   sky is clear  2014-01-31 03:00:00             361  \n",
       "9340   sky is clear  2014-01-31 04:00:00             734  \n",
       "9341   sky is clear  2014-01-31 05:00:00            2557  \n",
       "9342   sky is clear  2014-01-31 06:00:00            5150  \n",
       "9387   sky is clear  2014-02-02 03:00:00             291  \n",
       "9388   sky is clear  2014-02-02 04:00:00             284  \n",
       "9389   sky is clear  2014-02-02 05:00:00             434  \n",
       "9390   sky is clear  2014-02-02 06:00:00             739  \n",
       "9391   sky is clear  2014-02-02 07:00:00             962  \n",
       "9392   sky is clear  2014-02-02 08:00:00            1670  "
      ]
     },
     "execution_count": 14,
     "metadata": {},
     "output_type": "execute_result"
    }
   ],
   "source": [
    "# temperatureが０になっている怪しいデータを取り出す\n",
    "# -> 数件だったので取り除く\n",
    "train_raw[train_raw['temperature'] == 0]"
   ]
  },
  {
   "cell_type": "code",
   "execution_count": 15,
   "metadata": {},
   "outputs": [
    {
     "data": {
      "text/html": [
       "<div>\n",
       "<style scoped>\n",
       "    .dataframe tbody tr th:only-of-type {\n",
       "        vertical-align: middle;\n",
       "    }\n",
       "\n",
       "    .dataframe tbody tr th {\n",
       "        vertical-align: top;\n",
       "    }\n",
       "\n",
       "    .dataframe thead th {\n",
       "        text-align: right;\n",
       "    }\n",
       "</style>\n",
       "<table border=\"1\" class=\"dataframe\">\n",
       "  <thead>\n",
       "    <tr style=\"text-align: right;\">\n",
       "      <th></th>\n",
       "      <th>holiday</th>\n",
       "      <th>temperature</th>\n",
       "      <th>rain_in_hour</th>\n",
       "      <th>snow_in_hour</th>\n",
       "      <th>clouds_cover</th>\n",
       "      <th>weather</th>\n",
       "      <th>weather_detail</th>\n",
       "      <th>timestamp</th>\n",
       "      <th>traffic_volume</th>\n",
       "    </tr>\n",
       "  </thead>\n",
       "  <tbody>\n",
       "    <tr>\n",
       "      <th>5688</th>\n",
       "      <td>None</td>\n",
       "      <td>289.10</td>\n",
       "      <td>55.63</td>\n",
       "      <td>0.0</td>\n",
       "      <td>68</td>\n",
       "      <td>Rain</td>\n",
       "      <td>very heavy rain</td>\n",
       "      <td>2013-08-07 02:00:00</td>\n",
       "      <td>315</td>\n",
       "    </tr>\n",
       "    <tr>\n",
       "      <th>22313</th>\n",
       "      <td>None</td>\n",
       "      <td>302.11</td>\n",
       "      <td>9831.30</td>\n",
       "      <td>0.0</td>\n",
       "      <td>75</td>\n",
       "      <td>Rain</td>\n",
       "      <td>very heavy rain</td>\n",
       "      <td>2016-07-11 17:00:00</td>\n",
       "      <td>5535</td>\n",
       "    </tr>\n",
       "  </tbody>\n",
       "</table>\n",
       "</div>"
      ],
      "text/plain": [
       "      holiday  temperature  rain_in_hour  snow_in_hour  clouds_cover weather  \\\n",
       "5688     None       289.10         55.63           0.0            68    Rain   \n",
       "22313    None       302.11       9831.30           0.0            75    Rain   \n",
       "\n",
       "        weather_detail            timestamp  traffic_volume  \n",
       "5688   very heavy rain  2013-08-07 02:00:00             315  \n",
       "22313  very heavy rain  2016-07-11 17:00:00            5535  "
      ]
     },
     "execution_count": 15,
     "metadata": {},
     "output_type": "execute_result"
    }
   ],
   "source": [
    "# rain_in_hourは一件だけ以上にでかいので、このレコードも除く\n",
    "train_raw[train_raw['rain_in_hour'] > 50]"
   ]
  },
  {
   "cell_type": "code",
   "execution_count": 16,
   "metadata": {},
   "outputs": [
    {
     "data": {
      "text/plain": [
       "Clouds          12045\n",
       "Clear           10679\n",
       "Rain             4535\n",
       "Mist             4403\n",
       "Snow             2158\n",
       "Drizzle          1448\n",
       "Haze              984\n",
       "Thunderstorm      753\n",
       "Fog               669\n",
       "Smoke              18\n",
       "Squall              4\n",
       "Name: weather, dtype: int64"
      ]
     },
     "execution_count": 16,
     "metadata": {},
     "output_type": "execute_result"
    }
   ],
   "source": [
    "# カテゴリ変数\n",
    "# 11種類\n",
    "train_raw['weather'].value_counts()"
   ]
  },
  {
   "cell_type": "code",
   "execution_count": 17,
   "metadata": {},
   "outputs": [
    {
     "data": {
      "text/plain": [
       "Clear           2328\n",
       "Clouds          1997\n",
       "Mist            1099\n",
       "Rain             992\n",
       "Snow             521\n",
       "Drizzle          278\n",
       "Haze             272\n",
       "Thunderstorm     268\n",
       "Fog              192\n",
       "Smoke              2\n",
       "Name: weather, dtype: int64"
      ]
     },
     "execution_count": 17,
     "metadata": {},
     "output_type": "execute_result"
    }
   ],
   "source": [
    "test_raw['weather'].value_counts()"
   ]
  },
  {
   "cell_type": "code",
   "execution_count": 18,
   "metadata": {},
   "outputs": [
    {
     "data": {
      "text/plain": [
       "sky is clear                           8966\n",
       "mist                                   4403\n",
       "overcast clouds                        4037\n",
       "broken clouds                          3723\n",
       "scattered clouds                       2732\n",
       "light rain                             2715\n",
       "Sky is Clear                           1713\n",
       "few clouds                             1553\n",
       "light snow                             1531\n",
       "moderate rain                          1313\n",
       "haze                                    984\n",
       "light intensity drizzle                 843\n",
       "fog                                     669\n",
       "drizzle                                 547\n",
       "proximity thunderstorm                  483\n",
       "heavy snow                              411\n",
       "heavy intensity rain                    383\n",
       "snow                                    199\n",
       "proximity shower rain                    93\n",
       "thunderstorm                             88\n",
       "heavy intensity drizzle                  56\n",
       "thunderstorm with heavy rain             54\n",
       "thunderstorm with light rain             38\n",
       "proximity thunderstorm with rain         37\n",
       "thunderstorm with rain                   31\n",
       "very heavy rain                          18\n",
       "smoke                                    18\n",
       "proximity thunderstorm with drizzle      12\n",
       "light intensity shower rain              11\n",
       "light shower snow                         8\n",
       "thunderstorm with light drizzle           8\n",
       "light rain and snow                       6\n",
       "SQUALLS                                   4\n",
       "freezing rain                             2\n",
       "shower drizzle                            2\n",
       "sleet                                     2\n",
       "thunderstorm with drizzle                 2\n",
       "shower snow                               1\n",
       "Name: weather_detail, dtype: int64"
      ]
     },
     "execution_count": 18,
     "metadata": {},
     "output_type": "execute_result"
    }
   ],
   "source": [
    "# カテゴリ変数\n",
    "# 38種類\n",
    "train_raw['weather_detail'].value_counts()"
   ]
  },
  {
   "cell_type": "code",
   "execution_count": 19,
   "metadata": {},
   "outputs": [
    {
     "data": {
      "text/plain": [
       "sky is clear                           2315\n",
       "mist                                   1099\n",
       "broken clouds                           655\n",
       "scattered clouds                        564\n",
       "overcast clouds                         552\n",
       "light rain                              548\n",
       "light snow                              415\n",
       "moderate rain                           320\n",
       "haze                                    272\n",
       "few clouds                              226\n",
       "fog                                     192\n",
       "light intensity drizzle                 192\n",
       "proximity thunderstorm                  183\n",
       "heavy intensity rain                     80\n",
       "drizzle                                  75\n",
       "snow                                     74\n",
       "proximity shower rain                    42\n",
       "thunderstorm                             37\n",
       "heavy snow                               28\n",
       "proximity thunderstorm with rain         14\n",
       "thunderstorm with light rain             13\n",
       "Sky is Clear                             13\n",
       "heavy intensity drizzle                   7\n",
       "thunderstorm with heavy rain              7\n",
       "thunderstorm with light drizzle           7\n",
       "thunderstorm with rain                    6\n",
       "shower drizzle                            4\n",
       "light shower snow                         3\n",
       "light intensity shower rain               2\n",
       "smoke                                     2\n",
       "proximity thunderstorm with drizzle       1\n",
       "sleet                                     1\n",
       "Name: weather_detail, dtype: int64"
      ]
     },
     "execution_count": 19,
     "metadata": {},
     "output_type": "execute_result"
    }
   ],
   "source": [
    "test_raw['weather_detail'].value_counts()"
   ]
  },
  {
   "cell_type": "code",
   "execution_count": 20,
   "metadata": {},
   "outputs": [
    {
     "data": {
      "text/plain": [
       "<matplotlib.axes._subplots.AxesSubplot at 0x121f9a080>"
      ]
     },
     "execution_count": 20,
     "metadata": {},
     "output_type": "execute_result"
    },
    {
     "data": {
      "image/png": "[encoded data removed]",
      "text/plain": [
       "<Figure size 432x288 with 1 Axes>"
      ]
     },
     "metadata": {
      "needs_background": "light"
     },
     "output_type": "display_data"
    }
   ],
   "source": [
    "# 目的変数の分布\n",
    "# 割と満遍なく広がっている印象\n",
    "train_raw['traffic_volume'].hist(bins=100)"
   ]
  },
  {
   "cell_type": "markdown",
   "metadata": {},
   "source": [
    "### ここまでのメモ (前処理の方針)\n",
    "* ベースラインの設定\n",
    "  * `temperature`が0のデータと`rain_in_hour`が9831.30のデータは除く\n",
    "  * 目的変数は標準化か対数変換\n",
    "  * 日付データは、Year, Month, Day, DayOfWeek, DayOfYear, WeekOfYear, WeekOfMonthで分解\n",
    "  * モデルはLGBMのデフォルトパラメータ\n",
    "  * validationはrandom split (8:2)"
   ]
  },
  {
   "cell_type": "markdown",
   "metadata": {},
   "source": [
    "## 交通量と時間の関係"
   ]
  },
  {
   "cell_type": "code",
   "execution_count": 21,
   "metadata": {},
   "outputs": [
    {
     "data": {
      "text/plain": [
       "<matplotlib.axes._subplots.AxesSubplot at 0x121ce4940>"
      ]
     },
     "execution_count": 21,
     "metadata": {},
     "output_type": "execute_result"
    },
    {
     "data": {
      "image/png": "[encoded data removed]",
      "text/plain": [
       "<Figure size 432x288 with 1 Axes>"
      ]
     },
     "metadata": {
      "needs_background": "light"
     },
     "output_type": "display_data"
    }
   ],
   "source": [
    "# とりあえず全期間表示\n",
    "# 空白の期間がある...?\n",
    "train_raw['date'] = pd.to_datetime(train_raw['timestamp'])\n",
    "train_raw[['date','traffic_volume']].set_index('date').plot()"
   ]
  },
  {
   "cell_type": "markdown",
   "metadata": {},
   "source": [
    "### 1年の変化"
   ]
  },
  {
   "cell_type": "code",
   "execution_count": 22,
   "metadata": {},
   "outputs": [
    {
     "data": {
      "text/plain": [
       "<matplotlib.axes._subplots.AxesSubplot at 0x1228761d0>"
      ]
     },
     "execution_count": 22,
     "metadata": {},
     "output_type": "execute_result"
    },
    {
     "data": {
      "image/png": "[encoded data removed]",
      "text/plain": [
       "<Figure size 432x288 with 1 Axes>"
      ]
     },
     "metadata": {
      "needs_background": "light"
     },
     "output_type": "display_data"
    }
   ],
   "source": [
    "# 季節的な傾向はあんまりなさそう\n",
    "# ここにも欠損っぽい空白の期間がみられる\n",
    "train_raw[0:(24*365)][['date','traffic_volume']].set_index('date').plot()"
   ]
  },
  {
   "cell_type": "code",
   "execution_count": 23,
   "metadata": {},
   "outputs": [
    {
     "data": {
      "text/plain": [
       "<matplotlib.axes._subplots.AxesSubplot at 0x122080588>"
      ]
     },
     "execution_count": 23,
     "metadata": {},
     "output_type": "execute_result"
    },
    {
     "data": {
      "image/png": "[encoded data removed]",
      "text/plain": [
       "<Figure size 432x288 with 1 Axes>"
      ]
     },
     "metadata": {
      "needs_background": "light"
     },
     "output_type": "display_data"
    }
   ],
   "source": [
    "train_raw[(24*365):(48*365)][['date','traffic_volume']].set_index('date').plot()"
   ]
  },
  {
   "cell_type": "markdown",
   "metadata": {},
   "source": [
    "### 1ヶ月の変化"
   ]
  },
  {
   "cell_type": "code",
   "execution_count": 24,
   "metadata": {},
   "outputs": [
    {
     "data": {
      "text/plain": [
       "<matplotlib.axes._subplots.AxesSubplot at 0x122ae3b70>"
      ]
     },
     "execution_count": 24,
     "metadata": {},
     "output_type": "execute_result"
    },
    {
     "data": {
      "image/png": "[encoded data removed]",
      "text/plain": [
       "<Figure size 432x288 with 1 Axes>"
      ]
     },
     "metadata": {
      "needs_background": "light"
     },
     "output_type": "display_data"
    }
   ],
   "source": [
    "# 一定間隔で落ち込んでいる...?\n",
    "train_raw[0:(24*31)][['date','traffic_volume']].set_index('date').plot()"
   ]
  },
  {
   "cell_type": "code",
   "execution_count": 25,
   "metadata": {},
   "outputs": [
    {
     "data": {
      "text/plain": [
       "<matplotlib.axes._subplots.AxesSubplot at 0x122c05128>"
      ]
     },
     "execution_count": 25,
     "metadata": {},
     "output_type": "execute_result"
    },
    {
     "data": {
      "image/png": "[encoded data removed]",
      "text/plain": [
       "<Figure size 432x288 with 1 Axes>"
      ]
     },
     "metadata": {
      "needs_background": "light"
     },
     "output_type": "display_data"
    }
   ],
   "source": [
    "# こっちも以外とそんな感じの傾向取れる\n",
    "train_raw[(24*31):(24*60)][['date','traffic_volume']].set_index('date').plot()"
   ]
  },
  {
   "cell_type": "markdown",
   "metadata": {},
   "source": [
    "### 1週間の変化"
   ]
  },
  {
   "cell_type": "code",
   "execution_count": 26,
   "metadata": {},
   "outputs": [
    {
     "data": {
      "text/plain": [
       "<matplotlib.axes._subplots.AxesSubplot at 0x122d95c50>"
      ]
     },
     "execution_count": 26,
     "metadata": {},
     "output_type": "execute_result"
    },
    {
     "data": {
      "image/png": "[encoded data removed]",
      "text/plain": [
       "<Figure size 432x288 with 1 Axes>"
      ]
     },
     "metadata": {
      "needs_background": "light"
     },
     "output_type": "display_data"
    }
   ],
   "source": [
    "# 一定間隔で落ち込んでいる...?\n",
    "train_raw[0:(24*7)][['date','traffic_volume']].set_index('date').plot()"
   ]
  },
  {
   "cell_type": "code",
   "execution_count": 27,
   "metadata": {},
   "outputs": [
    {
     "data": {
      "text/plain": [
       "<matplotlib.axes._subplots.AxesSubplot at 0x122d7fcc0>"
      ]
     },
     "execution_count": 27,
     "metadata": {},
     "output_type": "execute_result"
    },
    {
     "data": {
      "image/png": "[encoded data removed]",
      "text/plain": [
       "<Figure size 432x288 with 1 Axes>"
      ]
     },
     "metadata": {
      "needs_background": "light"
     },
     "output_type": "display_data"
    }
   ],
   "source": [
    "train_raw[(24*7):(24*14)][['date','traffic_volume']].set_index('date').plot()"
   ]
  },
  {
   "cell_type": "markdown",
   "metadata": {},
   "source": [
    "### 1日の変化"
   ]
  },
  {
   "cell_type": "code",
   "execution_count": 28,
   "metadata": {},
   "outputs": [
    {
     "data": {
      "text/plain": [
       "<matplotlib.axes._subplots.AxesSubplot at 0x122f469e8>"
      ]
     },
     "execution_count": 28,
     "metadata": {},
     "output_type": "execute_result"
    },
    {
     "data": {
      "image/png": "[encoded data removed]",
      "text/plain": [
       "<Figure size 432x288 with 1 Axes>"
      ]
     },
     "metadata": {
      "needs_background": "light"
     },
     "output_type": "display_data"
    }
   ],
   "source": [
    "train_raw[10800:10824][['date','traffic_volume']].set_index('date').plot()"
   ]
  },
  {
   "cell_type": "code",
   "execution_count": 29,
   "metadata": {},
   "outputs": [
    {
     "data": {
      "text/plain": [
       "<matplotlib.axes._subplots.AxesSubplot at 0x123014c88>"
      ]
     },
     "execution_count": 29,
     "metadata": {},
     "output_type": "execute_result"
    },
    {
     "data": {
      "image/png": "[encoded data removed]",
      "text/plain": [
       "<Figure size 432x288 with 1 Axes>"
      ]
     },
     "metadata": {
      "needs_background": "light"
     },
     "output_type": "display_data"
    }
   ],
   "source": [
    "train_raw[0:24][['date','traffic_volume']].set_index('date').plot()"
   ]
  },
  {
   "cell_type": "code",
   "execution_count": 30,
   "metadata": {},
   "outputs": [
    {
     "data": {
      "text/html": [
       "<div>\n",
       "<style scoped>\n",
       "    .dataframe tbody tr th:only-of-type {\n",
       "        vertical-align: middle;\n",
       "    }\n",
       "\n",
       "    .dataframe tbody tr th {\n",
       "        vertical-align: top;\n",
       "    }\n",
       "\n",
       "    .dataframe thead th {\n",
       "        text-align: right;\n",
       "    }\n",
       "</style>\n",
       "<table border=\"1\" class=\"dataframe\">\n",
       "  <thead>\n",
       "    <tr style=\"text-align: right;\">\n",
       "      <th></th>\n",
       "      <th>temperature</th>\n",
       "      <th>rain_in_hour</th>\n",
       "      <th>snow_in_hour</th>\n",
       "      <th>clouds_cover</th>\n",
       "      <th>traffic_volume</th>\n",
       "    </tr>\n",
       "    <tr>\n",
       "      <th>Hour</th>\n",
       "      <th></th>\n",
       "      <th></th>\n",
       "      <th></th>\n",
       "      <th></th>\n",
       "      <th></th>\n",
       "    </tr>\n",
       "  </thead>\n",
       "  <tbody>\n",
       "    <tr>\n",
       "      <th>0</th>\n",
       "      <td>280.028735</td>\n",
       "      <td>0.152802</td>\n",
       "      <td>0.000310</td>\n",
       "      <td>44.128952</td>\n",
       "      <td>844.197148</td>\n",
       "    </tr>\n",
       "    <tr>\n",
       "      <th>1</th>\n",
       "      <td>279.547784</td>\n",
       "      <td>0.131727</td>\n",
       "      <td>0.000379</td>\n",
       "      <td>44.039752</td>\n",
       "      <td>520.684472</td>\n",
       "    </tr>\n",
       "    <tr>\n",
       "      <th>2</th>\n",
       "      <td>279.360413</td>\n",
       "      <td>0.131019</td>\n",
       "      <td>0.000000</td>\n",
       "      <td>43.780000</td>\n",
       "      <td>391.898750</td>\n",
       "    </tr>\n",
       "    <tr>\n",
       "      <th>3</th>\n",
       "      <td>278.914779</td>\n",
       "      <td>0.188138</td>\n",
       "      <td>0.000101</td>\n",
       "      <td>42.746042</td>\n",
       "      <td>372.226092</td>\n",
       "    </tr>\n",
       "    <tr>\n",
       "      <th>4</th>\n",
       "      <td>278.464863</td>\n",
       "      <td>0.159045</td>\n",
       "      <td>0.000061</td>\n",
       "      <td>45.500306</td>\n",
       "      <td>701.162890</td>\n",
       "    </tr>\n",
       "    <tr>\n",
       "      <th>5</th>\n",
       "      <td>278.477405</td>\n",
       "      <td>0.196309</td>\n",
       "      <td>0.000062</td>\n",
       "      <td>44.971893</td>\n",
       "      <td>2084.489069</td>\n",
       "    </tr>\n",
       "    <tr>\n",
       "      <th>6</th>\n",
       "      <td>278.317741</td>\n",
       "      <td>0.228109</td>\n",
       "      <td>0.000061</td>\n",
       "      <td>46.073665</td>\n",
       "      <td>4167.179251</td>\n",
       "    </tr>\n",
       "    <tr>\n",
       "      <th>7</th>\n",
       "      <td>278.549577</td>\n",
       "      <td>0.216679</td>\n",
       "      <td>0.000062</td>\n",
       "      <td>50.630314</td>\n",
       "      <td>4742.792976</td>\n",
       "    </tr>\n",
       "    <tr>\n",
       "      <th>8</th>\n",
       "      <td>278.811960</td>\n",
       "      <td>0.151082</td>\n",
       "      <td>0.000155</td>\n",
       "      <td>51.987021</td>\n",
       "      <td>4608.443758</td>\n",
       "    </tr>\n",
       "    <tr>\n",
       "      <th>9</th>\n",
       "      <td>279.856928</td>\n",
       "      <td>0.137881</td>\n",
       "      <td>0.000265</td>\n",
       "      <td>51.616279</td>\n",
       "      <td>4386.964470</td>\n",
       "    </tr>\n",
       "    <tr>\n",
       "      <th>10</th>\n",
       "      <td>280.648377</td>\n",
       "      <td>0.108298</td>\n",
       "      <td>0.000068</td>\n",
       "      <td>52.922935</td>\n",
       "      <td>4189.753391</td>\n",
       "    </tr>\n",
       "    <tr>\n",
       "      <th>11</th>\n",
       "      <td>282.075903</td>\n",
       "      <td>0.158294</td>\n",
       "      <td>0.000000</td>\n",
       "      <td>51.453042</td>\n",
       "      <td>4475.000661</td>\n",
       "    </tr>\n",
       "    <tr>\n",
       "      <th>12</th>\n",
       "      <td>282.957583</td>\n",
       "      <td>0.093744</td>\n",
       "      <td>0.001409</td>\n",
       "      <td>52.452055</td>\n",
       "      <td>4729.360078</td>\n",
       "    </tr>\n",
       "    <tr>\n",
       "      <th>13</th>\n",
       "      <td>283.472982</td>\n",
       "      <td>0.135706</td>\n",
       "      <td>0.000338</td>\n",
       "      <td>52.124916</td>\n",
       "      <td>4728.403106</td>\n",
       "    </tr>\n",
       "    <tr>\n",
       "      <th>14</th>\n",
       "      <td>284.338353</td>\n",
       "      <td>0.099157</td>\n",
       "      <td>0.000687</td>\n",
       "      <td>54.094034</td>\n",
       "      <td>4949.089494</td>\n",
       "    </tr>\n",
       "    <tr>\n",
       "      <th>15</th>\n",
       "      <td>284.737660</td>\n",
       "      <td>0.081430</td>\n",
       "      <td>0.000253</td>\n",
       "      <td>53.034574</td>\n",
       "      <td>5252.468750</td>\n",
       "    </tr>\n",
       "    <tr>\n",
       "      <th>16</th>\n",
       "      <td>284.625534</td>\n",
       "      <td>0.132424</td>\n",
       "      <td>0.000579</td>\n",
       "      <td>53.360129</td>\n",
       "      <td>5675.801929</td>\n",
       "    </tr>\n",
       "    <tr>\n",
       "      <th>17</th>\n",
       "      <td>284.542227</td>\n",
       "      <td>6.646236</td>\n",
       "      <td>0.000000</td>\n",
       "      <td>53.762094</td>\n",
       "      <td>5341.854208</td>\n",
       "    </tr>\n",
       "    <tr>\n",
       "      <th>18</th>\n",
       "      <td>284.446894</td>\n",
       "      <td>0.070238</td>\n",
       "      <td>0.000116</td>\n",
       "      <td>52.067611</td>\n",
       "      <td>4283.009659</td>\n",
       "    </tr>\n",
       "    <tr>\n",
       "      <th>19</th>\n",
       "      <td>283.542489</td>\n",
       "      <td>0.122139</td>\n",
       "      <td>0.000000</td>\n",
       "      <td>50.626553</td>\n",
       "      <td>3287.383257</td>\n",
       "    </tr>\n",
       "    <tr>\n",
       "      <th>20</th>\n",
       "      <td>282.758704</td>\n",
       "      <td>0.115503</td>\n",
       "      <td>0.000000</td>\n",
       "      <td>49.717784</td>\n",
       "      <td>2841.853093</td>\n",
       "    </tr>\n",
       "    <tr>\n",
       "      <th>21</th>\n",
       "      <td>282.011590</td>\n",
       "      <td>0.197131</td>\n",
       "      <td>0.000642</td>\n",
       "      <td>48.052632</td>\n",
       "      <td>2688.302953</td>\n",
       "    </tr>\n",
       "    <tr>\n",
       "      <th>22</th>\n",
       "      <td>281.059987</td>\n",
       "      <td>0.119429</td>\n",
       "      <td>0.000558</td>\n",
       "      <td>45.773621</td>\n",
       "      <td>2215.937857</td>\n",
       "    </tr>\n",
       "    <tr>\n",
       "      <th>23</th>\n",
       "      <td>280.457514</td>\n",
       "      <td>0.113827</td>\n",
       "      <td>0.000755</td>\n",
       "      <td>44.560991</td>\n",
       "      <td>1472.624768</td>\n",
       "    </tr>\n",
       "  </tbody>\n",
       "</table>\n",
       "</div>"
      ],
      "text/plain": [
       "      temperature  rain_in_hour  snow_in_hour  clouds_cover  traffic_volume\n",
       "Hour                                                                       \n",
       "0      280.028735      0.152802      0.000310     44.128952      844.197148\n",
       "1      279.547784      0.131727      0.000379     44.039752      520.684472\n",
       "2      279.360413      0.131019      0.000000     43.780000      391.898750\n",
       "3      278.914779      0.188138      0.000101     42.746042      372.226092\n",
       "4      278.464863      0.159045      0.000061     45.500306      701.162890\n",
       "5      278.477405      0.196309      0.000062     44.971893     2084.489069\n",
       "6      278.317741      0.228109      0.000061     46.073665     4167.179251\n",
       "7      278.549577      0.216679      0.000062     50.630314     4742.792976\n",
       "8      278.811960      0.151082      0.000155     51.987021     4608.443758\n",
       "9      279.856928      0.137881      0.000265     51.616279     4386.964470\n",
       "10     280.648377      0.108298      0.000068     52.922935     4189.753391\n",
       "11     282.075903      0.158294      0.000000     51.453042     4475.000661\n",
       "12     282.957583      0.093744      0.001409     52.452055     4729.360078\n",
       "13     283.472982      0.135706      0.000338     52.124916     4728.403106\n",
       "14     284.338353      0.099157      0.000687     54.094034     4949.089494\n",
       "15     284.737660      0.081430      0.000253     53.034574     5252.468750\n",
       "16     284.625534      0.132424      0.000579     53.360129     5675.801929\n",
       "17     284.542227      6.646236      0.000000     53.762094     5341.854208\n",
       "18     284.446894      0.070238      0.000116     52.067611     4283.009659\n",
       "19     283.542489      0.122139      0.000000     50.626553     3287.383257\n",
       "20     282.758704      0.115503      0.000000     49.717784     2841.853093\n",
       "21     282.011590      0.197131      0.000642     48.052632     2688.302953\n",
       "22     281.059987      0.119429      0.000558     45.773621     2215.937857\n",
       "23     280.457514      0.113827      0.000755     44.560991     1472.624768"
      ]
     },
     "execution_count": 30,
     "metadata": {},
     "output_type": "execute_result"
    }
   ],
   "source": [
    "# Hourごとにgroupbyして平均をみてみる\n",
    "train_raw['Hour'] = train_raw['date'].apply(lambda x: x.hour)\n",
    "train_raw.groupby('Hour').mean()"
   ]
  },
  {
   "cell_type": "code",
   "execution_count": 31,
   "metadata": {},
   "outputs": [
    {
     "data": {
      "text/plain": [
       "<matplotlib.axes._subplots.AxesSubplot at 0x126514940>"
      ]
     },
     "execution_count": 31,
     "metadata": {},
     "output_type": "execute_result"
    },
    {
     "data": {
      "image/png": "[encoded data removed]",
      "text/plain": [
       "<Figure size 432x288 with 1 Axes>"
      ]
     },
     "metadata": {
      "needs_background": "light"
     },
     "output_type": "display_data"
    }
   ],
   "source": [
    "train_raw.groupby('Hour').mean()['traffic_volume'].plot()"
   ]
  }
 ],
 "metadata": {
  "kernelspec": {
   "display_name": "Python 3",
   "language": "python",
   "name": "python3"
  },
  "language_info": {
   "codemirror_mode": {
    "name": "ipython",
    "version": 3
   },
   "file_extension": ".py",
   "mimetype": "text/x-python",
   "name": "python",
   "nbconvert_exporter": "python",
   "pygments_lexer": "ipython3",
   "version": "3.6.5"
  }
 },
 "nbformat": 4,
 "nbformat_minor": 4
}
